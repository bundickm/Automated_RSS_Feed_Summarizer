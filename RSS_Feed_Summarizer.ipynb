{
  "nbformat": 4,
  "nbformat_minor": 0,
  "metadata": {
    "colab": {
      "name": "RSS Feed Summarizer.ipynb",
      "provenance": [],
      "collapsed_sections": [],
      "include_colab_link": true
    },
    "kernelspec": {
      "name": "python3",
      "display_name": "Python 3"
    }
  },
  "cells": [
    {
      "cell_type": "markdown",
      "metadata": {
        "id": "view-in-github",
        "colab_type": "text"
      },
      "source": [
        "<a href=\"https://colab.research.google.com/github/bundickm/Automated_RSS_Feed_Summarizer/blob/master/RSS_Feed_Summarizer.ipynb\" target=\"_parent\"><img src=\"https://colab.research.google.com/assets/colab-badge.svg\" alt=\"Open In Colab\"/></a>"
      ]
    },
    {
      "cell_type": "markdown",
      "metadata": {
        "id": "5BHJK6xqv_j5",
        "colab_type": "text"
      },
      "source": [
        "# Pull From RSS Feed"
      ]
    },
    {
      "cell_type": "code",
      "metadata": {
        "id": "sTqRpc7au48t",
        "colab_type": "code",
        "outputId": "f50e99ad-63cf-402e-ea4f-fdad010a7d86",
        "colab": {
          "base_uri": "https://localhost:8080/",
          "height": 35
        }
      },
      "source": [
        "!pip install feedparser"
      ],
      "execution_count": 49,
      "outputs": [
        {
          "output_type": "stream",
          "text": [
            "Requirement already satisfied: feedparser in /usr/local/lib/python3.6/dist-packages (5.2.1)\n"
          ],
          "name": "stdout"
        }
      ]
    },
    {
      "cell_type": "code",
      "metadata": {
        "id": "auabIRUztyfU",
        "colab_type": "code",
        "colab": {}
      },
      "source": [
        "import feedparser # pip install feedparser\n",
        "\n",
        "reader = feedparser.parse('http://rss.cnn.com/rss/cnn_topstories.rss')\n",
        "# .. skipped handling http errors, cacheing ..\n",
        "\n",
        "parsed_feed = []\n",
        "for entry in reader.entries:\n",
        "  parsed_feed.append({\n",
        "      'title': entry.title,\n",
        "      'url': entry.link,\n",
        "      'description': entry.description})  "
      ],
      "execution_count": 0,
      "outputs": []
    },
    {
      "cell_type": "code",
      "metadata": {
        "id": "0upWamGnvD7L",
        "colab_type": "code",
        "outputId": "d2734d0b-1a77-44e4-8005-ba24207b373a",
        "colab": {
          "base_uri": "https://localhost:8080/",
          "height": 1000
        }
      },
      "source": [
        "parsed_feed"
      ],
      "execution_count": 88,
      "outputs": [
        {
          "output_type": "execute_result",
          "data": {
            "text/plain": [
              "[{'description': 'Tensions that have been mounting for months between some of the nation\\'s most senior military officers and President Donald Trump are boiling over after his decision to intervene in the cases of three service members accused of war crimes.<div class=\"feedflare\">\\n<a href=\"http://rss.cnn.com/~ff/rss/cnn_topstories?a=0Z4wIIAT3QU:sL94ANKI4H0:yIl2AUoC8zA\"><img src=\"http://feeds.feedburner.com/~ff/rss/cnn_topstories?d=yIl2AUoC8zA\" border=\"0\"></img></a> <a href=\"http://rss.cnn.com/~ff/rss/cnn_topstories?a=0Z4wIIAT3QU:sL94ANKI4H0:7Q72WNTAKBA\"><img src=\"http://feeds.feedburner.com/~ff/rss/cnn_topstories?d=7Q72WNTAKBA\" border=\"0\"></img></a> <a href=\"http://rss.cnn.com/~ff/rss/cnn_topstories?a=0Z4wIIAT3QU:sL94ANKI4H0:V_sGLiPBpWU\"><img src=\"http://feeds.feedburner.com/~ff/rss/cnn_topstories?i=0Z4wIIAT3QU:sL94ANKI4H0:V_sGLiPBpWU\" border=\"0\"></img></a> <a href=\"http://rss.cnn.com/~ff/rss/cnn_topstories?a=0Z4wIIAT3QU:sL94ANKI4H0:qj6IDK7rITs\"><img src=\"http://feeds.feedburner.com/~ff/rss/cnn_topstories?d=qj6IDK7rITs\" border=\"0\"></img></a> <a href=\"http://rss.cnn.com/~ff/rss/cnn_topstories?a=0Z4wIIAT3QU:sL94ANKI4H0:gIN9vFwOqvQ\"><img src=\"http://feeds.feedburner.com/~ff/rss/cnn_topstories?i=0Z4wIIAT3QU:sL94ANKI4H0:gIN9vFwOqvQ\" border=\"0\"></img></a>\\n</div><img src=\"http://feeds.feedburner.com/~r/rss/cnn_topstories/~4/0Z4wIIAT3QU\" height=\"1\" width=\"1\" alt=\"\"/>',\n",
              "  'title': 'Tensions are boiling over between senior military officers and the President over his intervention in cases of service members accused of war crimes',\n",
              "  'url': 'http://rss.cnn.com/~r/rss/cnn_topstories/~3/0Z4wIIAT3QU/index.html'},\n",
              " {'description': 'Recently ousted Navy Secretary Richard Spencer detailed President Donald Trump\\'s intervention in a war crimes case in a Washington Post op-ed Wednesday, calling the President\\'s actions \"shocking and unprecedented.\"<div class=\"feedflare\">\\n<a href=\"http://rss.cnn.com/~ff/rss/cnn_topstories?a=KXfAK7PBYTk:QDSQcdombg8:yIl2AUoC8zA\"><img src=\"http://feeds.feedburner.com/~ff/rss/cnn_topstories?d=yIl2AUoC8zA\" border=\"0\"></img></a> <a href=\"http://rss.cnn.com/~ff/rss/cnn_topstories?a=KXfAK7PBYTk:QDSQcdombg8:7Q72WNTAKBA\"><img src=\"http://feeds.feedburner.com/~ff/rss/cnn_topstories?d=7Q72WNTAKBA\" border=\"0\"></img></a> <a href=\"http://rss.cnn.com/~ff/rss/cnn_topstories?a=KXfAK7PBYTk:QDSQcdombg8:V_sGLiPBpWU\"><img src=\"http://feeds.feedburner.com/~ff/rss/cnn_topstories?i=KXfAK7PBYTk:QDSQcdombg8:V_sGLiPBpWU\" border=\"0\"></img></a> <a href=\"http://rss.cnn.com/~ff/rss/cnn_topstories?a=KXfAK7PBYTk:QDSQcdombg8:qj6IDK7rITs\"><img src=\"http://feeds.feedburner.com/~ff/rss/cnn_topstories?d=qj6IDK7rITs\" border=\"0\"></img></a> <a href=\"http://rss.cnn.com/~ff/rss/cnn_topstories?a=KXfAK7PBYTk:QDSQcdombg8:gIN9vFwOqvQ\"><img src=\"http://feeds.feedburner.com/~ff/rss/cnn_topstories?i=KXfAK7PBYTk:QDSQcdombg8:gIN9vFwOqvQ\" border=\"0\"></img></a>\\n</div><img src=\"http://feeds.feedburner.com/~r/rss/cnn_topstories/~4/KXfAK7PBYTk\" height=\"1\" width=\"1\" alt=\"\"/>',\n",
              "  'title': \"Ousted Navy secretary calls Trump's war crimes intervention 'shocking and unprecedented'\",\n",
              "  'url': 'http://rss.cnn.com/~r/rss/cnn_topstories/~3/KXfAK7PBYTk/index.html'},\n",
              " {'description': 'Former Navy Secretary Richard Spencer penned a Washington Post op-ed critical of President Trump after being ousted when Trump intervened in the case of a Navy SEAL accused of war crimes.<div class=\"feedflare\">\\n<a href=\"http://rss.cnn.com/~ff/rss/cnn_topstories?a=-j80vMUNfnI:M5jcghTcsNY:yIl2AUoC8zA\"><img src=\"http://feeds.feedburner.com/~ff/rss/cnn_topstories?d=yIl2AUoC8zA\" border=\"0\"></img></a> <a href=\"http://rss.cnn.com/~ff/rss/cnn_topstories?a=-j80vMUNfnI:M5jcghTcsNY:7Q72WNTAKBA\"><img src=\"http://feeds.feedburner.com/~ff/rss/cnn_topstories?d=7Q72WNTAKBA\" border=\"0\"></img></a> <a href=\"http://rss.cnn.com/~ff/rss/cnn_topstories?a=-j80vMUNfnI:M5jcghTcsNY:V_sGLiPBpWU\"><img src=\"http://feeds.feedburner.com/~ff/rss/cnn_topstories?i=-j80vMUNfnI:M5jcghTcsNY:V_sGLiPBpWU\" border=\"0\"></img></a> <a href=\"http://rss.cnn.com/~ff/rss/cnn_topstories?a=-j80vMUNfnI:M5jcghTcsNY:qj6IDK7rITs\"><img src=\"http://feeds.feedburner.com/~ff/rss/cnn_topstories?d=qj6IDK7rITs\" border=\"0\"></img></a> <a href=\"http://rss.cnn.com/~ff/rss/cnn_topstories?a=-j80vMUNfnI:M5jcghTcsNY:gIN9vFwOqvQ\"><img src=\"http://feeds.feedburner.com/~ff/rss/cnn_topstories?i=-j80vMUNfnI:M5jcghTcsNY:gIN9vFwOqvQ\" border=\"0\"></img></a>\\n</div><img src=\"http://feeds.feedburner.com/~r/rss/cnn_topstories/~4/-j80vMUNfnI\" height=\"1\" width=\"1\" alt=\"\"/>',\n",
              "  'title': 'Former security adviser: This statement is damning',\n",
              "  'url': 'http://rss.cnn.com/~r/rss/cnn_topstories/~3/-j80vMUNfnI/richard-spencer-navy-op-ed-eddie-gallagher-tsr-vpx.cnn'},\n",
              " {'description': 'President Donald Trump touted his move to intervene in the cases of three service members accused of war crimes at a campaign rally on Tuesday, framing the objections he faced from senior Pentagon officials as coming from the \"deep state.\"<div class=\"feedflare\">\\n<a href=\"http://rss.cnn.com/~ff/rss/cnn_topstories?a=N2eSmPXUo8o:gihtqXm41qE:yIl2AUoC8zA\"><img src=\"http://feeds.feedburner.com/~ff/rss/cnn_topstories?d=yIl2AUoC8zA\" border=\"0\"></img></a> <a href=\"http://rss.cnn.com/~ff/rss/cnn_topstories?a=N2eSmPXUo8o:gihtqXm41qE:7Q72WNTAKBA\"><img src=\"http://feeds.feedburner.com/~ff/rss/cnn_topstories?d=7Q72WNTAKBA\" border=\"0\"></img></a> <a href=\"http://rss.cnn.com/~ff/rss/cnn_topstories?a=N2eSmPXUo8o:gihtqXm41qE:V_sGLiPBpWU\"><img src=\"http://feeds.feedburner.com/~ff/rss/cnn_topstories?i=N2eSmPXUo8o:gihtqXm41qE:V_sGLiPBpWU\" border=\"0\"></img></a> <a href=\"http://rss.cnn.com/~ff/rss/cnn_topstories?a=N2eSmPXUo8o:gihtqXm41qE:qj6IDK7rITs\"><img src=\"http://feeds.feedburner.com/~ff/rss/cnn_topstories?d=qj6IDK7rITs\" border=\"0\"></img></a> <a href=\"http://rss.cnn.com/~ff/rss/cnn_topstories?a=N2eSmPXUo8o:gihtqXm41qE:gIN9vFwOqvQ\"><img src=\"http://feeds.feedburner.com/~ff/rss/cnn_topstories?i=N2eSmPXUo8o:gihtqXm41qE:gIN9vFwOqvQ\" border=\"0\"></img></a>\\n</div><img src=\"http://feeds.feedburner.com/~r/rss/cnn_topstories/~4/N2eSmPXUo8o\" height=\"1\" width=\"1\" alt=\"\"/>',\n",
              "  'title': \"Trump defends military pardons over objections from 'deep state'\",\n",
              "  'url': 'http://rss.cnn.com/~r/rss/cnn_topstories/~3/N2eSmPXUo8o/index.html'},\n",
              " {'description': 'On Monday, President Donald Trump called Navy SEAL Eddie Gallagher \"one of our ultimate fighters.\"<div class=\"feedflare\">\\n<a href=\"http://rss.cnn.com/~ff/rss/cnn_topstories?a=S1gXaGV0G1E:G5rLXeCrN48:yIl2AUoC8zA\"><img src=\"http://feeds.feedburner.com/~ff/rss/cnn_topstories?d=yIl2AUoC8zA\" border=\"0\"></img></a> <a href=\"http://rss.cnn.com/~ff/rss/cnn_topstories?a=S1gXaGV0G1E:G5rLXeCrN48:7Q72WNTAKBA\"><img src=\"http://feeds.feedburner.com/~ff/rss/cnn_topstories?d=7Q72WNTAKBA\" border=\"0\"></img></a> <a href=\"http://rss.cnn.com/~ff/rss/cnn_topstories?a=S1gXaGV0G1E:G5rLXeCrN48:V_sGLiPBpWU\"><img src=\"http://feeds.feedburner.com/~ff/rss/cnn_topstories?i=S1gXaGV0G1E:G5rLXeCrN48:V_sGLiPBpWU\" border=\"0\"></img></a> <a href=\"http://rss.cnn.com/~ff/rss/cnn_topstories?a=S1gXaGV0G1E:G5rLXeCrN48:qj6IDK7rITs\"><img src=\"http://feeds.feedburner.com/~ff/rss/cnn_topstories?d=qj6IDK7rITs\" border=\"0\"></img></a> <a href=\"http://rss.cnn.com/~ff/rss/cnn_topstories?a=S1gXaGV0G1E:G5rLXeCrN48:gIN9vFwOqvQ\"><img src=\"http://feeds.feedburner.com/~ff/rss/cnn_topstories?i=S1gXaGV0G1E:G5rLXeCrN48:gIN9vFwOqvQ\" border=\"0\"></img></a>\\n</div><img src=\"http://feeds.feedburner.com/~r/rss/cnn_topstories/~4/S1gXaGV0G1E\" height=\"1\" width=\"1\" alt=\"\"/>',\n",
              "  'title': \"Analysis: What Trump doesn't get about Eddie Gallagher\",\n",
              "  'url': 'http://rss.cnn.com/~r/rss/cnn_topstories/~3/S1gXaGV0G1E/index.html'},\n",
              " {'description': 'The legal and administrative case surrounding whether Navy SEAL Chief Eddie Gallagher will be allowed to retain his status as a SEAL took an interesting turn late Sunday, with the abrupt departure of Navy Secretary Richard Spencer from his position.<div class=\"feedflare\">\\n<a href=\"http://rss.cnn.com/~ff/rss/cnn_topstories?a=95jkEkcTGcE:M_hL1G47qgQ:yIl2AUoC8zA\"><img src=\"http://feeds.feedburner.com/~ff/rss/cnn_topstories?d=yIl2AUoC8zA\" border=\"0\"></img></a> <a href=\"http://rss.cnn.com/~ff/rss/cnn_topstories?a=95jkEkcTGcE:M_hL1G47qgQ:7Q72WNTAKBA\"><img src=\"http://feeds.feedburner.com/~ff/rss/cnn_topstories?d=7Q72WNTAKBA\" border=\"0\"></img></a> <a href=\"http://rss.cnn.com/~ff/rss/cnn_topstories?a=95jkEkcTGcE:M_hL1G47qgQ:V_sGLiPBpWU\"><img src=\"http://feeds.feedburner.com/~ff/rss/cnn_topstories?i=95jkEkcTGcE:M_hL1G47qgQ:V_sGLiPBpWU\" border=\"0\"></img></a> <a href=\"http://rss.cnn.com/~ff/rss/cnn_topstories?a=95jkEkcTGcE:M_hL1G47qgQ:qj6IDK7rITs\"><img src=\"http://feeds.feedburner.com/~ff/rss/cnn_topstories?d=qj6IDK7rITs\" border=\"0\"></img></a> <a href=\"http://rss.cnn.com/~ff/rss/cnn_topstories?a=95jkEkcTGcE:M_hL1G47qgQ:gIN9vFwOqvQ\"><img src=\"http://feeds.feedburner.com/~ff/rss/cnn_topstories?i=95jkEkcTGcE:M_hL1G47qgQ:gIN9vFwOqvQ\" border=\"0\"></img></a>\\n</div><img src=\"http://feeds.feedburner.com/~r/rss/cnn_topstories/~4/95jkEkcTGcE\" height=\"1\" width=\"1\" alt=\"\"/>',\n",
              "  'title': 'Opinion: A Navy commander will have to clean up the SEAL mess',\n",
              "  'url': 'http://rss.cnn.com/~r/rss/cnn_topstories/~3/95jkEkcTGcE/index.html'},\n",
              " {'description': 'Defense Secretary Mark Esper said he was \"flabbergasted\" to discover that then-Navy Secretary Richard Spencer had been working a White House back channel to resolve a standoff over controversial Navy SEAL Eddie Gallagher.<div class=\"feedflare\">\\n<a href=\"http://rss.cnn.com/~ff/rss/cnn_topstories?a=spMFbI6FqgI:vbcSeL5QNws:yIl2AUoC8zA\"><img src=\"http://feeds.feedburner.com/~ff/rss/cnn_topstories?d=yIl2AUoC8zA\" border=\"0\"></img></a> <a href=\"http://rss.cnn.com/~ff/rss/cnn_topstories?a=spMFbI6FqgI:vbcSeL5QNws:7Q72WNTAKBA\"><img src=\"http://feeds.feedburner.com/~ff/rss/cnn_topstories?d=7Q72WNTAKBA\" border=\"0\"></img></a> <a href=\"http://rss.cnn.com/~ff/rss/cnn_topstories?a=spMFbI6FqgI:vbcSeL5QNws:V_sGLiPBpWU\"><img src=\"http://feeds.feedburner.com/~ff/rss/cnn_topstories?i=spMFbI6FqgI:vbcSeL5QNws:V_sGLiPBpWU\" border=\"0\"></img></a> <a href=\"http://rss.cnn.com/~ff/rss/cnn_topstories?a=spMFbI6FqgI:vbcSeL5QNws:qj6IDK7rITs\"><img src=\"http://feeds.feedburner.com/~ff/rss/cnn_topstories?d=qj6IDK7rITs\" border=\"0\"></img></a> <a href=\"http://rss.cnn.com/~ff/rss/cnn_topstories?a=spMFbI6FqgI:vbcSeL5QNws:gIN9vFwOqvQ\"><img src=\"http://feeds.feedburner.com/~ff/rss/cnn_topstories?i=spMFbI6FqgI:vbcSeL5QNws:gIN9vFwOqvQ\" border=\"0\"></img></a>\\n</div><img src=\"http://feeds.feedburner.com/~r/rss/cnn_topstories/~4/spMFbI6FqgI\" height=\"1\" width=\"1\" alt=\"\"/>',\n",
              "  'title': \"Esper 'flabbergasted' to learn of Navy secretary's secret White House outreach about Navy SEAL\",\n",
              "  'url': 'http://rss.cnn.com/~r/rss/cnn_topstories/~3/spMFbI6FqgI/index.html'},\n",
              " {'description': '• Storm tracker: Keep up with the weather \\n• It\\'s not the first time winter storms have ruined Thanksgiving travel. Here are 5 others\\n• These are the worst US storms in history<div class=\"feedflare\">\\n<a href=\"http://rss.cnn.com/~ff/rss/cnn_topstories?a=4EQjdWJTASg:WpCrvh5D6Rc:yIl2AUoC8zA\"><img src=\"http://feeds.feedburner.com/~ff/rss/cnn_topstories?d=yIl2AUoC8zA\" border=\"0\"></img></a> <a href=\"http://rss.cnn.com/~ff/rss/cnn_topstories?a=4EQjdWJTASg:WpCrvh5D6Rc:7Q72WNTAKBA\"><img src=\"http://feeds.feedburner.com/~ff/rss/cnn_topstories?d=7Q72WNTAKBA\" border=\"0\"></img></a> <a href=\"http://rss.cnn.com/~ff/rss/cnn_topstories?a=4EQjdWJTASg:WpCrvh5D6Rc:V_sGLiPBpWU\"><img src=\"http://feeds.feedburner.com/~ff/rss/cnn_topstories?i=4EQjdWJTASg:WpCrvh5D6Rc:V_sGLiPBpWU\" border=\"0\"></img></a> <a href=\"http://rss.cnn.com/~ff/rss/cnn_topstories?a=4EQjdWJTASg:WpCrvh5D6Rc:qj6IDK7rITs\"><img src=\"http://feeds.feedburner.com/~ff/rss/cnn_topstories?d=qj6IDK7rITs\" border=\"0\"></img></a> <a href=\"http://rss.cnn.com/~ff/rss/cnn_topstories?a=4EQjdWJTASg:WpCrvh5D6Rc:gIN9vFwOqvQ\"><img src=\"http://feeds.feedburner.com/~ff/rss/cnn_topstories?i=4EQjdWJTASg:WpCrvh5D6Rc:gIN9vFwOqvQ\" border=\"0\"></img></a>\\n</div><img src=\"http://feeds.feedburner.com/~r/rss/cnn_topstories/~4/4EQjdWJTASg\" height=\"1\" width=\"1\" alt=\"\"/>',\n",
              "  'title': 'More than 4,000 flights have been delayed today ahead of Thanksgiving',\n",
              "  'url': 'http://rss.cnn.com/~r/rss/cnn_topstories/~3/4EQjdWJTASg/index.html'},\n",
              " {'description': '• Huge leaks are exposing Xinjiang\\'s re-education camps\\n• TikTok could be getting into the streaming music business<div class=\"feedflare\">\\n<a href=\"http://rss.cnn.com/~ff/rss/cnn_topstories?a=td2_CZd7HV8:q_fWBOtSAjI:yIl2AUoC8zA\"><img src=\"http://feeds.feedburner.com/~ff/rss/cnn_topstories?d=yIl2AUoC8zA\" border=\"0\"></img></a> <a href=\"http://rss.cnn.com/~ff/rss/cnn_topstories?a=td2_CZd7HV8:q_fWBOtSAjI:7Q72WNTAKBA\"><img src=\"http://feeds.feedburner.com/~ff/rss/cnn_topstories?d=7Q72WNTAKBA\" border=\"0\"></img></a> <a href=\"http://rss.cnn.com/~ff/rss/cnn_topstories?a=td2_CZd7HV8:q_fWBOtSAjI:V_sGLiPBpWU\"><img src=\"http://feeds.feedburner.com/~ff/rss/cnn_topstories?i=td2_CZd7HV8:q_fWBOtSAjI:V_sGLiPBpWU\" border=\"0\"></img></a> <a href=\"http://rss.cnn.com/~ff/rss/cnn_topstories?a=td2_CZd7HV8:q_fWBOtSAjI:qj6IDK7rITs\"><img src=\"http://feeds.feedburner.com/~ff/rss/cnn_topstories?d=qj6IDK7rITs\" border=\"0\"></img></a> <a href=\"http://rss.cnn.com/~ff/rss/cnn_topstories?a=td2_CZd7HV8:q_fWBOtSAjI:gIN9vFwOqvQ\"><img src=\"http://feeds.feedburner.com/~ff/rss/cnn_topstories?i=td2_CZd7HV8:q_fWBOtSAjI:gIN9vFwOqvQ\" border=\"0\"></img></a>\\n</div><img src=\"http://feeds.feedburner.com/~r/rss/cnn_topstories/~4/td2_CZd7HV8\" height=\"1\" width=\"1\" alt=\"\"/>',\n",
              "  'title': 'A TikTok beauty video with a hidden message has gone viral',\n",
              "  'url': 'http://rss.cnn.com/~r/rss/cnn_topstories/~3/td2_CZd7HV8/index.html'},\n",
              " {'description': 'An explosion rocked a Texas chemical plant early Wednesday, causing extensive damage across the small city of Port Neches and leaving at least three employees injured.<div class=\"feedflare\">\\n<a href=\"http://rss.cnn.com/~ff/rss/cnn_topstories?a=QMTB8zYp9Os:sCpmvOXvYxQ:yIl2AUoC8zA\"><img src=\"http://feeds.feedburner.com/~ff/rss/cnn_topstories?d=yIl2AUoC8zA\" border=\"0\"></img></a> <a href=\"http://rss.cnn.com/~ff/rss/cnn_topstories?a=QMTB8zYp9Os:sCpmvOXvYxQ:7Q72WNTAKBA\"><img src=\"http://feeds.feedburner.com/~ff/rss/cnn_topstories?d=7Q72WNTAKBA\" border=\"0\"></img></a> <a href=\"http://rss.cnn.com/~ff/rss/cnn_topstories?a=QMTB8zYp9Os:sCpmvOXvYxQ:V_sGLiPBpWU\"><img src=\"http://feeds.feedburner.com/~ff/rss/cnn_topstories?i=QMTB8zYp9Os:sCpmvOXvYxQ:V_sGLiPBpWU\" border=\"0\"></img></a> <a href=\"http://rss.cnn.com/~ff/rss/cnn_topstories?a=QMTB8zYp9Os:sCpmvOXvYxQ:qj6IDK7rITs\"><img src=\"http://feeds.feedburner.com/~ff/rss/cnn_topstories?d=qj6IDK7rITs\" border=\"0\"></img></a> <a href=\"http://rss.cnn.com/~ff/rss/cnn_topstories?a=QMTB8zYp9Os:sCpmvOXvYxQ:gIN9vFwOqvQ\"><img src=\"http://feeds.feedburner.com/~ff/rss/cnn_topstories?i=QMTB8zYp9Os:sCpmvOXvYxQ:gIN9vFwOqvQ\" border=\"0\"></img></a>\\n</div><img src=\"http://feeds.feedburner.com/~r/rss/cnn_topstories/~4/QMTB8zYp9Os\" height=\"1\" width=\"1\" alt=\"\"/>',\n",
              "  'title': 'Another explosion rocks a chemical plant',\n",
              "  'url': 'http://rss.cnn.com/~r/rss/cnn_topstories/~3/QMTB8zYp9Os/index.html'},\n",
              " {'description': 'President Trump said that he plans to designate Mexican drug cartels as foreign terrorist organizations. The Mexican president responded by warning against US intervention in Mexico.<div class=\"feedflare\">\\n<a href=\"http://rss.cnn.com/~ff/rss/cnn_topstories?a=yPTsi7IvALU:akJUUfc54Kk:yIl2AUoC8zA\"><img src=\"http://feeds.feedburner.com/~ff/rss/cnn_topstories?d=yIl2AUoC8zA\" border=\"0\"></img></a> <a href=\"http://rss.cnn.com/~ff/rss/cnn_topstories?a=yPTsi7IvALU:akJUUfc54Kk:7Q72WNTAKBA\"><img src=\"http://feeds.feedburner.com/~ff/rss/cnn_topstories?d=7Q72WNTAKBA\" border=\"0\"></img></a> <a href=\"http://rss.cnn.com/~ff/rss/cnn_topstories?a=yPTsi7IvALU:akJUUfc54Kk:V_sGLiPBpWU\"><img src=\"http://feeds.feedburner.com/~ff/rss/cnn_topstories?i=yPTsi7IvALU:akJUUfc54Kk:V_sGLiPBpWU\" border=\"0\"></img></a> <a href=\"http://rss.cnn.com/~ff/rss/cnn_topstories?a=yPTsi7IvALU:akJUUfc54Kk:qj6IDK7rITs\"><img src=\"http://feeds.feedburner.com/~ff/rss/cnn_topstories?d=qj6IDK7rITs\" border=\"0\"></img></a> <a href=\"http://rss.cnn.com/~ff/rss/cnn_topstories?a=yPTsi7IvALU:akJUUfc54Kk:gIN9vFwOqvQ\"><img src=\"http://feeds.feedburner.com/~ff/rss/cnn_topstories?i=yPTsi7IvALU:akJUUfc54Kk:gIN9vFwOqvQ\" border=\"0\"></img></a>\\n</div><img src=\"http://feeds.feedburner.com/~r/rss/cnn_topstories/~4/yPTsi7IvALU\" height=\"1\" width=\"1\" alt=\"\"/>',\n",
              "  'title': \"Why Mexico is worried about Trump's latest move\",\n",
              "  'url': 'http://rss.cnn.com/~r/rss/cnn_topstories/~3/yPTsi7IvALU/trump-mexican-drug-cartels-terror-group-designation-rivers-vpx.cnn'},\n",
              " {'description': 'The Justice Department\\'s inspector general did not find any evidence that the FBI had tried to put undercover agents or informants inside Donald Trump\\'s 2016 presidential campaign, people familiar with a draft of the inspector general\\'s report told The New York Times.<div class=\"feedflare\">\\n<a href=\"http://rss.cnn.com/~ff/rss/cnn_topstories?a=3LjOxDB9r5w:gCdkz7o1DnU:yIl2AUoC8zA\"><img src=\"http://feeds.feedburner.com/~ff/rss/cnn_topstories?d=yIl2AUoC8zA\" border=\"0\"></img></a> <a href=\"http://rss.cnn.com/~ff/rss/cnn_topstories?a=3LjOxDB9r5w:gCdkz7o1DnU:7Q72WNTAKBA\"><img src=\"http://feeds.feedburner.com/~ff/rss/cnn_topstories?d=7Q72WNTAKBA\" border=\"0\"></img></a> <a href=\"http://rss.cnn.com/~ff/rss/cnn_topstories?a=3LjOxDB9r5w:gCdkz7o1DnU:V_sGLiPBpWU\"><img src=\"http://feeds.feedburner.com/~ff/rss/cnn_topstories?i=3LjOxDB9r5w:gCdkz7o1DnU:V_sGLiPBpWU\" border=\"0\"></img></a> <a href=\"http://rss.cnn.com/~ff/rss/cnn_topstories?a=3LjOxDB9r5w:gCdkz7o1DnU:qj6IDK7rITs\"><img src=\"http://feeds.feedburner.com/~ff/rss/cnn_topstories?d=qj6IDK7rITs\" border=\"0\"></img></a> <a href=\"http://rss.cnn.com/~ff/rss/cnn_topstories?a=3LjOxDB9r5w:gCdkz7o1DnU:gIN9vFwOqvQ\"><img src=\"http://feeds.feedburner.com/~ff/rss/cnn_topstories?i=3LjOxDB9r5w:gCdkz7o1DnU:gIN9vFwOqvQ\" border=\"0\"></img></a>\\n</div><img src=\"http://feeds.feedburner.com/~r/rss/cnn_topstories/~4/3LjOxDB9r5w\" height=\"1\" width=\"1\" alt=\"\"/>',\n",
              "  'title': \"NYT: FBI did not try to place undercover agents inside Trump campaign, DOJ inspector general's report expected to find\",\n",
              "  'url': 'http://rss.cnn.com/~r/rss/cnn_topstories/~3/3LjOxDB9r5w/index.html'},\n",
              " {'description': 'President Donald Trump on Tuesday denied that he directed his personal lawyer Rudy Giuliani to go to Ukraine and seek out investigations on his behalf, contradicting his own words to the Ukrainian President in the White House released transcript of the July 25 call.<div class=\"feedflare\">\\n<a href=\"http://rss.cnn.com/~ff/rss/cnn_topstories?a=aVb9k7UPBOk:vFlEfgWTV84:yIl2AUoC8zA\"><img src=\"http://feeds.feedburner.com/~ff/rss/cnn_topstories?d=yIl2AUoC8zA\" border=\"0\"></img></a> <a href=\"http://rss.cnn.com/~ff/rss/cnn_topstories?a=aVb9k7UPBOk:vFlEfgWTV84:7Q72WNTAKBA\"><img src=\"http://feeds.feedburner.com/~ff/rss/cnn_topstories?d=7Q72WNTAKBA\" border=\"0\"></img></a> <a href=\"http://rss.cnn.com/~ff/rss/cnn_topstories?a=aVb9k7UPBOk:vFlEfgWTV84:V_sGLiPBpWU\"><img src=\"http://feeds.feedburner.com/~ff/rss/cnn_topstories?i=aVb9k7UPBOk:vFlEfgWTV84:V_sGLiPBpWU\" border=\"0\"></img></a> <a href=\"http://rss.cnn.com/~ff/rss/cnn_topstories?a=aVb9k7UPBOk:vFlEfgWTV84:qj6IDK7rITs\"><img src=\"http://feeds.feedburner.com/~ff/rss/cnn_topstories?d=qj6IDK7rITs\" border=\"0\"></img></a> <a href=\"http://rss.cnn.com/~ff/rss/cnn_topstories?a=aVb9k7UPBOk:vFlEfgWTV84:gIN9vFwOqvQ\"><img src=\"http://feeds.feedburner.com/~ff/rss/cnn_topstories?i=aVb9k7UPBOk:vFlEfgWTV84:gIN9vFwOqvQ\" border=\"0\"></img></a>\\n</div><img src=\"http://feeds.feedburner.com/~r/rss/cnn_topstories/~4/aVb9k7UPBOk\" height=\"1\" width=\"1\" alt=\"\"/>',\n",
              "  'title': 'Trump claims he never directed Giuliani on Ukraine',\n",
              "  'url': 'http://rss.cnn.com/~r/rss/cnn_topstories/~3/aVb9k7UPBOk/index.html'},\n",
              " {'description': 'Rep. Abigail Spanberger (D-VA) is favoring issues like healthcare over the impeachment inquiry into President Donald Trump when talking to voters, and that\\'s intentional on her part. CNN\\'s Evan McMorris-Santoro reports.<div class=\"feedflare\">\\n<a href=\"http://rss.cnn.com/~ff/rss/cnn_topstories?a=gMDfZ6XcSps:V2V79tJpjuM:yIl2AUoC8zA\"><img src=\"http://feeds.feedburner.com/~ff/rss/cnn_topstories?d=yIl2AUoC8zA\" border=\"0\"></img></a> <a href=\"http://rss.cnn.com/~ff/rss/cnn_topstories?a=gMDfZ6XcSps:V2V79tJpjuM:7Q72WNTAKBA\"><img src=\"http://feeds.feedburner.com/~ff/rss/cnn_topstories?d=7Q72WNTAKBA\" border=\"0\"></img></a> <a href=\"http://rss.cnn.com/~ff/rss/cnn_topstories?a=gMDfZ6XcSps:V2V79tJpjuM:V_sGLiPBpWU\"><img src=\"http://feeds.feedburner.com/~ff/rss/cnn_topstories?i=gMDfZ6XcSps:V2V79tJpjuM:V_sGLiPBpWU\" border=\"0\"></img></a> <a href=\"http://rss.cnn.com/~ff/rss/cnn_topstories?a=gMDfZ6XcSps:V2V79tJpjuM:qj6IDK7rITs\"><img src=\"http://feeds.feedburner.com/~ff/rss/cnn_topstories?d=qj6IDK7rITs\" border=\"0\"></img></a> <a href=\"http://rss.cnn.com/~ff/rss/cnn_topstories?a=gMDfZ6XcSps:V2V79tJpjuM:gIN9vFwOqvQ\"><img src=\"http://feeds.feedburner.com/~ff/rss/cnn_topstories?i=gMDfZ6XcSps:V2V79tJpjuM:gIN9vFwOqvQ\" border=\"0\"></img></a>\\n</div><img src=\"http://feeds.feedburner.com/~r/rss/cnn_topstories/~4/gMDfZ6XcSps\" height=\"1\" width=\"1\" alt=\"\"/>',\n",
              "  'title': \"Why this Democrat isn't talking about impeachment\",\n",
              "  'url': 'http://rss.cnn.com/~r/rss/cnn_topstories/~3/gMDfZ6XcSps/spanberger-avoids-impeachment-voters-swing-state-santoro-lead-vpx.cnn'},\n",
              " {'description': 'A man accused of killing a student at the University of Illinois at Chicago strangled her because he was angry she\\'d not paid attention to him, prosecutors say.<div class=\"feedflare\">\\n<a href=\"http://rss.cnn.com/~ff/rss/cnn_topstories?a=nTinT_ASX4o:4KeN5i0_pbU:yIl2AUoC8zA\"><img src=\"http://feeds.feedburner.com/~ff/rss/cnn_topstories?d=yIl2AUoC8zA\" border=\"0\"></img></a> <a href=\"http://rss.cnn.com/~ff/rss/cnn_topstories?a=nTinT_ASX4o:4KeN5i0_pbU:7Q72WNTAKBA\"><img src=\"http://feeds.feedburner.com/~ff/rss/cnn_topstories?d=7Q72WNTAKBA\" border=\"0\"></img></a> <a href=\"http://rss.cnn.com/~ff/rss/cnn_topstories?a=nTinT_ASX4o:4KeN5i0_pbU:V_sGLiPBpWU\"><img src=\"http://feeds.feedburner.com/~ff/rss/cnn_topstories?i=nTinT_ASX4o:4KeN5i0_pbU:V_sGLiPBpWU\" border=\"0\"></img></a> <a href=\"http://rss.cnn.com/~ff/rss/cnn_topstories?a=nTinT_ASX4o:4KeN5i0_pbU:qj6IDK7rITs\"><img src=\"http://feeds.feedburner.com/~ff/rss/cnn_topstories?d=qj6IDK7rITs\" border=\"0\"></img></a> <a href=\"http://rss.cnn.com/~ff/rss/cnn_topstories?a=nTinT_ASX4o:4KeN5i0_pbU:gIN9vFwOqvQ\"><img src=\"http://feeds.feedburner.com/~ff/rss/cnn_topstories?i=nTinT_ASX4o:4KeN5i0_pbU:gIN9vFwOqvQ\" border=\"0\"></img></a>\\n</div><img src=\"http://feeds.feedburner.com/~r/rss/cnn_topstories/~4/nTinT_ASX4o\" height=\"1\" width=\"1\" alt=\"\"/>',\n",
              "  'title': 'Man strangled student because she ignored him, prosecutors say',\n",
              "  'url': 'http://rss.cnn.com/~r/rss/cnn_topstories/~3/nTinT_ASX4o/index.html'},\n",
              " {'description': 'Just over a year after the Confederate monument was pulled down by protesters, the University of North Carolina System announced the statue commonly known as \"Silent Sam\" will be given to a Confederate history group. A $2.5 million charitable trust will go toward its care and preservation -- a move that angered critics of the statue.<div class=\"feedflare\">\\n<a href=\"http://rss.cnn.com/~ff/rss/cnn_topstories?a=xQDuFQ7L0Aw:nudLaChXMZE:yIl2AUoC8zA\"><img src=\"http://feeds.feedburner.com/~ff/rss/cnn_topstories?d=yIl2AUoC8zA\" border=\"0\"></img></a> <a href=\"http://rss.cnn.com/~ff/rss/cnn_topstories?a=xQDuFQ7L0Aw:nudLaChXMZE:7Q72WNTAKBA\"><img src=\"http://feeds.feedburner.com/~ff/rss/cnn_topstories?d=7Q72WNTAKBA\" border=\"0\"></img></a> <a href=\"http://rss.cnn.com/~ff/rss/cnn_topstories?a=xQDuFQ7L0Aw:nudLaChXMZE:V_sGLiPBpWU\"><img src=\"http://feeds.feedburner.com/~ff/rss/cnn_topstories?i=xQDuFQ7L0Aw:nudLaChXMZE:V_sGLiPBpWU\" border=\"0\"></img></a> <a href=\"http://rss.cnn.com/~ff/rss/cnn_topstories?a=xQDuFQ7L0Aw:nudLaChXMZE:qj6IDK7rITs\"><img src=\"http://feeds.feedburner.com/~ff/rss/cnn_topstories?d=qj6IDK7rITs\" border=\"0\"></img></a> <a href=\"http://rss.cnn.com/~ff/rss/cnn_topstories?a=xQDuFQ7L0Aw:nudLaChXMZE:gIN9vFwOqvQ\"><img src=\"http://feeds.feedburner.com/~ff/rss/cnn_topstories?i=xQDuFQ7L0Aw:nudLaChXMZE:gIN9vFwOqvQ\" border=\"0\"></img></a>\\n</div><img src=\"http://feeds.feedburner.com/~r/rss/cnn_topstories/~4/xQDuFQ7L0Aw\" height=\"1\" width=\"1\" alt=\"\"/>',\n",
              "  'title': 'UNC to give Silent Sam statue to Sons of Confederate Veterans',\n",
              "  'url': 'http://rss.cnn.com/~r/rss/cnn_topstories/~3/xQDuFQ7L0Aw/index.html'},\n",
              " {'description': 'North Korea\\'s recent military drill was more than just a show of force, featuring a volleyball game, musical performance and photo opportunity with Kim Jong Un. CNN\\'s Brian Todd reports.<div class=\"feedflare\">\\n<a href=\"http://rss.cnn.com/~ff/rss/cnn_topstories?a=bTX6FdFNQXw:JivPd5SOs58:yIl2AUoC8zA\"><img src=\"http://feeds.feedburner.com/~ff/rss/cnn_topstories?d=yIl2AUoC8zA\" border=\"0\"></img></a> <a href=\"http://rss.cnn.com/~ff/rss/cnn_topstories?a=bTX6FdFNQXw:JivPd5SOs58:7Q72WNTAKBA\"><img src=\"http://feeds.feedburner.com/~ff/rss/cnn_topstories?d=7Q72WNTAKBA\" border=\"0\"></img></a> <a href=\"http://rss.cnn.com/~ff/rss/cnn_topstories?a=bTX6FdFNQXw:JivPd5SOs58:V_sGLiPBpWU\"><img src=\"http://feeds.feedburner.com/~ff/rss/cnn_topstories?i=bTX6FdFNQXw:JivPd5SOs58:V_sGLiPBpWU\" border=\"0\"></img></a> <a href=\"http://rss.cnn.com/~ff/rss/cnn_topstories?a=bTX6FdFNQXw:JivPd5SOs58:qj6IDK7rITs\"><img src=\"http://feeds.feedburner.com/~ff/rss/cnn_topstories?d=qj6IDK7rITs\" border=\"0\"></img></a> <a href=\"http://rss.cnn.com/~ff/rss/cnn_topstories?a=bTX6FdFNQXw:JivPd5SOs58:gIN9vFwOqvQ\"><img src=\"http://feeds.feedburner.com/~ff/rss/cnn_topstories?i=bTX6FdFNQXw:JivPd5SOs58:gIN9vFwOqvQ\" border=\"0\"></img></a>\\n</div><img src=\"http://feeds.feedburner.com/~r/rss/cnn_topstories/~4/bTX6FdFNQXw\" height=\"1\" width=\"1\" alt=\"\"/>',\n",
              "  'title': \"See Kim Jong Un's 'bizarre' photo op\",\n",
              "  'url': 'http://rss.cnn.com/~r/rss/cnn_topstories/~3/bTX6FdFNQXw/kim-jong-un-military-drill-photos-todd-tsr-vpx.cnn'},\n",
              " {'description': 'In the next few weeks, the Korean Peninsula will face a watershed moment -- one which could upend the United States\\' alliances in northeast Asia and regional stability as a whole -- if three contentious issues are mismanaged.<div class=\"feedflare\">\\n<a href=\"http://rss.cnn.com/~ff/rss/cnn_topstories?a=dsHEo45BkG4:QnkOTKB2ojY:yIl2AUoC8zA\"><img src=\"http://feeds.feedburner.com/~ff/rss/cnn_topstories?d=yIl2AUoC8zA\" border=\"0\"></img></a> <a href=\"http://rss.cnn.com/~ff/rss/cnn_topstories?a=dsHEo45BkG4:QnkOTKB2ojY:7Q72WNTAKBA\"><img src=\"http://feeds.feedburner.com/~ff/rss/cnn_topstories?d=7Q72WNTAKBA\" border=\"0\"></img></a> <a href=\"http://rss.cnn.com/~ff/rss/cnn_topstories?a=dsHEo45BkG4:QnkOTKB2ojY:V_sGLiPBpWU\"><img src=\"http://feeds.feedburner.com/~ff/rss/cnn_topstories?i=dsHEo45BkG4:QnkOTKB2ojY:V_sGLiPBpWU\" border=\"0\"></img></a> <a href=\"http://rss.cnn.com/~ff/rss/cnn_topstories?a=dsHEo45BkG4:QnkOTKB2ojY:qj6IDK7rITs\"><img src=\"http://feeds.feedburner.com/~ff/rss/cnn_topstories?d=qj6IDK7rITs\" border=\"0\"></img></a> <a href=\"http://rss.cnn.com/~ff/rss/cnn_topstories?a=dsHEo45BkG4:QnkOTKB2ojY:gIN9vFwOqvQ\"><img src=\"http://feeds.feedburner.com/~ff/rss/cnn_topstories?i=dsHEo45BkG4:QnkOTKB2ojY:gIN9vFwOqvQ\" border=\"0\"></img></a>\\n</div><img src=\"http://feeds.feedburner.com/~r/rss/cnn_topstories/~4/dsHEo45BkG4\" height=\"1\" width=\"1\" alt=\"\"/>',\n",
              "  'title': 'Opinion: Trump has 3 options with North Korea',\n",
              "  'url': 'http://rss.cnn.com/~r/rss/cnn_topstories/~3/dsHEo45BkG4/index.html'},\n",
              " {'description': 'Balloons are being inflated in New York for the annual Macy\\'s Thanksgiving Day Parade.<div class=\"feedflare\">\\n<a href=\"http://rss.cnn.com/~ff/rss/cnn_topstories?a=yoWULcQpxR8:a-TKYPHiVQ8:yIl2AUoC8zA\"><img src=\"http://feeds.feedburner.com/~ff/rss/cnn_topstories?d=yIl2AUoC8zA\" border=\"0\"></img></a> <a href=\"http://rss.cnn.com/~ff/rss/cnn_topstories?a=yoWULcQpxR8:a-TKYPHiVQ8:7Q72WNTAKBA\"><img src=\"http://feeds.feedburner.com/~ff/rss/cnn_topstories?d=7Q72WNTAKBA\" border=\"0\"></img></a> <a href=\"http://rss.cnn.com/~ff/rss/cnn_topstories?a=yoWULcQpxR8:a-TKYPHiVQ8:V_sGLiPBpWU\"><img src=\"http://feeds.feedburner.com/~ff/rss/cnn_topstories?i=yoWULcQpxR8:a-TKYPHiVQ8:V_sGLiPBpWU\" border=\"0\"></img></a> <a href=\"http://rss.cnn.com/~ff/rss/cnn_topstories?a=yoWULcQpxR8:a-TKYPHiVQ8:qj6IDK7rITs\"><img src=\"http://feeds.feedburner.com/~ff/rss/cnn_topstories?d=qj6IDK7rITs\" border=\"0\"></img></a> <a href=\"http://rss.cnn.com/~ff/rss/cnn_topstories?a=yoWULcQpxR8:a-TKYPHiVQ8:gIN9vFwOqvQ\"><img src=\"http://feeds.feedburner.com/~ff/rss/cnn_topstories?i=yoWULcQpxR8:a-TKYPHiVQ8:gIN9vFwOqvQ\" border=\"0\"></img></a>\\n</div><img src=\"http://feeds.feedburner.com/~r/rss/cnn_topstories/~4/yoWULcQpxR8\" height=\"1\" width=\"1\" alt=\"\"/>',\n",
              "  'title': \"These may be the only Macy's Thanksgiving Day Parade balloon photos we get\",\n",
              "  'url': 'http://rss.cnn.com/~r/rss/cnn_topstories/~3/yoWULcQpxR8/index.html'},\n",
              " {'description': 'Thanksgiving week is here and for many, that means a bit of extra time on their hands or few more family members in the house.<div class=\"feedflare\">\\n<a href=\"http://rss.cnn.com/~ff/rss/cnn_topstories?a=j0fXQ7FN-x4:VhrcfNF-Nro:yIl2AUoC8zA\"><img src=\"http://feeds.feedburner.com/~ff/rss/cnn_topstories?d=yIl2AUoC8zA\" border=\"0\"></img></a> <a href=\"http://rss.cnn.com/~ff/rss/cnn_topstories?a=j0fXQ7FN-x4:VhrcfNF-Nro:7Q72WNTAKBA\"><img src=\"http://feeds.feedburner.com/~ff/rss/cnn_topstories?d=7Q72WNTAKBA\" border=\"0\"></img></a> <a href=\"http://rss.cnn.com/~ff/rss/cnn_topstories?a=j0fXQ7FN-x4:VhrcfNF-Nro:V_sGLiPBpWU\"><img src=\"http://feeds.feedburner.com/~ff/rss/cnn_topstories?i=j0fXQ7FN-x4:VhrcfNF-Nro:V_sGLiPBpWU\" border=\"0\"></img></a> <a href=\"http://rss.cnn.com/~ff/rss/cnn_topstories?a=j0fXQ7FN-x4:VhrcfNF-Nro:qj6IDK7rITs\"><img src=\"http://feeds.feedburner.com/~ff/rss/cnn_topstories?d=qj6IDK7rITs\" border=\"0\"></img></a> <a href=\"http://rss.cnn.com/~ff/rss/cnn_topstories?a=j0fXQ7FN-x4:VhrcfNF-Nro:gIN9vFwOqvQ\"><img src=\"http://feeds.feedburner.com/~ff/rss/cnn_topstories?i=j0fXQ7FN-x4:VhrcfNF-Nro:gIN9vFwOqvQ\" border=\"0\"></img></a>\\n</div><img src=\"http://feeds.feedburner.com/~r/rss/cnn_topstories/~4/j0fXQ7FN-x4\" height=\"1\" width=\"1\" alt=\"\"/>',\n",
              "  'title': 'Here are nine movies you can watch in theaters this Thanksgiving',\n",
              "  'url': 'http://rss.cnn.com/~r/rss/cnn_topstories/~3/j0fXQ7FN-x4/index.html'},\n",
              " {'description': 'Russian President Vladimir Putin has released his 2020 calendar, which has become a yearly tradition. CNN\\'s Brian Todd reports.<div class=\"feedflare\">\\n<a href=\"http://rss.cnn.com/~ff/rss/cnn_topstories?a=VKUTA7QKnLQ:zzURE27gOUU:yIl2AUoC8zA\"><img src=\"http://feeds.feedburner.com/~ff/rss/cnn_topstories?d=yIl2AUoC8zA\" border=\"0\"></img></a> <a href=\"http://rss.cnn.com/~ff/rss/cnn_topstories?a=VKUTA7QKnLQ:zzURE27gOUU:7Q72WNTAKBA\"><img src=\"http://feeds.feedburner.com/~ff/rss/cnn_topstories?d=7Q72WNTAKBA\" border=\"0\"></img></a> <a href=\"http://rss.cnn.com/~ff/rss/cnn_topstories?a=VKUTA7QKnLQ:zzURE27gOUU:V_sGLiPBpWU\"><img src=\"http://feeds.feedburner.com/~ff/rss/cnn_topstories?i=VKUTA7QKnLQ:zzURE27gOUU:V_sGLiPBpWU\" border=\"0\"></img></a> <a href=\"http://rss.cnn.com/~ff/rss/cnn_topstories?a=VKUTA7QKnLQ:zzURE27gOUU:qj6IDK7rITs\"><img src=\"http://feeds.feedburner.com/~ff/rss/cnn_topstories?d=qj6IDK7rITs\" border=\"0\"></img></a> <a href=\"http://rss.cnn.com/~ff/rss/cnn_topstories?a=VKUTA7QKnLQ:zzURE27gOUU:gIN9vFwOqvQ\"><img src=\"http://feeds.feedburner.com/~ff/rss/cnn_topstories?i=VKUTA7QKnLQ:zzURE27gOUU:gIN9vFwOqvQ\" border=\"0\"></img></a>\\n</div><img src=\"http://feeds.feedburner.com/~r/rss/cnn_topstories/~4/VKUTA7QKnLQ\" height=\"1\" width=\"1\" alt=\"\"/>',\n",
              "  'title': 'Putin unveils 2020 calendar',\n",
              "  'url': 'http://rss.cnn.com/~r/rss/cnn_topstories/~3/VKUTA7QKnLQ/vladimir-putin-2020-calendar-todd-tsr-vpx.cnn'},\n",
              " {'description': 'Taiwanese-Canadian model and actor Godfrey Gao has died, his agency said Wednesday. He was 35.<div class=\"feedflare\">\\n<a href=\"http://rss.cnn.com/~ff/rss/cnn_topstories?a=dBcOn1znhUw:K8AlJeAGnPI:yIl2AUoC8zA\"><img src=\"http://feeds.feedburner.com/~ff/rss/cnn_topstories?d=yIl2AUoC8zA\" border=\"0\"></img></a> <a href=\"http://rss.cnn.com/~ff/rss/cnn_topstories?a=dBcOn1znhUw:K8AlJeAGnPI:7Q72WNTAKBA\"><img src=\"http://feeds.feedburner.com/~ff/rss/cnn_topstories?d=7Q72WNTAKBA\" border=\"0\"></img></a> <a href=\"http://rss.cnn.com/~ff/rss/cnn_topstories?a=dBcOn1znhUw:K8AlJeAGnPI:V_sGLiPBpWU\"><img src=\"http://feeds.feedburner.com/~ff/rss/cnn_topstories?i=dBcOn1znhUw:K8AlJeAGnPI:V_sGLiPBpWU\" border=\"0\"></img></a> <a href=\"http://rss.cnn.com/~ff/rss/cnn_topstories?a=dBcOn1znhUw:K8AlJeAGnPI:qj6IDK7rITs\"><img src=\"http://feeds.feedburner.com/~ff/rss/cnn_topstories?d=qj6IDK7rITs\" border=\"0\"></img></a> <a href=\"http://rss.cnn.com/~ff/rss/cnn_topstories?a=dBcOn1znhUw:K8AlJeAGnPI:gIN9vFwOqvQ\"><img src=\"http://feeds.feedburner.com/~ff/rss/cnn_topstories?i=dBcOn1znhUw:K8AlJeAGnPI:gIN9vFwOqvQ\" border=\"0\"></img></a>\\n</div><img src=\"http://feeds.feedburner.com/~r/rss/cnn_topstories/~4/dBcOn1znhUw\" height=\"1\" width=\"1\" alt=\"\"/>',\n",
              "  'title': 'Actor dies filming TV show',\n",
              "  'url': 'http://rss.cnn.com/~r/rss/cnn_topstories/~3/dBcOn1znhUw/index.html'},\n",
              " {'description': '<div class=\"feedflare\">\\n<a href=\"http://rss.cnn.com/~ff/rss/cnn_topstories?a=IvpBOzbsFIs:iPRO_w6Pvjw:yIl2AUoC8zA\"><img src=\"http://feeds.feedburner.com/~ff/rss/cnn_topstories?d=yIl2AUoC8zA\" border=\"0\"></img></a> <a href=\"http://rss.cnn.com/~ff/rss/cnn_topstories?a=IvpBOzbsFIs:iPRO_w6Pvjw:7Q72WNTAKBA\"><img src=\"http://feeds.feedburner.com/~ff/rss/cnn_topstories?d=7Q72WNTAKBA\" border=\"0\"></img></a> <a href=\"http://rss.cnn.com/~ff/rss/cnn_topstories?a=IvpBOzbsFIs:iPRO_w6Pvjw:V_sGLiPBpWU\"><img src=\"http://feeds.feedburner.com/~ff/rss/cnn_topstories?i=IvpBOzbsFIs:iPRO_w6Pvjw:V_sGLiPBpWU\" border=\"0\"></img></a> <a href=\"http://rss.cnn.com/~ff/rss/cnn_topstories?a=IvpBOzbsFIs:iPRO_w6Pvjw:qj6IDK7rITs\"><img src=\"http://feeds.feedburner.com/~ff/rss/cnn_topstories?d=qj6IDK7rITs\" border=\"0\"></img></a> <a href=\"http://rss.cnn.com/~ff/rss/cnn_topstories?a=IvpBOzbsFIs:iPRO_w6Pvjw:gIN9vFwOqvQ\"><img src=\"http://feeds.feedburner.com/~ff/rss/cnn_topstories?i=IvpBOzbsFIs:iPRO_w6Pvjw:gIN9vFwOqvQ\" border=\"0\"></img></a>\\n</div><img src=\"http://feeds.feedburner.com/~r/rss/cnn_topstories/~4/IvpBOzbsFIs\" height=\"1\" width=\"1\" alt=\"\"/>',\n",
              "  'title': 'Lovestruck pig pursues TV reporter live on air',\n",
              "  'url': 'http://rss.cnn.com/~r/rss/cnn_topstories/~3/IvpBOzbsFIs/index.html'},\n",
              " {'description': 'In a move that could shake up the internet, private equity firm Ethos Capital is buying the company that owns every .org domain on the web.<div class=\"feedflare\">\\n<a href=\"http://rss.cnn.com/~ff/rss/cnn_topstories?a=TalichRvsFI:SIwbxJdqcoM:yIl2AUoC8zA\"><img src=\"http://feeds.feedburner.com/~ff/rss/cnn_topstories?d=yIl2AUoC8zA\" border=\"0\"></img></a> <a href=\"http://rss.cnn.com/~ff/rss/cnn_topstories?a=TalichRvsFI:SIwbxJdqcoM:7Q72WNTAKBA\"><img src=\"http://feeds.feedburner.com/~ff/rss/cnn_topstories?d=7Q72WNTAKBA\" border=\"0\"></img></a> <a href=\"http://rss.cnn.com/~ff/rss/cnn_topstories?a=TalichRvsFI:SIwbxJdqcoM:V_sGLiPBpWU\"><img src=\"http://feeds.feedburner.com/~ff/rss/cnn_topstories?i=TalichRvsFI:SIwbxJdqcoM:V_sGLiPBpWU\" border=\"0\"></img></a> <a href=\"http://rss.cnn.com/~ff/rss/cnn_topstories?a=TalichRvsFI:SIwbxJdqcoM:qj6IDK7rITs\"><img src=\"http://feeds.feedburner.com/~ff/rss/cnn_topstories?d=qj6IDK7rITs\" border=\"0\"></img></a> <a href=\"http://rss.cnn.com/~ff/rss/cnn_topstories?a=TalichRvsFI:SIwbxJdqcoM:gIN9vFwOqvQ\"><img src=\"http://feeds.feedburner.com/~ff/rss/cnn_topstories?i=TalichRvsFI:SIwbxJdqcoM:gIN9vFwOqvQ\" border=\"0\"></img></a>\\n</div><img src=\"http://feeds.feedburner.com/~r/rss/cnn_topstories/~4/TalichRvsFI\" height=\"1\" width=\"1\" alt=\"\"/>',\n",
              "  'title': \"A private equity firm is buying all of the .org domains. Here's what that means\",\n",
              "  'url': 'http://rss.cnn.com/~r/rss/cnn_topstories/~3/TalichRvsFI/index.html'},\n",
              " {'description': '• Chickenpox vaccine reactivates in two boys\\n• Lettuce linked to infections across 19 states\\n• 2 newborns sickened by tick bites could signal an increase in infections among babies<div class=\"feedflare\">\\n<a href=\"http://rss.cnn.com/~ff/rss/cnn_topstories?a=qRrWqsyLCdU:eDRbTV2xxOg:yIl2AUoC8zA\"><img src=\"http://feeds.feedburner.com/~ff/rss/cnn_topstories?d=yIl2AUoC8zA\" border=\"0\"></img></a> <a href=\"http://rss.cnn.com/~ff/rss/cnn_topstories?a=qRrWqsyLCdU:eDRbTV2xxOg:7Q72WNTAKBA\"><img src=\"http://feeds.feedburner.com/~ff/rss/cnn_topstories?d=7Q72WNTAKBA\" border=\"0\"></img></a> <a href=\"http://rss.cnn.com/~ff/rss/cnn_topstories?a=qRrWqsyLCdU:eDRbTV2xxOg:V_sGLiPBpWU\"><img src=\"http://feeds.feedburner.com/~ff/rss/cnn_topstories?i=qRrWqsyLCdU:eDRbTV2xxOg:V_sGLiPBpWU\" border=\"0\"></img></a> <a href=\"http://rss.cnn.com/~ff/rss/cnn_topstories?a=qRrWqsyLCdU:eDRbTV2xxOg:qj6IDK7rITs\"><img src=\"http://feeds.feedburner.com/~ff/rss/cnn_topstories?d=qj6IDK7rITs\" border=\"0\"></img></a> <a href=\"http://rss.cnn.com/~ff/rss/cnn_topstories?a=qRrWqsyLCdU:eDRbTV2xxOg:gIN9vFwOqvQ\"><img src=\"http://feeds.feedburner.com/~ff/rss/cnn_topstories?i=qRrWqsyLCdU:eDRbTV2xxOg:gIN9vFwOqvQ\" border=\"0\"></img></a>\\n</div><img src=\"http://feeds.feedburner.com/~r/rss/cnn_topstories/~4/qRrWqsyLCdU\" height=\"1\" width=\"1\" alt=\"\"/>',\n",
              "  'title': 'Man had seizures after eating hot pot. Turns out he had tapeworms in his brain',\n",
              "  'url': 'http://rss.cnn.com/~r/rss/cnn_topstories/~3/qRrWqsyLCdU/index.html'},\n",
              " {'description': 'CNN\\'s John Berman speaks with comic Gary Gulman about his latest HBO series, in which he tries to remove the stigma around mental illness by sharing about his own battle with depression. HBO is owned by CNN\\'s parent company AT&T.<div class=\"feedflare\">\\n<a href=\"http://rss.cnn.com/~ff/rss/cnn_topstories?a=UWMnz5OrS78:igUwK3SLVlM:yIl2AUoC8zA\"><img src=\"http://feeds.feedburner.com/~ff/rss/cnn_topstories?d=yIl2AUoC8zA\" border=\"0\"></img></a> <a href=\"http://rss.cnn.com/~ff/rss/cnn_topstories?a=UWMnz5OrS78:igUwK3SLVlM:7Q72WNTAKBA\"><img src=\"http://feeds.feedburner.com/~ff/rss/cnn_topstories?d=7Q72WNTAKBA\" border=\"0\"></img></a> <a href=\"http://rss.cnn.com/~ff/rss/cnn_topstories?a=UWMnz5OrS78:igUwK3SLVlM:V_sGLiPBpWU\"><img src=\"http://feeds.feedburner.com/~ff/rss/cnn_topstories?i=UWMnz5OrS78:igUwK3SLVlM:V_sGLiPBpWU\" border=\"0\"></img></a> <a href=\"http://rss.cnn.com/~ff/rss/cnn_topstories?a=UWMnz5OrS78:igUwK3SLVlM:qj6IDK7rITs\"><img src=\"http://feeds.feedburner.com/~ff/rss/cnn_topstories?d=qj6IDK7rITs\" border=\"0\"></img></a> <a href=\"http://rss.cnn.com/~ff/rss/cnn_topstories?a=UWMnz5OrS78:igUwK3SLVlM:gIN9vFwOqvQ\"><img src=\"http://feeds.feedburner.com/~ff/rss/cnn_topstories?i=UWMnz5OrS78:igUwK3SLVlM:gIN9vFwOqvQ\" border=\"0\"></img></a>\\n</div><img src=\"http://feeds.feedburner.com/~r/rss/cnn_topstories/~4/UWMnz5OrS78\" height=\"1\" width=\"1\" alt=\"\"/>',\n",
              "  'title': 'Comedian opens up about battle with depression',\n",
              "  'url': 'http://rss.cnn.com/~r/rss/cnn_topstories/~3/UWMnz5OrS78/comic-gary-gulman-tackles-mental-illness-hbo-berman-newday-pkg-vpx.cnn'},\n",
              " {'description': '<div class=\"feedflare\">\\n<a href=\"http://rss.cnn.com/~ff/rss/cnn_topstories?a=-zQxCnXnFio:2Fo14tjM3VI:yIl2AUoC8zA\"><img src=\"http://feeds.feedburner.com/~ff/rss/cnn_topstories?d=yIl2AUoC8zA\" border=\"0\"></img></a> <a href=\"http://rss.cnn.com/~ff/rss/cnn_topstories?a=-zQxCnXnFio:2Fo14tjM3VI:7Q72WNTAKBA\"><img src=\"http://feeds.feedburner.com/~ff/rss/cnn_topstories?d=7Q72WNTAKBA\" border=\"0\"></img></a> <a href=\"http://rss.cnn.com/~ff/rss/cnn_topstories?a=-zQxCnXnFio:2Fo14tjM3VI:V_sGLiPBpWU\"><img src=\"http://feeds.feedburner.com/~ff/rss/cnn_topstories?i=-zQxCnXnFio:2Fo14tjM3VI:V_sGLiPBpWU\" border=\"0\"></img></a> <a href=\"http://rss.cnn.com/~ff/rss/cnn_topstories?a=-zQxCnXnFio:2Fo14tjM3VI:qj6IDK7rITs\"><img src=\"http://feeds.feedburner.com/~ff/rss/cnn_topstories?d=qj6IDK7rITs\" border=\"0\"></img></a> <a href=\"http://rss.cnn.com/~ff/rss/cnn_topstories?a=-zQxCnXnFio:2Fo14tjM3VI:gIN9vFwOqvQ\"><img src=\"http://feeds.feedburner.com/~ff/rss/cnn_topstories?i=-zQxCnXnFio:2Fo14tjM3VI:gIN9vFwOqvQ\" border=\"0\"></img></a>\\n</div><img src=\"http://feeds.feedburner.com/~r/rss/cnn_topstories/~4/-zQxCnXnFio\" height=\"1\" width=\"1\" alt=\"\"/>',\n",
              "  'title': 'Camila says she took item from Kensington Palace',\n",
              "  'url': 'http://rss.cnn.com/~r/rss/cnn_topstories/~3/-zQxCnXnFio/index.html'},\n",
              " {'description': 'Since we are living in the age of TV reboots and revivals, why not \"Melrose Place?\"<div class=\"feedflare\">\\n<a href=\"http://rss.cnn.com/~ff/rss/cnn_topstories?a=x63tmEKbbmc:W-X8_H4sJfs:yIl2AUoC8zA\"><img src=\"http://feeds.feedburner.com/~ff/rss/cnn_topstories?d=yIl2AUoC8zA\" border=\"0\"></img></a> <a href=\"http://rss.cnn.com/~ff/rss/cnn_topstories?a=x63tmEKbbmc:W-X8_H4sJfs:7Q72WNTAKBA\"><img src=\"http://feeds.feedburner.com/~ff/rss/cnn_topstories?d=7Q72WNTAKBA\" border=\"0\"></img></a> <a href=\"http://rss.cnn.com/~ff/rss/cnn_topstories?a=x63tmEKbbmc:W-X8_H4sJfs:V_sGLiPBpWU\"><img src=\"http://feeds.feedburner.com/~ff/rss/cnn_topstories?i=x63tmEKbbmc:W-X8_H4sJfs:V_sGLiPBpWU\" border=\"0\"></img></a> <a href=\"http://rss.cnn.com/~ff/rss/cnn_topstories?a=x63tmEKbbmc:W-X8_H4sJfs:qj6IDK7rITs\"><img src=\"http://feeds.feedburner.com/~ff/rss/cnn_topstories?d=qj6IDK7rITs\" border=\"0\"></img></a> <a href=\"http://rss.cnn.com/~ff/rss/cnn_topstories?a=x63tmEKbbmc:W-X8_H4sJfs:gIN9vFwOqvQ\"><img src=\"http://feeds.feedburner.com/~ff/rss/cnn_topstories?i=x63tmEKbbmc:W-X8_H4sJfs:gIN9vFwOqvQ\" border=\"0\"></img></a>\\n</div><img src=\"http://feeds.feedburner.com/~r/rss/cnn_topstories/~4/x63tmEKbbmc\" height=\"1\" width=\"1\" alt=\"\"/>',\n",
              "  'title': \"'Melrose Place' cast reunited for dinner\",\n",
              "  'url': 'http://rss.cnn.com/~r/rss/cnn_topstories/~3/x63tmEKbbmc/index.html'},\n",
              " {'description': 'A cheese soufflé, woolly scallops and disappearing noodles were served up as evidence in a courthouse just outside Paris on Wednesday, in a landmark case that could shine a light on the Michelin Guide\\'s secretive rating system.<div class=\"feedflare\">\\n<a href=\"http://rss.cnn.com/~ff/rss/cnn_topstories?a=eebXragfjRE:h_kLVMW7xsM:yIl2AUoC8zA\"><img src=\"http://feeds.feedburner.com/~ff/rss/cnn_topstories?d=yIl2AUoC8zA\" border=\"0\"></img></a> <a href=\"http://rss.cnn.com/~ff/rss/cnn_topstories?a=eebXragfjRE:h_kLVMW7xsM:7Q72WNTAKBA\"><img src=\"http://feeds.feedburner.com/~ff/rss/cnn_topstories?d=7Q72WNTAKBA\" border=\"0\"></img></a> <a href=\"http://rss.cnn.com/~ff/rss/cnn_topstories?a=eebXragfjRE:h_kLVMW7xsM:V_sGLiPBpWU\"><img src=\"http://feeds.feedburner.com/~ff/rss/cnn_topstories?i=eebXragfjRE:h_kLVMW7xsM:V_sGLiPBpWU\" border=\"0\"></img></a> <a href=\"http://rss.cnn.com/~ff/rss/cnn_topstories?a=eebXragfjRE:h_kLVMW7xsM:qj6IDK7rITs\"><img src=\"http://feeds.feedburner.com/~ff/rss/cnn_topstories?d=qj6IDK7rITs\" border=\"0\"></img></a> <a href=\"http://rss.cnn.com/~ff/rss/cnn_topstories?a=eebXragfjRE:h_kLVMW7xsM:gIN9vFwOqvQ\"><img src=\"http://feeds.feedburner.com/~ff/rss/cnn_topstories?i=eebXragfjRE:h_kLVMW7xsM:gIN9vFwOqvQ\" border=\"0\"></img></a>\\n</div><img src=\"http://feeds.feedburner.com/~r/rss/cnn_topstories/~4/eebXragfjRE\" height=\"1\" width=\"1\" alt=\"\"/>',\n",
              "  'title': 'Cheese soufflé at heart of trial over lost Michelin star',\n",
              "  'url': 'http://rss.cnn.com/~r/rss/cnn_topstories/~3/eebXragfjRE/index.html'},\n",
              " {'description': 'Some chefs dream their whole lives of winning a Michelin star. But not Eo Yun-gwon.<div class=\"feedflare\">\\n<a href=\"http://rss.cnn.com/~ff/rss/cnn_topstories?a=BtbYLAfVFSA:-S2AjCn4jp0:yIl2AUoC8zA\"><img src=\"http://feeds.feedburner.com/~ff/rss/cnn_topstories?d=yIl2AUoC8zA\" border=\"0\"></img></a> <a href=\"http://rss.cnn.com/~ff/rss/cnn_topstories?a=BtbYLAfVFSA:-S2AjCn4jp0:7Q72WNTAKBA\"><img src=\"http://feeds.feedburner.com/~ff/rss/cnn_topstories?d=7Q72WNTAKBA\" border=\"0\"></img></a> <a href=\"http://rss.cnn.com/~ff/rss/cnn_topstories?a=BtbYLAfVFSA:-S2AjCn4jp0:V_sGLiPBpWU\"><img src=\"http://feeds.feedburner.com/~ff/rss/cnn_topstories?i=BtbYLAfVFSA:-S2AjCn4jp0:V_sGLiPBpWU\" border=\"0\"></img></a> <a href=\"http://rss.cnn.com/~ff/rss/cnn_topstories?a=BtbYLAfVFSA:-S2AjCn4jp0:qj6IDK7rITs\"><img src=\"http://feeds.feedburner.com/~ff/rss/cnn_topstories?d=qj6IDK7rITs\" border=\"0\"></img></a> <a href=\"http://rss.cnn.com/~ff/rss/cnn_topstories?a=BtbYLAfVFSA:-S2AjCn4jp0:gIN9vFwOqvQ\"><img src=\"http://feeds.feedburner.com/~ff/rss/cnn_topstories?i=BtbYLAfVFSA:-S2AjCn4jp0:gIN9vFwOqvQ\" border=\"0\"></img></a>\\n</div><img src=\"http://feeds.feedburner.com/~r/rss/cnn_topstories/~4/BtbYLAfVFSA\" height=\"1\" width=\"1\" alt=\"\"/>',\n",
              "  'title': 'Chef sues Michelin Guide for including his restaurant',\n",
              "  'url': 'http://rss.cnn.com/~r/rss/cnn_topstories/~3/BtbYLAfVFSA/index.html'},\n",
              " {'description': 'It was perhaps the biggest shock of this year\\'s annual Michelin star ratings. The Araki, a sushi restaurant in London\\'s Mayfair, had been stripped of all three of its Michelin stars.<div class=\"feedflare\">\\n<a href=\"http://rss.cnn.com/~ff/rss/cnn_topstories?a=XM8YG0svRDc:L0SEdAW4IwM:yIl2AUoC8zA\"><img src=\"http://feeds.feedburner.com/~ff/rss/cnn_topstories?d=yIl2AUoC8zA\" border=\"0\"></img></a> <a href=\"http://rss.cnn.com/~ff/rss/cnn_topstories?a=XM8YG0svRDc:L0SEdAW4IwM:7Q72WNTAKBA\"><img src=\"http://feeds.feedburner.com/~ff/rss/cnn_topstories?d=7Q72WNTAKBA\" border=\"0\"></img></a> <a href=\"http://rss.cnn.com/~ff/rss/cnn_topstories?a=XM8YG0svRDc:L0SEdAW4IwM:V_sGLiPBpWU\"><img src=\"http://feeds.feedburner.com/~ff/rss/cnn_topstories?i=XM8YG0svRDc:L0SEdAW4IwM:V_sGLiPBpWU\" border=\"0\"></img></a> <a href=\"http://rss.cnn.com/~ff/rss/cnn_topstories?a=XM8YG0svRDc:L0SEdAW4IwM:qj6IDK7rITs\"><img src=\"http://feeds.feedburner.com/~ff/rss/cnn_topstories?d=qj6IDK7rITs\" border=\"0\"></img></a> <a href=\"http://rss.cnn.com/~ff/rss/cnn_topstories?a=XM8YG0svRDc:L0SEdAW4IwM:gIN9vFwOqvQ\"><img src=\"http://feeds.feedburner.com/~ff/rss/cnn_topstories?i=XM8YG0svRDc:L0SEdAW4IwM:gIN9vFwOqvQ\" border=\"0\"></img></a>\\n</div><img src=\"http://feeds.feedburner.com/~r/rss/cnn_topstories/~4/XM8YG0svRDc\" height=\"1\" width=\"1\" alt=\"\"/>',\n",
              "  'title': \"Restaurant stripped of three Michelin stars calls it 'a shame'\",\n",
              "  'url': 'http://rss.cnn.com/~r/rss/cnn_topstories/~3/XM8YG0svRDc/index.html'},\n",
              " {'description': 'Chef Marc Veyrat says he wants the Michelin Guide to be more transparent about how it rates restaurants after he claims they made a mistake in removing one of his stars. CNN\\'s Saskya Vandoorne reports.<div class=\"feedflare\">\\n<a href=\"http://rss.cnn.com/~ff/rss/cnn_topstories?a=1VAREX55TzY:NO86MzqG0ng:yIl2AUoC8zA\"><img src=\"http://feeds.feedburner.com/~ff/rss/cnn_topstories?d=yIl2AUoC8zA\" border=\"0\"></img></a> <a href=\"http://rss.cnn.com/~ff/rss/cnn_topstories?a=1VAREX55TzY:NO86MzqG0ng:7Q72WNTAKBA\"><img src=\"http://feeds.feedburner.com/~ff/rss/cnn_topstories?d=7Q72WNTAKBA\" border=\"0\"></img></a> <a href=\"http://rss.cnn.com/~ff/rss/cnn_topstories?a=1VAREX55TzY:NO86MzqG0ng:V_sGLiPBpWU\"><img src=\"http://feeds.feedburner.com/~ff/rss/cnn_topstories?i=1VAREX55TzY:NO86MzqG0ng:V_sGLiPBpWU\" border=\"0\"></img></a> <a href=\"http://rss.cnn.com/~ff/rss/cnn_topstories?a=1VAREX55TzY:NO86MzqG0ng:qj6IDK7rITs\"><img src=\"http://feeds.feedburner.com/~ff/rss/cnn_topstories?d=qj6IDK7rITs\" border=\"0\"></img></a> <a href=\"http://rss.cnn.com/~ff/rss/cnn_topstories?a=1VAREX55TzY:NO86MzqG0ng:gIN9vFwOqvQ\"><img src=\"http://feeds.feedburner.com/~ff/rss/cnn_topstories?i=1VAREX55TzY:NO86MzqG0ng:gIN9vFwOqvQ\" border=\"0\"></img></a>\\n</div><img src=\"http://feeds.feedburner.com/~r/rss/cnn_topstories/~4/1VAREX55TzY\" height=\"1\" width=\"1\" alt=\"\"/>',\n",
              "  'title': 'Soufflé costs superstar chef Michelin star',\n",
              "  'url': 'http://rss.cnn.com/~r/rss/cnn_topstories/~3/1VAREX55TzY/marc-veryat-michelin-star-vandoorne-pkg-vpx.cnn'},\n",
              " {'description': 'It\\'s considered one of the best sushi restaurants in all of Japan, yet a famous restaurant bible won\\'t recommend it. What gives?<div class=\"feedflare\">\\n<a href=\"http://rss.cnn.com/~ff/rss/cnn_topstories?a=VbgxiUAP66I:j4ct_z5q3fc:yIl2AUoC8zA\"><img src=\"http://feeds.feedburner.com/~ff/rss/cnn_topstories?d=yIl2AUoC8zA\" border=\"0\"></img></a> <a href=\"http://rss.cnn.com/~ff/rss/cnn_topstories?a=VbgxiUAP66I:j4ct_z5q3fc:7Q72WNTAKBA\"><img src=\"http://feeds.feedburner.com/~ff/rss/cnn_topstories?d=7Q72WNTAKBA\" border=\"0\"></img></a> <a href=\"http://rss.cnn.com/~ff/rss/cnn_topstories?a=VbgxiUAP66I:j4ct_z5q3fc:V_sGLiPBpWU\"><img src=\"http://feeds.feedburner.com/~ff/rss/cnn_topstories?i=VbgxiUAP66I:j4ct_z5q3fc:V_sGLiPBpWU\" border=\"0\"></img></a> <a href=\"http://rss.cnn.com/~ff/rss/cnn_topstories?a=VbgxiUAP66I:j4ct_z5q3fc:qj6IDK7rITs\"><img src=\"http://feeds.feedburner.com/~ff/rss/cnn_topstories?d=qj6IDK7rITs\" border=\"0\"></img></a> <a href=\"http://rss.cnn.com/~ff/rss/cnn_topstories?a=VbgxiUAP66I:j4ct_z5q3fc:gIN9vFwOqvQ\"><img src=\"http://feeds.feedburner.com/~ff/rss/cnn_topstories?i=VbgxiUAP66I:j4ct_z5q3fc:gIN9vFwOqvQ\" border=\"0\"></img></a>\\n</div><img src=\"http://feeds.feedburner.com/~r/rss/cnn_topstories/~4/VbgxiUAP66I\" height=\"1\" width=\"1\" alt=\"\"/>',\n",
              "  'title': 'Famous sushi restaurant removed from guide',\n",
              "  'url': 'http://rss.cnn.com/~r/rss/cnn_topstories/~3/VbgxiUAP66I/index.html'},\n",
              " {'description': 'Two-Michelin-starred restaurant Fäviken, located roughly 600 kilometers (373 miles) north of Swedish capital Stockholm, is one of Europe\\'s most in-demand eateries.<div class=\"feedflare\">\\n<a href=\"http://rss.cnn.com/~ff/rss/cnn_topstories?a=yHv-6alVZkE:IzcFCRmE8ZM:yIl2AUoC8zA\"><img src=\"http://feeds.feedburner.com/~ff/rss/cnn_topstories?d=yIl2AUoC8zA\" border=\"0\"></img></a> <a href=\"http://rss.cnn.com/~ff/rss/cnn_topstories?a=yHv-6alVZkE:IzcFCRmE8ZM:7Q72WNTAKBA\"><img src=\"http://feeds.feedburner.com/~ff/rss/cnn_topstories?d=7Q72WNTAKBA\" border=\"0\"></img></a> <a href=\"http://rss.cnn.com/~ff/rss/cnn_topstories?a=yHv-6alVZkE:IzcFCRmE8ZM:V_sGLiPBpWU\"><img src=\"http://feeds.feedburner.com/~ff/rss/cnn_topstories?i=yHv-6alVZkE:IzcFCRmE8ZM:V_sGLiPBpWU\" border=\"0\"></img></a> <a href=\"http://rss.cnn.com/~ff/rss/cnn_topstories?a=yHv-6alVZkE:IzcFCRmE8ZM:qj6IDK7rITs\"><img src=\"http://feeds.feedburner.com/~ff/rss/cnn_topstories?d=qj6IDK7rITs\" border=\"0\"></img></a> <a href=\"http://rss.cnn.com/~ff/rss/cnn_topstories?a=yHv-6alVZkE:IzcFCRmE8ZM:gIN9vFwOqvQ\"><img src=\"http://feeds.feedburner.com/~ff/rss/cnn_topstories?i=yHv-6alVZkE:IzcFCRmE8ZM:gIN9vFwOqvQ\" border=\"0\"></img></a>\\n</div><img src=\"http://feeds.feedburner.com/~r/rss/cnn_topstories/~4/yHv-6alVZkE\" height=\"1\" width=\"1\" alt=\"\"/>',\n",
              "  'title': 'Michelin chef Magnus Nilsson closes Sweden restaurant to spend more time with family',\n",
              "  'url': 'http://rss.cnn.com/~r/rss/cnn_topstories/~3/yHv-6alVZkE/index.html'},\n",
              " {'description': 'Neanderthals went extinct around 40,000 years ago -- about the same time that modern humans migrated out of Africa. This has led researchers to believe that modern humans won the competition for resources, leading to the demise of Neanderthals.<div class=\"feedflare\">\\n<a href=\"http://rss.cnn.com/~ff/rss/cnn_topstories?a=iDK3EVdnIVg:8c2SsmjSNA8:yIl2AUoC8zA\"><img src=\"http://feeds.feedburner.com/~ff/rss/cnn_topstories?d=yIl2AUoC8zA\" border=\"0\"></img></a> <a href=\"http://rss.cnn.com/~ff/rss/cnn_topstories?a=iDK3EVdnIVg:8c2SsmjSNA8:7Q72WNTAKBA\"><img src=\"http://feeds.feedburner.com/~ff/rss/cnn_topstories?d=7Q72WNTAKBA\" border=\"0\"></img></a> <a href=\"http://rss.cnn.com/~ff/rss/cnn_topstories?a=iDK3EVdnIVg:8c2SsmjSNA8:V_sGLiPBpWU\"><img src=\"http://feeds.feedburner.com/~ff/rss/cnn_topstories?i=iDK3EVdnIVg:8c2SsmjSNA8:V_sGLiPBpWU\" border=\"0\"></img></a> <a href=\"http://rss.cnn.com/~ff/rss/cnn_topstories?a=iDK3EVdnIVg:8c2SsmjSNA8:qj6IDK7rITs\"><img src=\"http://feeds.feedburner.com/~ff/rss/cnn_topstories?d=qj6IDK7rITs\" border=\"0\"></img></a> <a href=\"http://rss.cnn.com/~ff/rss/cnn_topstories?a=iDK3EVdnIVg:8c2SsmjSNA8:gIN9vFwOqvQ\"><img src=\"http://feeds.feedburner.com/~ff/rss/cnn_topstories?i=iDK3EVdnIVg:8c2SsmjSNA8:gIN9vFwOqvQ\" border=\"0\"></img></a>\\n</div><img src=\"http://feeds.feedburner.com/~r/rss/cnn_topstories/~4/iDK3EVdnIVg\" height=\"1\" width=\"1\" alt=\"\"/>',\n",
              "  'title': 'Inbreeding may have helped cause Neanderthals to go extinct',\n",
              "  'url': 'http://rss.cnn.com/~r/rss/cnn_topstories/~3/iDK3EVdnIVg/index.html'},\n",
              " {'description': 'A species of carnivorous dinosaur that once roamed Madagascar 70 million years ago was so tough on its teeth that they needed to be replaced frequently, according to a new study.<div class=\"feedflare\">\\n<a href=\"http://rss.cnn.com/~ff/rss/cnn_topstories?a=yT1nYT1UAGc:EgBSL_j6kHA:yIl2AUoC8zA\"><img src=\"http://feeds.feedburner.com/~ff/rss/cnn_topstories?d=yIl2AUoC8zA\" border=\"0\"></img></a> <a href=\"http://rss.cnn.com/~ff/rss/cnn_topstories?a=yT1nYT1UAGc:EgBSL_j6kHA:7Q72WNTAKBA\"><img src=\"http://feeds.feedburner.com/~ff/rss/cnn_topstories?d=7Q72WNTAKBA\" border=\"0\"></img></a> <a href=\"http://rss.cnn.com/~ff/rss/cnn_topstories?a=yT1nYT1UAGc:EgBSL_j6kHA:V_sGLiPBpWU\"><img src=\"http://feeds.feedburner.com/~ff/rss/cnn_topstories?i=yT1nYT1UAGc:EgBSL_j6kHA:V_sGLiPBpWU\" border=\"0\"></img></a> <a href=\"http://rss.cnn.com/~ff/rss/cnn_topstories?a=yT1nYT1UAGc:EgBSL_j6kHA:qj6IDK7rITs\"><img src=\"http://feeds.feedburner.com/~ff/rss/cnn_topstories?d=qj6IDK7rITs\" border=\"0\"></img></a> <a href=\"http://rss.cnn.com/~ff/rss/cnn_topstories?a=yT1nYT1UAGc:EgBSL_j6kHA:gIN9vFwOqvQ\"><img src=\"http://feeds.feedburner.com/~ff/rss/cnn_topstories?i=yT1nYT1UAGc:EgBSL_j6kHA:gIN9vFwOqvQ\" border=\"0\"></img></a>\\n</div><img src=\"http://feeds.feedburner.com/~r/rss/cnn_topstories/~4/yT1nYT1UAGc\" height=\"1\" width=\"1\" alt=\"\"/>',\n",
              "  'title': 'This bone-crunching dinosaur replaced its teeth every two months, study says',\n",
              "  'url': 'http://rss.cnn.com/~r/rss/cnn_topstories/~3/yT1nYT1UAGc/index.html'},\n",
              " {'description': 'Researchers from Yamagata University in Japan discovered new geoglyphs in Peru that could be more than 2,300 years old.<div class=\"feedflare\">\\n<a href=\"http://rss.cnn.com/~ff/rss/cnn_topstories?a=xkKcCYQH_pg:3Pg6gmy45xM:yIl2AUoC8zA\"><img src=\"http://feeds.feedburner.com/~ff/rss/cnn_topstories?d=yIl2AUoC8zA\" border=\"0\"></img></a> <a href=\"http://rss.cnn.com/~ff/rss/cnn_topstories?a=xkKcCYQH_pg:3Pg6gmy45xM:7Q72WNTAKBA\"><img src=\"http://feeds.feedburner.com/~ff/rss/cnn_topstories?d=7Q72WNTAKBA\" border=\"0\"></img></a> <a href=\"http://rss.cnn.com/~ff/rss/cnn_topstories?a=xkKcCYQH_pg:3Pg6gmy45xM:V_sGLiPBpWU\"><img src=\"http://feeds.feedburner.com/~ff/rss/cnn_topstories?i=xkKcCYQH_pg:3Pg6gmy45xM:V_sGLiPBpWU\" border=\"0\"></img></a> <a href=\"http://rss.cnn.com/~ff/rss/cnn_topstories?a=xkKcCYQH_pg:3Pg6gmy45xM:qj6IDK7rITs\"><img src=\"http://feeds.feedburner.com/~ff/rss/cnn_topstories?d=qj6IDK7rITs\" border=\"0\"></img></a> <a href=\"http://rss.cnn.com/~ff/rss/cnn_topstories?a=xkKcCYQH_pg:3Pg6gmy45xM:gIN9vFwOqvQ\"><img src=\"http://feeds.feedburner.com/~ff/rss/cnn_topstories?i=xkKcCYQH_pg:3Pg6gmy45xM:gIN9vFwOqvQ\" border=\"0\"></img></a>\\n</div><img src=\"http://feeds.feedburner.com/~r/rss/cnn_topstories/~4/xkKcCYQH_pg\" height=\"1\" width=\"1\" alt=\"\"/>',\n",
              "  'title': '143 ancient sand carvings discovered in Peru',\n",
              "  'url': 'http://rss.cnn.com/~r/rss/cnn_topstories/~3/xkKcCYQH_pg/geoglyph-discovery-peru-orig-mss.cnn'},\n",
              " {'description': '<div class=\"feedflare\">\\n<a href=\"http://rss.cnn.com/~ff/rss/cnn_topstories?a=zfRFb_28TIw:juZTwcHU3To:yIl2AUoC8zA\"><img src=\"http://feeds.feedburner.com/~ff/rss/cnn_topstories?d=yIl2AUoC8zA\" border=\"0\"></img></a> <a href=\"http://rss.cnn.com/~ff/rss/cnn_topstories?a=zfRFb_28TIw:juZTwcHU3To:7Q72WNTAKBA\"><img src=\"http://feeds.feedburner.com/~ff/rss/cnn_topstories?d=7Q72WNTAKBA\" border=\"0\"></img></a> <a href=\"http://rss.cnn.com/~ff/rss/cnn_topstories?a=zfRFb_28TIw:juZTwcHU3To:V_sGLiPBpWU\"><img src=\"http://feeds.feedburner.com/~ff/rss/cnn_topstories?i=zfRFb_28TIw:juZTwcHU3To:V_sGLiPBpWU\" border=\"0\"></img></a> <a href=\"http://rss.cnn.com/~ff/rss/cnn_topstories?a=zfRFb_28TIw:juZTwcHU3To:qj6IDK7rITs\"><img src=\"http://feeds.feedburner.com/~ff/rss/cnn_topstories?d=qj6IDK7rITs\" border=\"0\"></img></a> <a href=\"http://rss.cnn.com/~ff/rss/cnn_topstories?a=zfRFb_28TIw:juZTwcHU3To:gIN9vFwOqvQ\"><img src=\"http://feeds.feedburner.com/~ff/rss/cnn_topstories?i=zfRFb_28TIw:juZTwcHU3To:gIN9vFwOqvQ\" border=\"0\"></img></a>\\n</div><img src=\"http://feeds.feedburner.com/~r/rss/cnn_topstories/~4/zfRFb_28TIw\" height=\"1\" width=\"1\" alt=\"\"/>',\n",
              "  'title': \"History's biggest heists\",\n",
              "  'url': 'http://rss.cnn.com/~r/rss/cnn_topstories/~3/zfRFb_28TIw/index.html'},\n",
              " {'description': '<div class=\"feedflare\">\\n<a href=\"http://rss.cnn.com/~ff/rss/cnn_topstories?a=dCAeljkLCQw:jTgOu-KK9b4:yIl2AUoC8zA\"><img src=\"http://feeds.feedburner.com/~ff/rss/cnn_topstories?d=yIl2AUoC8zA\" border=\"0\"></img></a> <a href=\"http://rss.cnn.com/~ff/rss/cnn_topstories?a=dCAeljkLCQw:jTgOu-KK9b4:7Q72WNTAKBA\"><img src=\"http://feeds.feedburner.com/~ff/rss/cnn_topstories?d=7Q72WNTAKBA\" border=\"0\"></img></a> <a href=\"http://rss.cnn.com/~ff/rss/cnn_topstories?a=dCAeljkLCQw:jTgOu-KK9b4:V_sGLiPBpWU\"><img src=\"http://feeds.feedburner.com/~ff/rss/cnn_topstories?i=dCAeljkLCQw:jTgOu-KK9b4:V_sGLiPBpWU\" border=\"0\"></img></a> <a href=\"http://rss.cnn.com/~ff/rss/cnn_topstories?a=dCAeljkLCQw:jTgOu-KK9b4:qj6IDK7rITs\"><img src=\"http://feeds.feedburner.com/~ff/rss/cnn_topstories?d=qj6IDK7rITs\" border=\"0\"></img></a> <a href=\"http://rss.cnn.com/~ff/rss/cnn_topstories?a=dCAeljkLCQw:jTgOu-KK9b4:gIN9vFwOqvQ\"><img src=\"http://feeds.feedburner.com/~ff/rss/cnn_topstories?i=dCAeljkLCQw:jTgOu-KK9b4:gIN9vFwOqvQ\" border=\"0\"></img></a>\\n</div><img src=\"http://feeds.feedburner.com/~r/rss/cnn_topstories/~4/dCAeljkLCQw\" height=\"1\" width=\"1\" alt=\"\"/>',\n",
              "  'title': \"What's streaming in December\",\n",
              "  'url': 'http://rss.cnn.com/~r/rss/cnn_topstories/~3/dCAeljkLCQw/index.html'},\n",
              " {'description': 'Actress Daisy Ridley gave a shout out to \"Baby Yoda\" and rapped the entire plot history of \"Star Wars\" on \"The Tonight Show Starring Jimmy Fallon.\"<div class=\"feedflare\">\\n<a href=\"http://rss.cnn.com/~ff/rss/cnn_topstories?a=AEuXltpAHJk:7ptfUeaQUT4:yIl2AUoC8zA\"><img src=\"http://feeds.feedburner.com/~ff/rss/cnn_topstories?d=yIl2AUoC8zA\" border=\"0\"></img></a> <a href=\"http://rss.cnn.com/~ff/rss/cnn_topstories?a=AEuXltpAHJk:7ptfUeaQUT4:7Q72WNTAKBA\"><img src=\"http://feeds.feedburner.com/~ff/rss/cnn_topstories?d=7Q72WNTAKBA\" border=\"0\"></img></a> <a href=\"http://rss.cnn.com/~ff/rss/cnn_topstories?a=AEuXltpAHJk:7ptfUeaQUT4:V_sGLiPBpWU\"><img src=\"http://feeds.feedburner.com/~ff/rss/cnn_topstories?i=AEuXltpAHJk:7ptfUeaQUT4:V_sGLiPBpWU\" border=\"0\"></img></a> <a href=\"http://rss.cnn.com/~ff/rss/cnn_topstories?a=AEuXltpAHJk:7ptfUeaQUT4:qj6IDK7rITs\"><img src=\"http://feeds.feedburner.com/~ff/rss/cnn_topstories?d=qj6IDK7rITs\" border=\"0\"></img></a> <a href=\"http://rss.cnn.com/~ff/rss/cnn_topstories?a=AEuXltpAHJk:7ptfUeaQUT4:gIN9vFwOqvQ\"><img src=\"http://feeds.feedburner.com/~ff/rss/cnn_topstories?i=AEuXltpAHJk:7ptfUeaQUT4:gIN9vFwOqvQ\" border=\"0\"></img></a>\\n</div><img src=\"http://feeds.feedburner.com/~r/rss/cnn_topstories/~4/AEuXltpAHJk\" height=\"1\" width=\"1\" alt=\"\"/>',\n",
              "  'title': \"Actress raps entire history of 'Star Wars'\",\n",
              "  'url': 'http://rss.cnn.com/~r/rss/cnn_topstories/~3/AEuXltpAHJk/daisy-ridley-star-wars-rap-tonight-show-orig-vstop-bdk.cnn'},\n",
              " {'description': 'The Carters spent just four years in the White House during troubled times and almost four decades out of it redefining what a former president and first lady can accomplish.<div class=\"feedflare\">\\n<a href=\"http://rss.cnn.com/~ff/rss/cnn_topstories?a=jka6ufLqENQ:YOQf9kVMV8s:yIl2AUoC8zA\"><img src=\"http://feeds.feedburner.com/~ff/rss/cnn_topstories?d=yIl2AUoC8zA\" border=\"0\"></img></a> <a href=\"http://rss.cnn.com/~ff/rss/cnn_topstories?a=jka6ufLqENQ:YOQf9kVMV8s:7Q72WNTAKBA\"><img src=\"http://feeds.feedburner.com/~ff/rss/cnn_topstories?d=7Q72WNTAKBA\" border=\"0\"></img></a> <a href=\"http://rss.cnn.com/~ff/rss/cnn_topstories?a=jka6ufLqENQ:YOQf9kVMV8s:V_sGLiPBpWU\"><img src=\"http://feeds.feedburner.com/~ff/rss/cnn_topstories?i=jka6ufLqENQ:YOQf9kVMV8s:V_sGLiPBpWU\" border=\"0\"></img></a> <a href=\"http://rss.cnn.com/~ff/rss/cnn_topstories?a=jka6ufLqENQ:YOQf9kVMV8s:qj6IDK7rITs\"><img src=\"http://feeds.feedburner.com/~ff/rss/cnn_topstories?d=qj6IDK7rITs\" border=\"0\"></img></a> <a href=\"http://rss.cnn.com/~ff/rss/cnn_topstories?a=jka6ufLqENQ:YOQf9kVMV8s:gIN9vFwOqvQ\"><img src=\"http://feeds.feedburner.com/~ff/rss/cnn_topstories?i=jka6ufLqENQ:YOQf9kVMV8s:gIN9vFwOqvQ\" border=\"0\"></img></a>\\n</div><img src=\"http://feeds.feedburner.com/~r/rss/cnn_topstories/~4/jka6ufLqENQ\" height=\"1\" width=\"1\" alt=\"\"/>',\n",
              "  'title': 'Opinion: The simple way Jimmy and Rosalynn Carter live their lives',\n",
              "  'url': 'http://rss.cnn.com/~r/rss/cnn_topstories/~3/jka6ufLqENQ/index.html'},\n",
              " {'description': 'As retailers and malls battle for shoppers during the holiday season, they face a tricky decision: do they keep their doors open on Thanksgiving Day, or close to give their workers the holiday off?<div class=\"feedflare\">\\n<a href=\"http://rss.cnn.com/~ff/rss/cnn_topstories?a=3HqJKhYzTdY:HFsC-m1shps:yIl2AUoC8zA\"><img src=\"http://feeds.feedburner.com/~ff/rss/cnn_topstories?d=yIl2AUoC8zA\" border=\"0\"></img></a> <a href=\"http://rss.cnn.com/~ff/rss/cnn_topstories?a=3HqJKhYzTdY:HFsC-m1shps:7Q72WNTAKBA\"><img src=\"http://feeds.feedburner.com/~ff/rss/cnn_topstories?d=7Q72WNTAKBA\" border=\"0\"></img></a> <a href=\"http://rss.cnn.com/~ff/rss/cnn_topstories?a=3HqJKhYzTdY:HFsC-m1shps:V_sGLiPBpWU\"><img src=\"http://feeds.feedburner.com/~ff/rss/cnn_topstories?i=3HqJKhYzTdY:HFsC-m1shps:V_sGLiPBpWU\" border=\"0\"></img></a> <a href=\"http://rss.cnn.com/~ff/rss/cnn_topstories?a=3HqJKhYzTdY:HFsC-m1shps:qj6IDK7rITs\"><img src=\"http://feeds.feedburner.com/~ff/rss/cnn_topstories?d=qj6IDK7rITs\" border=\"0\"></img></a> <a href=\"http://rss.cnn.com/~ff/rss/cnn_topstories?a=3HqJKhYzTdY:HFsC-m1shps:gIN9vFwOqvQ\"><img src=\"http://feeds.feedburner.com/~ff/rss/cnn_topstories?i=3HqJKhYzTdY:HFsC-m1shps:gIN9vFwOqvQ\" border=\"0\"></img></a>\\n</div><img src=\"http://feeds.feedburner.com/~r/rss/cnn_topstories/~4/3HqJKhYzTdY\" height=\"1\" width=\"1\" alt=\"\"/>',\n",
              "  'title': 'A Thanksgiving Day dilemma: Should stores stay open or closed?',\n",
              "  'url': 'http://rss.cnn.com/~r/rss/cnn_topstories/~3/3HqJKhYzTdY/index.html'},\n",
              " {'description': 'For years, Google was seen as the gold standard of office life. The company pushed workplace culture to new frontiers with enviable benefits such as free meals, office slides, onsite childcare and an emphasis on transparency. But Google is quickly developing a very different reputation as it confronts a mounting backlash from its own employees.<div class=\"feedflare\">\\n<a href=\"http://rss.cnn.com/~ff/rss/cnn_topstories?a=r85WeWibEPE:j0LUIL0rDmQ:yIl2AUoC8zA\"><img src=\"http://feeds.feedburner.com/~ff/rss/cnn_topstories?d=yIl2AUoC8zA\" border=\"0\"></img></a> <a href=\"http://rss.cnn.com/~ff/rss/cnn_topstories?a=r85WeWibEPE:j0LUIL0rDmQ:7Q72WNTAKBA\"><img src=\"http://feeds.feedburner.com/~ff/rss/cnn_topstories?d=7Q72WNTAKBA\" border=\"0\"></img></a> <a href=\"http://rss.cnn.com/~ff/rss/cnn_topstories?a=r85WeWibEPE:j0LUIL0rDmQ:V_sGLiPBpWU\"><img src=\"http://feeds.feedburner.com/~ff/rss/cnn_topstories?i=r85WeWibEPE:j0LUIL0rDmQ:V_sGLiPBpWU\" border=\"0\"></img></a> <a href=\"http://rss.cnn.com/~ff/rss/cnn_topstories?a=r85WeWibEPE:j0LUIL0rDmQ:qj6IDK7rITs\"><img src=\"http://feeds.feedburner.com/~ff/rss/cnn_topstories?d=qj6IDK7rITs\" border=\"0\"></img></a> <a href=\"http://rss.cnn.com/~ff/rss/cnn_topstories?a=r85WeWibEPE:j0LUIL0rDmQ:gIN9vFwOqvQ\"><img src=\"http://feeds.feedburner.com/~ff/rss/cnn_topstories?i=r85WeWibEPE:j0LUIL0rDmQ:gIN9vFwOqvQ\" border=\"0\"></img></a>\\n</div><img src=\"http://feeds.feedburner.com/~r/rss/cnn_topstories/~4/r85WeWibEPE\" height=\"1\" width=\"1\" alt=\"\"/>',\n",
              "  'title': 'Tensions between Google and its employees reach a breaking point',\n",
              "  'url': 'http://rss.cnn.com/~r/rss/cnn_topstories/~3/r85WeWibEPE/index.html'},\n",
              " {'description': 'The automotive industry is hurtling toward a future that will change transportation the same way electricity changed how we light the world. Electric and self-driving vehicles will alter the automotive landscape forever — it\\'s only a question of how soon.<div class=\"feedflare\">\\n<a href=\"http://rss.cnn.com/~ff/rss/cnn_topstories?a=R_I_245lrkA:Nu4FLqOlqLI:yIl2AUoC8zA\"><img src=\"http://feeds.feedburner.com/~ff/rss/cnn_topstories?d=yIl2AUoC8zA\" border=\"0\"></img></a> <a href=\"http://rss.cnn.com/~ff/rss/cnn_topstories?a=R_I_245lrkA:Nu4FLqOlqLI:7Q72WNTAKBA\"><img src=\"http://feeds.feedburner.com/~ff/rss/cnn_topstories?d=7Q72WNTAKBA\" border=\"0\"></img></a> <a href=\"http://rss.cnn.com/~ff/rss/cnn_topstories?a=R_I_245lrkA:Nu4FLqOlqLI:V_sGLiPBpWU\"><img src=\"http://feeds.feedburner.com/~ff/rss/cnn_topstories?i=R_I_245lrkA:Nu4FLqOlqLI:V_sGLiPBpWU\" border=\"0\"></img></a> <a href=\"http://rss.cnn.com/~ff/rss/cnn_topstories?a=R_I_245lrkA:Nu4FLqOlqLI:qj6IDK7rITs\"><img src=\"http://feeds.feedburner.com/~ff/rss/cnn_topstories?d=qj6IDK7rITs\" border=\"0\"></img></a> <a href=\"http://rss.cnn.com/~ff/rss/cnn_topstories?a=R_I_245lrkA:Nu4FLqOlqLI:gIN9vFwOqvQ\"><img src=\"http://feeds.feedburner.com/~ff/rss/cnn_topstories?i=R_I_245lrkA:Nu4FLqOlqLI:gIN9vFwOqvQ\" border=\"0\"></img></a>\\n</div><img src=\"http://feeds.feedburner.com/~r/rss/cnn_topstories/~4/R_I_245lrkA\" height=\"1\" width=\"1\" alt=\"\"/>',\n",
              "  'title': \"GM president: Electric cars won't go mainstream until we fix these problems\",\n",
              "  'url': 'http://rss.cnn.com/~r/rss/cnn_topstories/~3/R_I_245lrkA/index.html'},\n",
              " {'description': 'Last-minute presidential candidates such as billionaire Michael Bloomberg and former Massachusetts Gov. Deval Patrick, a managing director at Bain Capital, have entered the race in an effort to promote moderation and defeat progressive Democratic candidates who Wall Street fears.<div class=\"feedflare\">\\n<a href=\"http://rss.cnn.com/~ff/rss/cnn_topstories?a=nzKwj9bDhko:F-52UHzDj6Q:yIl2AUoC8zA\"><img src=\"http://feeds.feedburner.com/~ff/rss/cnn_topstories?d=yIl2AUoC8zA\" border=\"0\"></img></a> <a href=\"http://rss.cnn.com/~ff/rss/cnn_topstories?a=nzKwj9bDhko:F-52UHzDj6Q:7Q72WNTAKBA\"><img src=\"http://feeds.feedburner.com/~ff/rss/cnn_topstories?d=7Q72WNTAKBA\" border=\"0\"></img></a> <a href=\"http://rss.cnn.com/~ff/rss/cnn_topstories?a=nzKwj9bDhko:F-52UHzDj6Q:V_sGLiPBpWU\"><img src=\"http://feeds.feedburner.com/~ff/rss/cnn_topstories?i=nzKwj9bDhko:F-52UHzDj6Q:V_sGLiPBpWU\" border=\"0\"></img></a> <a href=\"http://rss.cnn.com/~ff/rss/cnn_topstories?a=nzKwj9bDhko:F-52UHzDj6Q:qj6IDK7rITs\"><img src=\"http://feeds.feedburner.com/~ff/rss/cnn_topstories?d=qj6IDK7rITs\" border=\"0\"></img></a> <a href=\"http://rss.cnn.com/~ff/rss/cnn_topstories?a=nzKwj9bDhko:F-52UHzDj6Q:gIN9vFwOqvQ\"><img src=\"http://feeds.feedburner.com/~ff/rss/cnn_topstories?i=nzKwj9bDhko:F-52UHzDj6Q:gIN9vFwOqvQ\" border=\"0\"></img></a>\\n</div><img src=\"http://feeds.feedburner.com/~r/rss/cnn_topstories/~4/nzKwj9bDhko\" height=\"1\" width=\"1\" alt=\"\"/>',\n",
              "  'title': 'Obama is wrong',\n",
              "  'url': 'http://rss.cnn.com/~r/rss/cnn_topstories/~3/nzKwj9bDhko/index.html'},\n",
              " {'description': 'Sen. John Kennedy is the exception that proves the rule. Kennedy backed away from the absurd Trumpworld fantasy that has claimed the minds of so many of his Republican colleagues. Now, as he told CNN\\'s Chris Cuomo, the senator from Louisiana accepts the truth that it was Russia that interfered in America\\'s 2016 election.<div class=\"feedflare\">\\n<a href=\"http://rss.cnn.com/~ff/rss/cnn_topstories?a=Yzjx9qgGta4:kEucD1gbi3I:yIl2AUoC8zA\"><img src=\"http://feeds.feedburner.com/~ff/rss/cnn_topstories?d=yIl2AUoC8zA\" border=\"0\"></img></a> <a href=\"http://rss.cnn.com/~ff/rss/cnn_topstories?a=Yzjx9qgGta4:kEucD1gbi3I:7Q72WNTAKBA\"><img src=\"http://feeds.feedburner.com/~ff/rss/cnn_topstories?d=7Q72WNTAKBA\" border=\"0\"></img></a> <a href=\"http://rss.cnn.com/~ff/rss/cnn_topstories?a=Yzjx9qgGta4:kEucD1gbi3I:V_sGLiPBpWU\"><img src=\"http://feeds.feedburner.com/~ff/rss/cnn_topstories?i=Yzjx9qgGta4:kEucD1gbi3I:V_sGLiPBpWU\" border=\"0\"></img></a> <a href=\"http://rss.cnn.com/~ff/rss/cnn_topstories?a=Yzjx9qgGta4:kEucD1gbi3I:qj6IDK7rITs\"><img src=\"http://feeds.feedburner.com/~ff/rss/cnn_topstories?d=qj6IDK7rITs\" border=\"0\"></img></a> <a href=\"http://rss.cnn.com/~ff/rss/cnn_topstories?a=Yzjx9qgGta4:kEucD1gbi3I:gIN9vFwOqvQ\"><img src=\"http://feeds.feedburner.com/~ff/rss/cnn_topstories?i=Yzjx9qgGta4:kEucD1gbi3I:gIN9vFwOqvQ\" border=\"0\"></img></a>\\n</div><img src=\"http://feeds.feedburner.com/~r/rss/cnn_topstories/~4/Yzjx9qgGta4\" height=\"1\" width=\"1\" alt=\"\"/>',\n",
              "  'title': \"GOP's chilling surrender to Trump\",\n",
              "  'url': 'http://rss.cnn.com/~r/rss/cnn_topstories/~3/Yzjx9qgGta4/index.html'},\n",
              " {'description': 'Let\\'s all take a moment for Lewis the koala.<div class=\"feedflare\">\\n<a href=\"http://rss.cnn.com/~ff/rss/cnn_topstories?a=H_qiSqz3BLE:n4chAnp7LK0:yIl2AUoC8zA\"><img src=\"http://feeds.feedburner.com/~ff/rss/cnn_topstories?d=yIl2AUoC8zA\" border=\"0\"></img></a> <a href=\"http://rss.cnn.com/~ff/rss/cnn_topstories?a=H_qiSqz3BLE:n4chAnp7LK0:7Q72WNTAKBA\"><img src=\"http://feeds.feedburner.com/~ff/rss/cnn_topstories?d=7Q72WNTAKBA\" border=\"0\"></img></a> <a href=\"http://rss.cnn.com/~ff/rss/cnn_topstories?a=H_qiSqz3BLE:n4chAnp7LK0:V_sGLiPBpWU\"><img src=\"http://feeds.feedburner.com/~ff/rss/cnn_topstories?i=H_qiSqz3BLE:n4chAnp7LK0:V_sGLiPBpWU\" border=\"0\"></img></a> <a href=\"http://rss.cnn.com/~ff/rss/cnn_topstories?a=H_qiSqz3BLE:n4chAnp7LK0:qj6IDK7rITs\"><img src=\"http://feeds.feedburner.com/~ff/rss/cnn_topstories?d=qj6IDK7rITs\" border=\"0\"></img></a> <a href=\"http://rss.cnn.com/~ff/rss/cnn_topstories?a=H_qiSqz3BLE:n4chAnp7LK0:gIN9vFwOqvQ\"><img src=\"http://feeds.feedburner.com/~ff/rss/cnn_topstories?i=H_qiSqz3BLE:n4chAnp7LK0:gIN9vFwOqvQ\" border=\"0\"></img></a>\\n</div><img src=\"http://feeds.feedburner.com/~r/rss/cnn_topstories/~4/H_qiSqz3BLE\" height=\"1\" width=\"1\" alt=\"\"/>',\n",
              "  'title': 'RIP Lewis the koala',\n",
              "  'url': 'http://rss.cnn.com/~r/rss/cnn_topstories/~3/H_qiSqz3BLE/index.html'},\n",
              " {'description': 'Rick Perry, as well as being energy secretary, is also a bit of a self-styled theologian, as we saw on Fox News this past weekend. He told viewers that President Trump was installed in the Oval Office by God. Perry said he was a \"big believer\" that the Lord involves himself in the \"details of the day-to-day lives of government,\" having picked Obama, too.<div class=\"feedflare\">\\n<a href=\"http://rss.cnn.com/~ff/rss/cnn_topstories?a=telK95eQCh4:KjO-GCui6Eo:yIl2AUoC8zA\"><img src=\"http://feeds.feedburner.com/~ff/rss/cnn_topstories?d=yIl2AUoC8zA\" border=\"0\"></img></a> <a href=\"http://rss.cnn.com/~ff/rss/cnn_topstories?a=telK95eQCh4:KjO-GCui6Eo:7Q72WNTAKBA\"><img src=\"http://feeds.feedburner.com/~ff/rss/cnn_topstories?d=7Q72WNTAKBA\" border=\"0\"></img></a> <a href=\"http://rss.cnn.com/~ff/rss/cnn_topstories?a=telK95eQCh4:KjO-GCui6Eo:V_sGLiPBpWU\"><img src=\"http://feeds.feedburner.com/~ff/rss/cnn_topstories?i=telK95eQCh4:KjO-GCui6Eo:V_sGLiPBpWU\" border=\"0\"></img></a> <a href=\"http://rss.cnn.com/~ff/rss/cnn_topstories?a=telK95eQCh4:KjO-GCui6Eo:qj6IDK7rITs\"><img src=\"http://feeds.feedburner.com/~ff/rss/cnn_topstories?d=qj6IDK7rITs\" border=\"0\"></img></a> <a href=\"http://rss.cnn.com/~ff/rss/cnn_topstories?a=telK95eQCh4:KjO-GCui6Eo:gIN9vFwOqvQ\"><img src=\"http://feeds.feedburner.com/~ff/rss/cnn_topstories?i=telK95eQCh4:KjO-GCui6Eo:gIN9vFwOqvQ\" border=\"0\"></img></a>\\n</div><img src=\"http://feeds.feedburner.com/~r/rss/cnn_topstories/~4/telK95eQCh4\" height=\"1\" width=\"1\" alt=\"\"/>',\n",
              "  'title': \"Is Trump really the 'chosen one'?\",\n",
              "  'url': 'http://rss.cnn.com/~r/rss/cnn_topstories/~3/telK95eQCh4/index.html'},\n",
              " {'description': 'Years of research have shown that spanking children is ineffective and potentially harmful. These facts have led the American Academy of Pediatrics to recommend, in a new policy statement published Monday in the journal Pediatrics, that parents not spank, hit or slap their children. This statement from America\\'s leading group of pediatricians, with 67,000 members, is an update to guidance they issued in 1988 that recommended parents \"be encouraged and assisted in developing methods other than spanking\" to discipline kids.<div class=\"feedflare\">\\n<a href=\"http://rss.cnn.com/~ff/rss/cnn_topstories?a=GtXswKb7Pv0:09fuzFWTfLc:yIl2AUoC8zA\"><img src=\"http://feeds.feedburner.com/~ff/rss/cnn_topstories?d=yIl2AUoC8zA\" border=\"0\"></img></a> <a href=\"http://rss.cnn.com/~ff/rss/cnn_topstories?a=GtXswKb7Pv0:09fuzFWTfLc:7Q72WNTAKBA\"><img src=\"http://feeds.feedburner.com/~ff/rss/cnn_topstories?d=7Q72WNTAKBA\" border=\"0\"></img></a> <a href=\"http://rss.cnn.com/~ff/rss/cnn_topstories?a=GtXswKb7Pv0:09fuzFWTfLc:V_sGLiPBpWU\"><img src=\"http://feeds.feedburner.com/~ff/rss/cnn_topstories?i=GtXswKb7Pv0:09fuzFWTfLc:V_sGLiPBpWU\" border=\"0\"></img></a> <a href=\"http://rss.cnn.com/~ff/rss/cnn_topstories?a=GtXswKb7Pv0:09fuzFWTfLc:qj6IDK7rITs\"><img src=\"http://feeds.feedburner.com/~ff/rss/cnn_topstories?d=qj6IDK7rITs\" border=\"0\"></img></a> <a href=\"http://rss.cnn.com/~ff/rss/cnn_topstories?a=GtXswKb7Pv0:09fuzFWTfLc:gIN9vFwOqvQ\"><img src=\"http://feeds.feedburner.com/~ff/rss/cnn_topstories?i=GtXswKb7Pv0:09fuzFWTfLc:gIN9vFwOqvQ\" border=\"0\"></img></a>\\n</div><img src=\"http://feeds.feedburner.com/~r/rss/cnn_topstories/~4/GtXswKb7Pv0\" height=\"1\" width=\"1\" alt=\"\"/>',\n",
              "  'title': 'The era of spanking is finally over',\n",
              "  'url': 'http://rss.cnn.com/~r/rss/cnn_topstories/~3/GtXswKb7Pv0/index.html'},\n",
              " {'description': '<div class=\"feedflare\">\\n<a href=\"http://rss.cnn.com/~ff/rss/cnn_topstories?a=f_6QDwgT3J0:DWjhwaHUKp4:yIl2AUoC8zA\"><img src=\"http://feeds.feedburner.com/~ff/rss/cnn_topstories?d=yIl2AUoC8zA\" border=\"0\"></img></a> <a href=\"http://rss.cnn.com/~ff/rss/cnn_topstories?a=f_6QDwgT3J0:DWjhwaHUKp4:7Q72WNTAKBA\"><img src=\"http://feeds.feedburner.com/~ff/rss/cnn_topstories?d=7Q72WNTAKBA\" border=\"0\"></img></a> <a href=\"http://rss.cnn.com/~ff/rss/cnn_topstories?a=f_6QDwgT3J0:DWjhwaHUKp4:V_sGLiPBpWU\"><img src=\"http://feeds.feedburner.com/~ff/rss/cnn_topstories?i=f_6QDwgT3J0:DWjhwaHUKp4:V_sGLiPBpWU\" border=\"0\"></img></a> <a href=\"http://rss.cnn.com/~ff/rss/cnn_topstories?a=f_6QDwgT3J0:DWjhwaHUKp4:qj6IDK7rITs\"><img src=\"http://feeds.feedburner.com/~ff/rss/cnn_topstories?d=qj6IDK7rITs\" border=\"0\"></img></a> <a href=\"http://rss.cnn.com/~ff/rss/cnn_topstories?a=f_6QDwgT3J0:DWjhwaHUKp4:gIN9vFwOqvQ\"><img src=\"http://feeds.feedburner.com/~ff/rss/cnn_topstories?i=f_6QDwgT3J0:DWjhwaHUKp4:gIN9vFwOqvQ\" border=\"0\"></img></a>\\n</div><img src=\"http://feeds.feedburner.com/~r/rss/cnn_topstories/~4/f_6QDwgT3J0\" height=\"1\" width=\"1\" alt=\"\"/>',\n",
              "  'title': 'Refi rates at 3.06% APR (15 yr). Do you qualify?',\n",
              "  'url': 'http://rss.cnn.com/~r/rss/cnn_topstories/~3/f_6QDwgT3J0/'},\n",
              " {'description': '<div class=\"feedflare\">\\n<a href=\"http://rss.cnn.com/~ff/rss/cnn_topstories?a=PQ6-Y95W9Jo:QCOe9hCdnWg:yIl2AUoC8zA\"><img src=\"http://feeds.feedburner.com/~ff/rss/cnn_topstories?d=yIl2AUoC8zA\" border=\"0\"></img></a> <a href=\"http://rss.cnn.com/~ff/rss/cnn_topstories?a=PQ6-Y95W9Jo:QCOe9hCdnWg:7Q72WNTAKBA\"><img src=\"http://feeds.feedburner.com/~ff/rss/cnn_topstories?d=7Q72WNTAKBA\" border=\"0\"></img></a> <a href=\"http://rss.cnn.com/~ff/rss/cnn_topstories?a=PQ6-Y95W9Jo:QCOe9hCdnWg:V_sGLiPBpWU\"><img src=\"http://feeds.feedburner.com/~ff/rss/cnn_topstories?i=PQ6-Y95W9Jo:QCOe9hCdnWg:V_sGLiPBpWU\" border=\"0\"></img></a> <a href=\"http://rss.cnn.com/~ff/rss/cnn_topstories?a=PQ6-Y95W9Jo:QCOe9hCdnWg:qj6IDK7rITs\"><img src=\"http://feeds.feedburner.com/~ff/rss/cnn_topstories?d=qj6IDK7rITs\" border=\"0\"></img></a> <a href=\"http://rss.cnn.com/~ff/rss/cnn_topstories?a=PQ6-Y95W9Jo:QCOe9hCdnWg:gIN9vFwOqvQ\"><img src=\"http://feeds.feedburner.com/~ff/rss/cnn_topstories?i=PQ6-Y95W9Jo:QCOe9hCdnWg:gIN9vFwOqvQ\" border=\"0\"></img></a>\\n</div><img src=\"http://feeds.feedburner.com/~r/rss/cnn_topstories/~4/PQ6-Y95W9Jo\" height=\"1\" width=\"1\" alt=\"\"/>',\n",
              "  'title': '9 cards charging 0% interest until 2021',\n",
              "  'url': 'http://rss.cnn.com/~r/rss/cnn_topstories/~3/PQ6-Y95W9Jo/pay-0-interest-until-2021'},\n",
              " {'description': '<div class=\"feedflare\">\\n<a href=\"http://rss.cnn.com/~ff/rss/cnn_topstories?a=meUCzmaGayo:-IV7dnp0Y5U:yIl2AUoC8zA\"><img src=\"http://feeds.feedburner.com/~ff/rss/cnn_topstories?d=yIl2AUoC8zA\" border=\"0\"></img></a> <a href=\"http://rss.cnn.com/~ff/rss/cnn_topstories?a=meUCzmaGayo:-IV7dnp0Y5U:7Q72WNTAKBA\"><img src=\"http://feeds.feedburner.com/~ff/rss/cnn_topstories?d=7Q72WNTAKBA\" border=\"0\"></img></a> <a href=\"http://rss.cnn.com/~ff/rss/cnn_topstories?a=meUCzmaGayo:-IV7dnp0Y5U:V_sGLiPBpWU\"><img src=\"http://feeds.feedburner.com/~ff/rss/cnn_topstories?i=meUCzmaGayo:-IV7dnp0Y5U:V_sGLiPBpWU\" border=\"0\"></img></a> <a href=\"http://rss.cnn.com/~ff/rss/cnn_topstories?a=meUCzmaGayo:-IV7dnp0Y5U:qj6IDK7rITs\"><img src=\"http://feeds.feedburner.com/~ff/rss/cnn_topstories?d=qj6IDK7rITs\" border=\"0\"></img></a> <a href=\"http://rss.cnn.com/~ff/rss/cnn_topstories?a=meUCzmaGayo:-IV7dnp0Y5U:gIN9vFwOqvQ\"><img src=\"http://feeds.feedburner.com/~ff/rss/cnn_topstories?i=meUCzmaGayo:-IV7dnp0Y5U:gIN9vFwOqvQ\" border=\"0\"></img></a>\\n</div><img src=\"http://feeds.feedburner.com/~r/rss/cnn_topstories/~4/meUCzmaGayo\" height=\"1\" width=\"1\" alt=\"\"/>',\n",
              "  'title': 'Free report: 5 stocks under $49',\n",
              "  'url': 'http://rss.cnn.com/~r/rss/cnn_topstories/~3/meUCzmaGayo/e-sa-5-stocks-under-50'},\n",
              " {'description': '<div class=\"feedflare\">\\n<a href=\"http://rss.cnn.com/~ff/rss/cnn_topstories?a=_s5wULcvhcA:Vi-n6hBgSpQ:yIl2AUoC8zA\"><img src=\"http://feeds.feedburner.com/~ff/rss/cnn_topstories?d=yIl2AUoC8zA\" border=\"0\"></img></a> <a href=\"http://rss.cnn.com/~ff/rss/cnn_topstories?a=_s5wULcvhcA:Vi-n6hBgSpQ:7Q72WNTAKBA\"><img src=\"http://feeds.feedburner.com/~ff/rss/cnn_topstories?d=7Q72WNTAKBA\" border=\"0\"></img></a> <a href=\"http://rss.cnn.com/~ff/rss/cnn_topstories?a=_s5wULcvhcA:Vi-n6hBgSpQ:V_sGLiPBpWU\"><img src=\"http://feeds.feedburner.com/~ff/rss/cnn_topstories?i=_s5wULcvhcA:Vi-n6hBgSpQ:V_sGLiPBpWU\" border=\"0\"></img></a> <a href=\"http://rss.cnn.com/~ff/rss/cnn_topstories?a=_s5wULcvhcA:Vi-n6hBgSpQ:qj6IDK7rITs\"><img src=\"http://feeds.feedburner.com/~ff/rss/cnn_topstories?d=qj6IDK7rITs\" border=\"0\"></img></a> <a href=\"http://rss.cnn.com/~ff/rss/cnn_topstories?a=_s5wULcvhcA:Vi-n6hBgSpQ:gIN9vFwOqvQ\"><img src=\"http://feeds.feedburner.com/~ff/rss/cnn_topstories?i=_s5wULcvhcA:Vi-n6hBgSpQ:gIN9vFwOqvQ\" border=\"0\"></img></a>\\n</div><img src=\"http://feeds.feedburner.com/~r/rss/cnn_topstories/~4/_s5wULcvhcA\" height=\"1\" width=\"1\" alt=\"\"/>',\n",
              "  'title': \"Newly leaked documents threaten to shatter China's entire Xinjiang defense\",\n",
              "  'url': 'http://rss.cnn.com/~r/rss/cnn_topstories/~3/_s5wULcvhcA/index.html'},\n",
              " {'description': '<div class=\"feedflare\">\\n<a href=\"http://rss.cnn.com/~ff/rss/cnn_topstories?a=JihN-YG6jUQ:7g7dUxAWs50:yIl2AUoC8zA\"><img src=\"http://feeds.feedburner.com/~ff/rss/cnn_topstories?d=yIl2AUoC8zA\" border=\"0\"></img></a> <a href=\"http://rss.cnn.com/~ff/rss/cnn_topstories?a=JihN-YG6jUQ:7g7dUxAWs50:7Q72WNTAKBA\"><img src=\"http://feeds.feedburner.com/~ff/rss/cnn_topstories?d=7Q72WNTAKBA\" border=\"0\"></img></a> <a href=\"http://rss.cnn.com/~ff/rss/cnn_topstories?a=JihN-YG6jUQ:7g7dUxAWs50:V_sGLiPBpWU\"><img src=\"http://feeds.feedburner.com/~ff/rss/cnn_topstories?i=JihN-YG6jUQ:7g7dUxAWs50:V_sGLiPBpWU\" border=\"0\"></img></a> <a href=\"http://rss.cnn.com/~ff/rss/cnn_topstories?a=JihN-YG6jUQ:7g7dUxAWs50:qj6IDK7rITs\"><img src=\"http://feeds.feedburner.com/~ff/rss/cnn_topstories?d=qj6IDK7rITs\" border=\"0\"></img></a> <a href=\"http://rss.cnn.com/~ff/rss/cnn_topstories?a=JihN-YG6jUQ:7g7dUxAWs50:gIN9vFwOqvQ\"><img src=\"http://feeds.feedburner.com/~ff/rss/cnn_topstories?i=JihN-YG6jUQ:7g7dUxAWs50:gIN9vFwOqvQ\" border=\"0\"></img></a>\\n</div><img src=\"http://feeds.feedburner.com/~r/rss/cnn_topstories/~4/JihN-YG6jUQ\" height=\"1\" width=\"1\" alt=\"\"/>',\n",
              "  'title': 'Seven men sentenced to death for role terror attack',\n",
              "  'url': 'http://rss.cnn.com/~r/rss/cnn_topstories/~3/JihN-YG6jUQ/index.html'},\n",
              " {'description': 'The US State Department and Pentagon are sending teams to the UAE and Saudi Arabia to investigate CNN\\'s findings that American-made weaponry has been transferred to rebel fighters and separatist militia in Yemen.<div class=\"feedflare\">\\n<a href=\"http://rss.cnn.com/~ff/rss/cnn_topstories?a=G6OYjp45Cfs:nWCgqJPdngg:yIl2AUoC8zA\"><img src=\"http://feeds.feedburner.com/~ff/rss/cnn_topstories?d=yIl2AUoC8zA\" border=\"0\"></img></a> <a href=\"http://rss.cnn.com/~ff/rss/cnn_topstories?a=G6OYjp45Cfs:nWCgqJPdngg:7Q72WNTAKBA\"><img src=\"http://feeds.feedburner.com/~ff/rss/cnn_topstories?d=7Q72WNTAKBA\" border=\"0\"></img></a> <a href=\"http://rss.cnn.com/~ff/rss/cnn_topstories?a=G6OYjp45Cfs:nWCgqJPdngg:V_sGLiPBpWU\"><img src=\"http://feeds.feedburner.com/~ff/rss/cnn_topstories?i=G6OYjp45Cfs:nWCgqJPdngg:V_sGLiPBpWU\" border=\"0\"></img></a> <a href=\"http://rss.cnn.com/~ff/rss/cnn_topstories?a=G6OYjp45Cfs:nWCgqJPdngg:qj6IDK7rITs\"><img src=\"http://feeds.feedburner.com/~ff/rss/cnn_topstories?d=qj6IDK7rITs\" border=\"0\"></img></a> <a href=\"http://rss.cnn.com/~ff/rss/cnn_topstories?a=G6OYjp45Cfs:nWCgqJPdngg:gIN9vFwOqvQ\"><img src=\"http://feeds.feedburner.com/~ff/rss/cnn_topstories?i=G6OYjp45Cfs:nWCgqJPdngg:gIN9vFwOqvQ\" border=\"0\"></img></a>\\n</div><img src=\"http://feeds.feedburner.com/~r/rss/cnn_topstories/~4/G6OYjp45Cfs\" height=\"1\" width=\"1\" alt=\"\"/>',\n",
              "  'title': 'US sends investigators to UAE and Saudi to probe CNN weapons violations findings',\n",
              "  'url': 'http://rss.cnn.com/~r/rss/cnn_topstories/~3/G6OYjp45Cfs/index.html'},\n",
              " {'description': '• Nearly 200,000 displaced by Turkey\\'s offensive<div class=\"feedflare\">\\n<a href=\"http://rss.cnn.com/~ff/rss/cnn_topstories?a=Jw2z8CawABg:FNiroYN34mE:yIl2AUoC8zA\"><img src=\"http://feeds.feedburner.com/~ff/rss/cnn_topstories?d=yIl2AUoC8zA\" border=\"0\"></img></a> <a href=\"http://rss.cnn.com/~ff/rss/cnn_topstories?a=Jw2z8CawABg:FNiroYN34mE:7Q72WNTAKBA\"><img src=\"http://feeds.feedburner.com/~ff/rss/cnn_topstories?d=7Q72WNTAKBA\" border=\"0\"></img></a> <a href=\"http://rss.cnn.com/~ff/rss/cnn_topstories?a=Jw2z8CawABg:FNiroYN34mE:V_sGLiPBpWU\"><img src=\"http://feeds.feedburner.com/~ff/rss/cnn_topstories?i=Jw2z8CawABg:FNiroYN34mE:V_sGLiPBpWU\" border=\"0\"></img></a> <a href=\"http://rss.cnn.com/~ff/rss/cnn_topstories?a=Jw2z8CawABg:FNiroYN34mE:qj6IDK7rITs\"><img src=\"http://feeds.feedburner.com/~ff/rss/cnn_topstories?d=qj6IDK7rITs\" border=\"0\"></img></a> <a href=\"http://rss.cnn.com/~ff/rss/cnn_topstories?a=Jw2z8CawABg:FNiroYN34mE:gIN9vFwOqvQ\"><img src=\"http://feeds.feedburner.com/~ff/rss/cnn_topstories?i=Jw2z8CawABg:FNiroYN34mE:gIN9vFwOqvQ\" border=\"0\"></img></a>\\n</div><img src=\"http://feeds.feedburner.com/~r/rss/cnn_topstories/~4/Jw2z8CawABg\" height=\"1\" width=\"1\" alt=\"\"/>',\n",
              "  'title': \"Trump promised they'd be safe. Now, they're homeless\",\n",
              "  'url': 'http://rss.cnn.com/~r/rss/cnn_topstories/~3/Jw2z8CawABg/index.html'},\n",
              " {'description': 'The koala who shot to internet fame after being rescued last week from massive wildfires in New South Wales, has died.<div class=\"feedflare\">\\n<a href=\"http://rss.cnn.com/~ff/rss/cnn_topstories?a=vM_RdcVWYxM:MITYpqmZ8PQ:yIl2AUoC8zA\"><img src=\"http://feeds.feedburner.com/~ff/rss/cnn_topstories?d=yIl2AUoC8zA\" border=\"0\"></img></a> <a href=\"http://rss.cnn.com/~ff/rss/cnn_topstories?a=vM_RdcVWYxM:MITYpqmZ8PQ:7Q72WNTAKBA\"><img src=\"http://feeds.feedburner.com/~ff/rss/cnn_topstories?d=7Q72WNTAKBA\" border=\"0\"></img></a> <a href=\"http://rss.cnn.com/~ff/rss/cnn_topstories?a=vM_RdcVWYxM:MITYpqmZ8PQ:V_sGLiPBpWU\"><img src=\"http://feeds.feedburner.com/~ff/rss/cnn_topstories?i=vM_RdcVWYxM:MITYpqmZ8PQ:V_sGLiPBpWU\" border=\"0\"></img></a> <a href=\"http://rss.cnn.com/~ff/rss/cnn_topstories?a=vM_RdcVWYxM:MITYpqmZ8PQ:qj6IDK7rITs\"><img src=\"http://feeds.feedburner.com/~ff/rss/cnn_topstories?d=qj6IDK7rITs\" border=\"0\"></img></a> <a href=\"http://rss.cnn.com/~ff/rss/cnn_topstories?a=vM_RdcVWYxM:MITYpqmZ8PQ:gIN9vFwOqvQ\"><img src=\"http://feeds.feedburner.com/~ff/rss/cnn_topstories?i=vM_RdcVWYxM:MITYpqmZ8PQ:gIN9vFwOqvQ\" border=\"0\"></img></a>\\n</div><img src=\"http://feeds.feedburner.com/~r/rss/cnn_topstories/~4/vM_RdcVWYxM\" height=\"1\" width=\"1\" alt=\"\"/>',\n",
              "  'title': 'Lewis the koala dies one week after rescue',\n",
              "  'url': 'http://rss.cnn.com/~r/rss/cnn_topstories/~3/vM_RdcVWYxM/koala-rescue-australia-fires-orig-jk.cnn'},\n",
              " {'description': 'When a World War II veteran turned 99, he had one regret. He had an opportunity earlier in life to meet some of the last living Civil War veterans, but he didn\\'t go.<div class=\"feedflare\">\\n<a href=\"http://rss.cnn.com/~ff/rss/cnn_topstories?a=GHX2-XLSEDA:Oci6hzZ92Bk:yIl2AUoC8zA\"><img src=\"http://feeds.feedburner.com/~ff/rss/cnn_topstories?d=yIl2AUoC8zA\" border=\"0\"></img></a> <a href=\"http://rss.cnn.com/~ff/rss/cnn_topstories?a=GHX2-XLSEDA:Oci6hzZ92Bk:7Q72WNTAKBA\"><img src=\"http://feeds.feedburner.com/~ff/rss/cnn_topstories?d=7Q72WNTAKBA\" border=\"0\"></img></a> <a href=\"http://rss.cnn.com/~ff/rss/cnn_topstories?a=GHX2-XLSEDA:Oci6hzZ92Bk:V_sGLiPBpWU\"><img src=\"http://feeds.feedburner.com/~ff/rss/cnn_topstories?i=GHX2-XLSEDA:Oci6hzZ92Bk:V_sGLiPBpWU\" border=\"0\"></img></a> <a href=\"http://rss.cnn.com/~ff/rss/cnn_topstories?a=GHX2-XLSEDA:Oci6hzZ92Bk:qj6IDK7rITs\"><img src=\"http://feeds.feedburner.com/~ff/rss/cnn_topstories?d=qj6IDK7rITs\" border=\"0\"></img></a> <a href=\"http://rss.cnn.com/~ff/rss/cnn_topstories?a=GHX2-XLSEDA:Oci6hzZ92Bk:gIN9vFwOqvQ\"><img src=\"http://feeds.feedburner.com/~ff/rss/cnn_topstories?i=GHX2-XLSEDA:Oci6hzZ92Bk:gIN9vFwOqvQ\" border=\"0\"></img></a>\\n</div><img src=\"http://feeds.feedburner.com/~r/rss/cnn_topstories/~4/GHX2-XLSEDA\" height=\"1\" width=\"1\" alt=\"\"/>',\n",
              "  'title': 'This 100-year-old World War II veteran is meeting with governors from every state',\n",
              "  'url': 'http://rss.cnn.com/~r/rss/cnn_topstories/~3/GHX2-XLSEDA/index.html'},\n",
              " {'description': 'Along a short hallway on the upper floor of Decatur Presbyterian Church in Atlanta, a blue banner stretches across the wall, packed with scrawled messages of thanks and words swelling with appreciation.<div class=\"feedflare\">\\n<a href=\"http://rss.cnn.com/~ff/rss/cnn_topstories?a=Tq1POE9I4Ic:ixv6FzHzzRk:yIl2AUoC8zA\"><img src=\"http://feeds.feedburner.com/~ff/rss/cnn_topstories?d=yIl2AUoC8zA\" border=\"0\"></img></a> <a href=\"http://rss.cnn.com/~ff/rss/cnn_topstories?a=Tq1POE9I4Ic:ixv6FzHzzRk:7Q72WNTAKBA\"><img src=\"http://feeds.feedburner.com/~ff/rss/cnn_topstories?d=7Q72WNTAKBA\" border=\"0\"></img></a> <a href=\"http://rss.cnn.com/~ff/rss/cnn_topstories?a=Tq1POE9I4Ic:ixv6FzHzzRk:V_sGLiPBpWU\"><img src=\"http://feeds.feedburner.com/~ff/rss/cnn_topstories?i=Tq1POE9I4Ic:ixv6FzHzzRk:V_sGLiPBpWU\" border=\"0\"></img></a> <a href=\"http://rss.cnn.com/~ff/rss/cnn_topstories?a=Tq1POE9I4Ic:ixv6FzHzzRk:qj6IDK7rITs\"><img src=\"http://feeds.feedburner.com/~ff/rss/cnn_topstories?d=qj6IDK7rITs\" border=\"0\"></img></a> <a href=\"http://rss.cnn.com/~ff/rss/cnn_topstories?a=Tq1POE9I4Ic:ixv6FzHzzRk:gIN9vFwOqvQ\"><img src=\"http://feeds.feedburner.com/~ff/rss/cnn_topstories?i=Tq1POE9I4Ic:ixv6FzHzzRk:gIN9vFwOqvQ\" border=\"0\"></img></a>\\n</div><img src=\"http://feeds.feedburner.com/~r/rss/cnn_topstories/~4/Tq1POE9I4Ic\" height=\"1\" width=\"1\" alt=\"\"/>',\n",
              "  'title': 'What one group of refugee girls is thankful for',\n",
              "  'url': 'http://rss.cnn.com/~r/rss/cnn_topstories/~3/Tq1POE9I4Ic/index.html'},\n",
              " {'description': 'The way Nathan Bain\\'s teammates mobbed him in the paint, you could tell what it meant when the unranked Stephen F. Austin Lumberjacks chopped down the No. 1 Duke Blue Devils.<div class=\"feedflare\">\\n<a href=\"http://rss.cnn.com/~ff/rss/cnn_topstories?a=nfL8-M7IbKI:8WJl-qpUHXI:yIl2AUoC8zA\"><img src=\"http://feeds.feedburner.com/~ff/rss/cnn_topstories?d=yIl2AUoC8zA\" border=\"0\"></img></a> <a href=\"http://rss.cnn.com/~ff/rss/cnn_topstories?a=nfL8-M7IbKI:8WJl-qpUHXI:7Q72WNTAKBA\"><img src=\"http://feeds.feedburner.com/~ff/rss/cnn_topstories?d=7Q72WNTAKBA\" border=\"0\"></img></a> <a href=\"http://rss.cnn.com/~ff/rss/cnn_topstories?a=nfL8-M7IbKI:8WJl-qpUHXI:V_sGLiPBpWU\"><img src=\"http://feeds.feedburner.com/~ff/rss/cnn_topstories?i=nfL8-M7IbKI:8WJl-qpUHXI:V_sGLiPBpWU\" border=\"0\"></img></a> <a href=\"http://rss.cnn.com/~ff/rss/cnn_topstories?a=nfL8-M7IbKI:8WJl-qpUHXI:qj6IDK7rITs\"><img src=\"http://feeds.feedburner.com/~ff/rss/cnn_topstories?d=qj6IDK7rITs\" border=\"0\"></img></a> <a href=\"http://rss.cnn.com/~ff/rss/cnn_topstories?a=nfL8-M7IbKI:8WJl-qpUHXI:gIN9vFwOqvQ\"><img src=\"http://feeds.feedburner.com/~ff/rss/cnn_topstories?i=nfL8-M7IbKI:8WJl-qpUHXI:gIN9vFwOqvQ\" border=\"0\"></img></a>\\n</div><img src=\"http://feeds.feedburner.com/~r/rss/cnn_topstories/~4/nfL8-M7IbKI\" height=\"1\" width=\"1\" alt=\"\"/>',\n",
              "  'title': 'His family lost almost everything in Hurricane Dorian. He beat Duke for them, he said',\n",
              "  'url': 'http://rss.cnn.com/~r/rss/cnn_topstories/~3/nfL8-M7IbKI/index.html'},\n",
              " {'description': 'The man who was holding his young granddaughter when she slipped out of his grasp and fell to her death from a Royal Caribbean cruise ship said he thought there was glass in the window where they were standing. \"It\\'s like it disappeared. It\\'s like the glass disappeared.\"<div class=\"feedflare\">\\n<a href=\"http://rss.cnn.com/~ff/rss/cnn_topstories?a=TOGAkksr7ts:9j-8wn-C3p4:yIl2AUoC8zA\"><img src=\"http://feeds.feedburner.com/~ff/rss/cnn_topstories?d=yIl2AUoC8zA\" border=\"0\"></img></a> <a href=\"http://rss.cnn.com/~ff/rss/cnn_topstories?a=TOGAkksr7ts:9j-8wn-C3p4:7Q72WNTAKBA\"><img src=\"http://feeds.feedburner.com/~ff/rss/cnn_topstories?d=7Q72WNTAKBA\" border=\"0\"></img></a> <a href=\"http://rss.cnn.com/~ff/rss/cnn_topstories?a=TOGAkksr7ts:9j-8wn-C3p4:V_sGLiPBpWU\"><img src=\"http://feeds.feedburner.com/~ff/rss/cnn_topstories?i=TOGAkksr7ts:9j-8wn-C3p4:V_sGLiPBpWU\" border=\"0\"></img></a> <a href=\"http://rss.cnn.com/~ff/rss/cnn_topstories?a=TOGAkksr7ts:9j-8wn-C3p4:qj6IDK7rITs\"><img src=\"http://feeds.feedburner.com/~ff/rss/cnn_topstories?d=qj6IDK7rITs\" border=\"0\"></img></a> <a href=\"http://rss.cnn.com/~ff/rss/cnn_topstories?a=TOGAkksr7ts:9j-8wn-C3p4:gIN9vFwOqvQ\"><img src=\"http://feeds.feedburner.com/~ff/rss/cnn_topstories?i=TOGAkksr7ts:9j-8wn-C3p4:gIN9vFwOqvQ\" border=\"0\"></img></a>\\n</div><img src=\"http://feeds.feedburner.com/~r/rss/cnn_topstories/~4/TOGAkksr7ts\" height=\"1\" width=\"1\" alt=\"\"/>',\n",
              "  'title': 'Grandfather cries as he recounts toddler falling to her death from a cruise ship',\n",
              "  'url': 'http://rss.cnn.com/~r/rss/cnn_topstories/~3/TOGAkksr7ts/index.html'},\n",
              " {'description': '<div class=\"feedflare\">\\n<a href=\"http://rss.cnn.com/~ff/rss/cnn_topstories?a=YS87wjj4DEY:JmFE3x4M_Lw:yIl2AUoC8zA\"><img src=\"http://feeds.feedburner.com/~ff/rss/cnn_topstories?d=yIl2AUoC8zA\" border=\"0\"></img></a> <a href=\"http://rss.cnn.com/~ff/rss/cnn_topstories?a=YS87wjj4DEY:JmFE3x4M_Lw:7Q72WNTAKBA\"><img src=\"http://feeds.feedburner.com/~ff/rss/cnn_topstories?d=7Q72WNTAKBA\" border=\"0\"></img></a> <a href=\"http://rss.cnn.com/~ff/rss/cnn_topstories?a=YS87wjj4DEY:JmFE3x4M_Lw:V_sGLiPBpWU\"><img src=\"http://feeds.feedburner.com/~ff/rss/cnn_topstories?i=YS87wjj4DEY:JmFE3x4M_Lw:V_sGLiPBpWU\" border=\"0\"></img></a> <a href=\"http://rss.cnn.com/~ff/rss/cnn_topstories?a=YS87wjj4DEY:JmFE3x4M_Lw:qj6IDK7rITs\"><img src=\"http://feeds.feedburner.com/~ff/rss/cnn_topstories?d=qj6IDK7rITs\" border=\"0\"></img></a> <a href=\"http://rss.cnn.com/~ff/rss/cnn_topstories?a=YS87wjj4DEY:JmFE3x4M_Lw:gIN9vFwOqvQ\"><img src=\"http://feeds.feedburner.com/~ff/rss/cnn_topstories?i=YS87wjj4DEY:JmFE3x4M_Lw:gIN9vFwOqvQ\" border=\"0\"></img></a>\\n</div><img src=\"http://feeds.feedburner.com/~r/rss/cnn_topstories/~4/YS87wjj4DEY\" height=\"1\" width=\"1\" alt=\"\"/>',\n",
              "  'title': \"Enter the 'universal museum' of human creativity\",\n",
              "  'url': 'http://rss.cnn.com/~r/rss/cnn_topstories/~3/YS87wjj4DEY/'},\n",
              " {'description': '<div class=\"feedflare\">\\n<a href=\"http://rss.cnn.com/~ff/rss/cnn_topstories?a=AoBMQEjkVIk:DT87IGVECA8:yIl2AUoC8zA\"><img src=\"http://feeds.feedburner.com/~ff/rss/cnn_topstories?d=yIl2AUoC8zA\" border=\"0\"></img></a> <a href=\"http://rss.cnn.com/~ff/rss/cnn_topstories?a=AoBMQEjkVIk:DT87IGVECA8:7Q72WNTAKBA\"><img src=\"http://feeds.feedburner.com/~ff/rss/cnn_topstories?d=7Q72WNTAKBA\" border=\"0\"></img></a> <a href=\"http://rss.cnn.com/~ff/rss/cnn_topstories?a=AoBMQEjkVIk:DT87IGVECA8:V_sGLiPBpWU\"><img src=\"http://feeds.feedburner.com/~ff/rss/cnn_topstories?i=AoBMQEjkVIk:DT87IGVECA8:V_sGLiPBpWU\" border=\"0\"></img></a> <a href=\"http://rss.cnn.com/~ff/rss/cnn_topstories?a=AoBMQEjkVIk:DT87IGVECA8:qj6IDK7rITs\"><img src=\"http://feeds.feedburner.com/~ff/rss/cnn_topstories?d=qj6IDK7rITs\" border=\"0\"></img></a> <a href=\"http://rss.cnn.com/~ff/rss/cnn_topstories?a=AoBMQEjkVIk:DT87IGVECA8:gIN9vFwOqvQ\"><img src=\"http://feeds.feedburner.com/~ff/rss/cnn_topstories?i=AoBMQEjkVIk:DT87IGVECA8:gIN9vFwOqvQ\" border=\"0\"></img></a>\\n</div><img src=\"http://feeds.feedburner.com/~r/rss/cnn_topstories/~4/AoBMQEjkVIk\" height=\"1\" width=\"1\" alt=\"\"/>',\n",
              "  'title': 'The people making art deals for the super rich',\n",
              "  'url': 'http://rss.cnn.com/~r/rss/cnn_topstories/~3/AoBMQEjkVIk/index.html'},\n",
              " {'description': '<div class=\"feedflare\">\\n<a href=\"http://rss.cnn.com/~ff/rss/cnn_topstories?a=33F_w5n-b10:BzvCK61G1rQ:yIl2AUoC8zA\"><img src=\"http://feeds.feedburner.com/~ff/rss/cnn_topstories?d=yIl2AUoC8zA\" border=\"0\"></img></a> <a href=\"http://rss.cnn.com/~ff/rss/cnn_topstories?a=33F_w5n-b10:BzvCK61G1rQ:7Q72WNTAKBA\"><img src=\"http://feeds.feedburner.com/~ff/rss/cnn_topstories?d=7Q72WNTAKBA\" border=\"0\"></img></a> <a href=\"http://rss.cnn.com/~ff/rss/cnn_topstories?a=33F_w5n-b10:BzvCK61G1rQ:V_sGLiPBpWU\"><img src=\"http://feeds.feedburner.com/~ff/rss/cnn_topstories?i=33F_w5n-b10:BzvCK61G1rQ:V_sGLiPBpWU\" border=\"0\"></img></a> <a href=\"http://rss.cnn.com/~ff/rss/cnn_topstories?a=33F_w5n-b10:BzvCK61G1rQ:qj6IDK7rITs\"><img src=\"http://feeds.feedburner.com/~ff/rss/cnn_topstories?d=qj6IDK7rITs\" border=\"0\"></img></a> <a href=\"http://rss.cnn.com/~ff/rss/cnn_topstories?a=33F_w5n-b10:BzvCK61G1rQ:gIN9vFwOqvQ\"><img src=\"http://feeds.feedburner.com/~ff/rss/cnn_topstories?i=33F_w5n-b10:BzvCK61G1rQ:gIN9vFwOqvQ\" border=\"0\"></img></a>\\n</div><img src=\"http://feeds.feedburner.com/~r/rss/cnn_topstories/~4/33F_w5n-b10\" height=\"1\" width=\"1\" alt=\"\"/>',\n",
              "  'title': \"The beauty of Japan's lonely vending machines\",\n",
              "  'url': 'http://rss.cnn.com/~r/rss/cnn_topstories/~3/33F_w5n-b10/index.html'},\n",
              " {'description': '<div class=\"feedflare\">\\n<a href=\"http://rss.cnn.com/~ff/rss/cnn_topstories?a=Jx7glrCUuaY:xxDQbzE7l64:yIl2AUoC8zA\"><img src=\"http://feeds.feedburner.com/~ff/rss/cnn_topstories?d=yIl2AUoC8zA\" border=\"0\"></img></a> <a href=\"http://rss.cnn.com/~ff/rss/cnn_topstories?a=Jx7glrCUuaY:xxDQbzE7l64:7Q72WNTAKBA\"><img src=\"http://feeds.feedburner.com/~ff/rss/cnn_topstories?d=7Q72WNTAKBA\" border=\"0\"></img></a> <a href=\"http://rss.cnn.com/~ff/rss/cnn_topstories?a=Jx7glrCUuaY:xxDQbzE7l64:V_sGLiPBpWU\"><img src=\"http://feeds.feedburner.com/~ff/rss/cnn_topstories?i=Jx7glrCUuaY:xxDQbzE7l64:V_sGLiPBpWU\" border=\"0\"></img></a> <a href=\"http://rss.cnn.com/~ff/rss/cnn_topstories?a=Jx7glrCUuaY:xxDQbzE7l64:qj6IDK7rITs\"><img src=\"http://feeds.feedburner.com/~ff/rss/cnn_topstories?d=qj6IDK7rITs\" border=\"0\"></img></a> <a href=\"http://rss.cnn.com/~ff/rss/cnn_topstories?a=Jx7glrCUuaY:xxDQbzE7l64:gIN9vFwOqvQ\"><img src=\"http://feeds.feedburner.com/~ff/rss/cnn_topstories?i=Jx7glrCUuaY:xxDQbzE7l64:gIN9vFwOqvQ\" border=\"0\"></img></a>\\n</div><img src=\"http://feeds.feedburner.com/~r/rss/cnn_topstories/~4/Jx7glrCUuaY\" height=\"1\" width=\"1\" alt=\"\"/>',\n",
              "  'title': \"How the Soviet 'Concordski' crashed and burned\",\n",
              "  'url': 'http://rss.cnn.com/~r/rss/cnn_topstories/~3/Jx7glrCUuaY/index.html'},\n",
              " {'description': '<div class=\"feedflare\">\\n<a href=\"http://rss.cnn.com/~ff/rss/cnn_topstories?a=V4PwszIxgIw:iVyDUOv6ANU:yIl2AUoC8zA\"><img src=\"http://feeds.feedburner.com/~ff/rss/cnn_topstories?d=yIl2AUoC8zA\" border=\"0\"></img></a> <a href=\"http://rss.cnn.com/~ff/rss/cnn_topstories?a=V4PwszIxgIw:iVyDUOv6ANU:7Q72WNTAKBA\"><img src=\"http://feeds.feedburner.com/~ff/rss/cnn_topstories?d=7Q72WNTAKBA\" border=\"0\"></img></a> <a href=\"http://rss.cnn.com/~ff/rss/cnn_topstories?a=V4PwszIxgIw:iVyDUOv6ANU:V_sGLiPBpWU\"><img src=\"http://feeds.feedburner.com/~ff/rss/cnn_topstories?i=V4PwszIxgIw:iVyDUOv6ANU:V_sGLiPBpWU\" border=\"0\"></img></a> <a href=\"http://rss.cnn.com/~ff/rss/cnn_topstories?a=V4PwszIxgIw:iVyDUOv6ANU:qj6IDK7rITs\"><img src=\"http://feeds.feedburner.com/~ff/rss/cnn_topstories?d=qj6IDK7rITs\" border=\"0\"></img></a> <a href=\"http://rss.cnn.com/~ff/rss/cnn_topstories?a=V4PwszIxgIw:iVyDUOv6ANU:gIN9vFwOqvQ\"><img src=\"http://feeds.feedburner.com/~ff/rss/cnn_topstories?i=V4PwszIxgIw:iVyDUOv6ANU:gIN9vFwOqvQ\" border=\"0\"></img></a>\\n</div><img src=\"http://feeds.feedburner.com/~r/rss/cnn_topstories/~4/V4PwszIxgIw\" height=\"1\" width=\"1\" alt=\"\"/>',\n",
              "  'title': 'These popular logos are all hiding a secret',\n",
              "  'url': 'http://rss.cnn.com/~r/rss/cnn_topstories/~3/V4PwszIxgIw/index.html'},\n",
              " {'description': '<div class=\"feedflare\">\\n<a href=\"http://rss.cnn.com/~ff/rss/cnn_topstories?a=FHaVszhuonw:ynPiqGEw2S0:yIl2AUoC8zA\"><img src=\"http://feeds.feedburner.com/~ff/rss/cnn_topstories?d=yIl2AUoC8zA\" border=\"0\"></img></a> <a href=\"http://rss.cnn.com/~ff/rss/cnn_topstories?a=FHaVszhuonw:ynPiqGEw2S0:7Q72WNTAKBA\"><img src=\"http://feeds.feedburner.com/~ff/rss/cnn_topstories?d=7Q72WNTAKBA\" border=\"0\"></img></a> <a href=\"http://rss.cnn.com/~ff/rss/cnn_topstories?a=FHaVszhuonw:ynPiqGEw2S0:V_sGLiPBpWU\"><img src=\"http://feeds.feedburner.com/~ff/rss/cnn_topstories?i=FHaVszhuonw:ynPiqGEw2S0:V_sGLiPBpWU\" border=\"0\"></img></a> <a href=\"http://rss.cnn.com/~ff/rss/cnn_topstories?a=FHaVszhuonw:ynPiqGEw2S0:qj6IDK7rITs\"><img src=\"http://feeds.feedburner.com/~ff/rss/cnn_topstories?d=qj6IDK7rITs\" border=\"0\"></img></a> <a href=\"http://rss.cnn.com/~ff/rss/cnn_topstories?a=FHaVszhuonw:ynPiqGEw2S0:gIN9vFwOqvQ\"><img src=\"http://feeds.feedburner.com/~ff/rss/cnn_topstories?i=FHaVszhuonw:ynPiqGEw2S0:gIN9vFwOqvQ\" border=\"0\"></img></a>\\n</div><img src=\"http://feeds.feedburner.com/~r/rss/cnn_topstories/~4/FHaVszhuonw\" height=\"1\" width=\"1\" alt=\"\"/>',\n",
              "  'title': 'Turning trash into high fashion',\n",
              "  'url': 'http://rss.cnn.com/~r/rss/cnn_topstories/~3/FHaVszhuonw/index.html'},\n",
              " {'description': 'What a gift to wrap up not only the end of the year, but also the end of a decade.<div class=\"feedflare\">\\n<a href=\"http://rss.cnn.com/~ff/rss/cnn_topstories?a=mBL4q4kh-VA:vMNxvuIXRck:yIl2AUoC8zA\"><img src=\"http://feeds.feedburner.com/~ff/rss/cnn_topstories?d=yIl2AUoC8zA\" border=\"0\"></img></a> <a href=\"http://rss.cnn.com/~ff/rss/cnn_topstories?a=mBL4q4kh-VA:vMNxvuIXRck:7Q72WNTAKBA\"><img src=\"http://feeds.feedburner.com/~ff/rss/cnn_topstories?d=7Q72WNTAKBA\" border=\"0\"></img></a> <a href=\"http://rss.cnn.com/~ff/rss/cnn_topstories?a=mBL4q4kh-VA:vMNxvuIXRck:V_sGLiPBpWU\"><img src=\"http://feeds.feedburner.com/~ff/rss/cnn_topstories?i=mBL4q4kh-VA:vMNxvuIXRck:V_sGLiPBpWU\" border=\"0\"></img></a> <a href=\"http://rss.cnn.com/~ff/rss/cnn_topstories?a=mBL4q4kh-VA:vMNxvuIXRck:qj6IDK7rITs\"><img src=\"http://feeds.feedburner.com/~ff/rss/cnn_topstories?d=qj6IDK7rITs\" border=\"0\"></img></a> <a href=\"http://rss.cnn.com/~ff/rss/cnn_topstories?a=mBL4q4kh-VA:vMNxvuIXRck:gIN9vFwOqvQ\"><img src=\"http://feeds.feedburner.com/~ff/rss/cnn_topstories?i=mBL4q4kh-VA:vMNxvuIXRck:gIN9vFwOqvQ\" border=\"0\"></img></a>\\n</div><img src=\"http://feeds.feedburner.com/~r/rss/cnn_topstories/~4/mBL4q4kh-VA\" height=\"1\" width=\"1\" alt=\"\"/>',\n",
              "  'title': \"See what's streaming in December\",\n",
              "  'url': 'http://rss.cnn.com/~r/rss/cnn_topstories/~3/mBL4q4kh-VA/index.html'},\n",
              " {'description': 'Every year there\\'s a new onslaught of holiday movies and TV specials. And almost without exception, what they mostly do is demonstrate that conjuring true holiday magic is a whole lot harder than it looks, providing an incentive to go back and re-watch the old ones.<div class=\"feedflare\">\\n<a href=\"http://rss.cnn.com/~ff/rss/cnn_topstories?a=Y9-WQbjRbHs:QtX3Vnw-hPs:yIl2AUoC8zA\"><img src=\"http://feeds.feedburner.com/~ff/rss/cnn_topstories?d=yIl2AUoC8zA\" border=\"0\"></img></a> <a href=\"http://rss.cnn.com/~ff/rss/cnn_topstories?a=Y9-WQbjRbHs:QtX3Vnw-hPs:7Q72WNTAKBA\"><img src=\"http://feeds.feedburner.com/~ff/rss/cnn_topstories?d=7Q72WNTAKBA\" border=\"0\"></img></a> <a href=\"http://rss.cnn.com/~ff/rss/cnn_topstories?a=Y9-WQbjRbHs:QtX3Vnw-hPs:V_sGLiPBpWU\"><img src=\"http://feeds.feedburner.com/~ff/rss/cnn_topstories?i=Y9-WQbjRbHs:QtX3Vnw-hPs:V_sGLiPBpWU\" border=\"0\"></img></a> <a href=\"http://rss.cnn.com/~ff/rss/cnn_topstories?a=Y9-WQbjRbHs:QtX3Vnw-hPs:qj6IDK7rITs\"><img src=\"http://feeds.feedburner.com/~ff/rss/cnn_topstories?d=qj6IDK7rITs\" border=\"0\"></img></a> <a href=\"http://rss.cnn.com/~ff/rss/cnn_topstories?a=Y9-WQbjRbHs:QtX3Vnw-hPs:gIN9vFwOqvQ\"><img src=\"http://feeds.feedburner.com/~ff/rss/cnn_topstories?i=Y9-WQbjRbHs:QtX3Vnw-hPs:gIN9vFwOqvQ\" border=\"0\"></img></a>\\n</div><img src=\"http://feeds.feedburner.com/~r/rss/cnn_topstories/~4/Y9-WQbjRbHs\" height=\"1\" width=\"1\" alt=\"\"/>',\n",
              "  'title': 'With holiday movies and TV, oldies still golden',\n",
              "  'url': 'http://rss.cnn.com/~r/rss/cnn_topstories/~3/Y9-WQbjRbHs/index.html'}]"
            ]
          },
          "metadata": {
            "tags": []
          },
          "execution_count": 88
        }
      ]
    },
    {
      "cell_type": "markdown",
      "metadata": {
        "id": "Wp0huVvtwJhY",
        "colab_type": "text"
      },
      "source": [
        "# Parse Web Pages"
      ]
    },
    {
      "cell_type": "code",
      "metadata": {
        "id": "6smIcHD3x4VL",
        "colab_type": "code",
        "colab": {}
      },
      "source": [
        "from bs4 import BeautifulSoup\n",
        "import requests\n",
        "\n",
        "def get_text(url):\n",
        "  html = requests.get(url)\n",
        "  soup = BeautifulSoup(html.text)\n",
        "\n",
        "  for script in soup([\"script\", \"style\"]):\n",
        "      script.decompose()    # rip it out\n",
        "  text = soup.find('section', {'id':'body-text'}).get_text()\n",
        "\n",
        "  # get text\n",
        "  # text = soup.get_text()\n",
        "  # break into lines and remove leading and trailing space on each\n",
        "  lines = (line.strip() for line in text.splitlines())\n",
        "  # break multi-headlines into a line each\n",
        "  chunks = (phrase.strip() for line in lines for phrase in line.split(\"  \"))\n",
        "  # drop blank lines\n",
        "  text = '\\n'.join(chunk for chunk in chunks if chunk)\n",
        "  start = text.find('(CNN)')\n",
        "  end = text.find('\\nSearch')\n",
        "  return text[start+5:end]"
      ],
      "execution_count": 0,
      "outputs": []
    },
    {
      "cell_type": "code",
      "metadata": {
        "id": "vJb0rf-j9TFw",
        "colab_type": "code",
        "outputId": "9863f41d-aa7b-4378-9af4-3adff338f8b8",
        "colab": {
          "base_uri": "https://localhost:8080/",
          "height": 55
        }
      },
      "source": [
        "test = get_text('http://rss.cnn.com/~r/rss/cnn_topstories/~3/CO9DFp_HIA4/index.html')\n",
        "test"
      ],
      "execution_count": 53,
      "outputs": [
        {
          "output_type": "execute_result",
          "data": {
            "text/plain": [
              "'On a recent November evening, Bob Blackman scrolled through his phone in a nondescript Indian restaurant in west London, sparsely decorated except for stock pictures of East African sunsets and lions. He proudly pointed to his phone\\'s background photo, which shows him smiling next to Indian Prime Minister Narendra Modi.\"I\\'ve been to India seven times in the last three years,\" Blackman said, sipping a cup of chai, his cheeks flushed from canvassing in the cold, ahead of Britain\\'s first December election in nearly a century. \"I am well-known for being a very pro-Indian supporter.\"Across the table, Kuldeep Singh Shekhawat, the head of a UK-based pressure group linked to Modi\\'s Bharatiya Janata Party (BJP), chimed in: \"A hundred percent.\" Blackman is a three-term member of Parliament for Harrow East, a racially and religiously diverse constituency where 28.2% of the residents are Hindu. The Conservative Party politician has a track record of championing Indian -- more specifically, Hindu -- concerns.Read MoreBrexit and healthcare are the dominant issues in this campaign, but Shekhawat is hoping that a geopolitical crisis some 4,000 miles away will play a decisive role in swinging this tightly-contested seat in Blackman\\'s favor.Shekhawat\\'s organization, the Overseas Friends of BJP UK (OFBJP), is among dozens of Hindu groups in the UK that are calling on 1.4 million British Indians to turn their backs on the main opposition Labour Party, over its criticism of Modi\\'s crackdown on the Indian-controlled part of the disputed Kashmir region.UK inquiry was warned of Russian infiltration, leaked testimony showsThe intrusion of the Kashmir issue on the campaign trail has stirred tensions at a time of rising fears of foreign influence on elections everywhere.Critics in the UK say Modi\\'s tactics in India -- promoting a nationalist Hindu agenda at the expense of the country\\'s diverse minority groups -- are now being exported by his supporters around the world. The activities of the OFBJP, which has roughly 40 chapters globally, are often coordinated by the external affairs department of Modi\\'s party. And while analysts say it is unlikely that the Hindu nationalist groups\\' strategy will change many minds in Britain, for Shekhawat, every vote is important in what is expected to be a close election.Skyrocketing tensions\\nIndia and Pakistan have been fighting over Jammu and Kashmir ever since both countries gained independence from British colonial rule in 1947. Both nations claim the disputed region in full.In August, India stunned the world by stripping Jammu and Kashmir -- India\\'s only Muslim-majority state -- of its partial autonomy, sparking outrage in Pakistan and raising tensions between the two nuclear rivals. Communications have been suspended, politicians have been jailed and civil rights curtailed, leading to fears for ordinary Kashmiris.The crisis also struck a raw nerve in Britain; the two largest minority ethnic groups in England and Wales are Indian and Pakistani, respectively. In London, thousands of people demonstrated outside India\\'s High Commission.Thousands demonstrated outside India\\'s High Commission in London in August. In late September, during its annual conference, the Labour Party passed a motion criticizing India\\'s moves in Kashmir as \"human rights violations\" and declaring that people in the region should be given the right\\nto self-determination. India\\'s foreign ministry reacted with outrage, accusing Labour of \"pandering to vote-bank interests.\" Earlier this month, Labour revised its position on Kashmir, announcing in a letter from the party\\'s chairman that the issue was \"a bilateral matter for India and Pakistan\" to solve and warning that the issue \"must not be allowed to divide communities against each other here in the UK.\" But the party\\'s U-turn failed to quell the outrage from UK-based Hindu groups.\"The issue here is Jeremy Corbyn [the Labour Party leader] is anti-India and anti-Hindu,\" Trupti Patel, the president of the Hindu Forum of Britain, an umbrella group representing Hindu organizations in the UK, told CNN.The party that wants to rule Britain seems intent on ripping itself apart\"If you want to play the politics of voting blocs, then let\\'s play the politics of voting blocs,\" Patel said, adding that the Hindu Forum would be pushing Hindus to vote for anyone but Labour. A Labour Party spokesperson told CNN that \"we hugely value and respect the British Indian community\" and that people of Indian origin \"are active right throughout the Labour movement.\" But Labour has also been criticized for failing to shortlist more British Indians in target seats, especially in areas with large South Asian communities such as Leicester, Ealing, and Ilford. Former Labour councilor and Parliamentary candidate Sundip Meghani, who lost the selection process in Leicester East, said the decision to choose a non-South Asian candidate was a \"kick in the face\" to \"one of the most prominent South Asian constituencies in the country.\" JUST WATCHEDWhat\\'s at stake in Britain\\'s volatile electionReplayMore Videos ...MUST WATCHWhat\\'s at stake in Britain\\'s volatile election 03:00\"They [the Labour Party] did it with the Jewish community, and it is now doing it with the Indian community: taking loyal, solid voters for granted,\" Meghani told CNN, referring to criticism over Labour\\'s handling of a recent wave of anti-Semitic incidents within the party.A Labour spokesman told CNN that its new candidate, Claudia Webbe, is \"proud to be Leicester-born and bred, and honored to be representing the community where her family still live.\" \\'Receptive of Indian concerns\\'Surveys show that minorities overwhelmingly support the Labour Party, which has traditionally gained the lion\\'s share of the vote among British Pakistanis and Indians. But the Conservatives have seen their\\nvote share increase among the latter, specifically among Hindus, according to a report by race equality think tank, the Runnymede Trust.Bob Blackman has worked hard to target Hindus with appeals to nationalist causes on the subcontinent. Blackman\\'s own position on Kashmir -- that it belongs to India -- is a position that \"really unites every Indian,\" he said.\\n\"Jammu and Kashmir is an integral part of India, and the illegal occupation by Pakistan on parts of sovereign India should end,\" Blackman said.\\n[Kashmir] is a minority issue, but it\\'s an important minority issue.\"Closer to home, he told CNN, the Conservative values of \"hard work, entrepreneurship, standing on your own two feet, and not relying on state benefits\" are reflected in Britain\\'s Indian community.When asked to clarify whether he meant to say British Hindus, he replied: \"Yeah, Hindu values.\"In secular India, it\\'s getting tougher to be Muslim\"I think it\\'s true for Muslims as well, Indian Muslims,\" he added. \"I don\\'t differentiate between the two.\" Shekhawat, from the OFBJP UK, said the Hindu organizations will target around 40 marginal seats that \"are more receptive of Indian concerns\" to vote for the Conservatives, though he and the leaders of other groups struggled to explain how the targeting will actually work.\"We have not got a strategy as such,\" said Patel from the Hindu Forum. She said that members, in their personal capacity, would canvass for Conservative candidates around the country.A good example, said Shekhawat, is the marginal seat of Canterbury, which Labour won by 187 votes in 2017. \"If there are 200 Indians living there and they vote Conservative, the seat could be called,\" he said. From the BJP playbookModi addressed a packed-out Wembley Stadium in 2015.Modi\\'s Bharatiya Janata Party swept to power in 2014 on a rising tide of Hindu nationalism that has spread across India in recent years, and the OFBJP has become a key tool in his diaspora diplomacy.The group\\'s UK chapter helped organize the Prime Minister\\'s visit to London in 2015, when some 60,000 British Indians packed Wembley Stadium for a rally in his honor, along with a second trip last year.One anti-racism group that has investigated the activities of Hindu nationalists says Shekhawat\\'s efforts are a prime example of how the BJP\\'s interests are amplified in the UK. India\\'s Modi made the election a referendum on his leadership -- and it paid off Suresh Grover, a human rights campaigner and director of the Monitoring Group, said OFBJP branches were established in the US and UK to \"regularly discuss how to popularize BJP policies overseas, including changing the UK\\'s perception of Modi himself.\" \"They [the BJP] are very, very sensitive to how the British Parliament or the American Senate look at issues of democratic rights in India or religious freedom ... That is where the Kashmiri issue comes in,\" he added.Shekhawat denied that the OFBJP UK is essentially the British wing of Modi\\'s party. \"We are not BJP ... we are just a pressure group,\" he said.But there are links between the two. The BJP\\'s foreign affairs chief in New Delhi, Vijay Chauthaiwale, was described as the chief of the OFBJP in a post on the OFBJP UK website in March 2017. The post republished an article written by the Sunday Business Standard newspaper in India, which asked Chauthaiwale what his plans were for the group.Modi\\'s Bharatiya Janata Party swept to power in 2014 on a rising tide of Hindu nationalism.\"We are also encouraging — and we plan to pursue this more aggressively in the months to come — the Indian diaspora to become part of [Modi\\'s] social programs,\" he told the paper in 2017.When contacted by CNN, Chauthaiwale declined to say whether he was still the head of the OFBJP globally. He acknowledged that he coordinates \"the activities of Overseas Friends of BJP on behalf of the party,\" but said that \"each unit is independent.\" Modi says India\\'s minorities are living in world of imaginary fear. Muslims disagreeCharles Parton, a former diplomat and senior associate fellow at the Royal United Services Institute (RUSI) think tank, said the pressure group\\'s campaign would not amount to foreign interference as long as it was run by British citizens and not financed by a foreign government. \"If the Overseas Friends of the BJP are UK citizens, self-funded, then they have a right to urge other UK citizens to vote for \\'Party X or \\'Party Y\\',\" Parton told CNN.\\nThe BJP has denied financial links to OFBJP UK or any Hindu organization in Britain. \"We as [the] BJP have no stakes in the UK elections. We are, of course, watching the UK elections with keen interest and what its impact will be on India-UK relations,\" Chauthaiwale told CNN.Others have accused Hindu groups -- and Blackman himself -- of finding common cause with Islamophobes and other extremists.Bob Blackman speaks to Conservative campaigners ahead of a canvassing event in Harrow East. Blackman was accused earlier this year of being a member of far-right and Islamophobic Facebook groups, and sharing an anti-Muslim post by far-right activist Tommy Robinson, in a letter by the Muslim Council of Britain to the UK\\'s human rights watchdog. Blackman repeatedly denied being Islamophobic, has said he joined the groups by accident, and told Channel 4 that he did not know it was Robinson who had shared the post. Blackman was also criticized for co-hosting a Diwali event in Parliament in 2017 which featured far-right Hindu activist Tapan Ghosh, who has appeared in an interview with Robinson, as the keynote speaker. The Conservative candidate denied inviting Ghosh and insisted he \"did not agree with his views.\"Blackman firmly denies that his pro-India stance on Kashmir is another expression of anti-Muslim sentiment. \"It\\'s not Islamophobic, far from it. It is a case of representing everyone,\" he said. Historical precedentConservative canvass the west London constituency of Harrow East in November 2019.\\nIt will be an uphill climb for Blackman and other pro-India candidates to win the Indian diaspora over, especially when only 44% of 1.4 million British Indians identify as Hindu.\\n\"The Conservative Party is only half as likely to win an ethnic minority vote as a white British voter,\" and it is not because of the education level or socio-economic position of ethnic minorities, it\\'s \"despite it,\" Sunder Katwala, the director of British Future, a think tank specializing in integration and migration, told CNN. There are historical precedents as to why, say experts. In the 1960s, Enoch Powell, a Conservative MP, caused a political storm over an anti-immigration speech he made as the Labour government was attempting to pass the country\\'s first-ever race relations legislation. And in 1990, Conservative party grandee Norman Tebbit suggested to the Los Angeles Times that the loyalty of British Asians could be tested by which cricket team they supported. The UK has an Islamophobia problem. Muslims want to know what Boris Johnson is going to do about itRecent scandals may also see the Conservatives, \"from a very low base, go backward with black and Muslim voters,\" Katwala added. These include allegations of Islamophobia in the Conservative Party, and what\\'s seen as a lingering anti-immigrant legacy, dating back to former Prime Minister Theresa May\\'s \"hostile environment\" policy towards immigrants.But Britain\\'s minorities do not vote homogenously, according to experts on voting behavior who said there was little evidence that foreign policy issues like Kashmir will compel them to switch parties. \"Your views about an issue like Kashmir or an issue like Palestine might feed your world view, but voters, on the whole, don\\'t vote on foreign policy issues,\" Katwala said, citing a systematic study on minority voting behavior, the 2010 Ethnic Minority British Election Survey. One of its authors, Maria Sobolewska, professor of political science at the University of Manchester, described the Hindu nationalist strategy as \"hot air.\" British Indians are most likely, compared to other ethnic minorities, to say \"religious institutions should not meddle in politics,\" she told CNN, citing her research into the role religion plays in political mobilization.Brexit and healthcare have become dominant issues in the December election. Nor would seat targeting be a nationally viable electoral strategy, according to Omar Khan, head of the Runnymede Trust. \"In all of Britain, there are around 15 seats where Indians are even 15% of the population, so there\\'s not enough to swing it,\" (to a large Conservative majority), Khan said.\"To me, it does not look like an electoral strategy, it signals to British Asians that you must be a Hindu nationalist to be a proper Indian,\" Khan added. That antipathy towards foreign policy influencing their vote was evident among Blackman\\'s constituents on a cold morning in Harrow in mid-November as Conservative campaign volunteers approached the mid-century terraced homes that ringed a local park.\\nBundled up in a sweater, Priti, a Hindu mother-of-two who refused to give her full name, said she planned to vote Conservative, but that it had nothing to do with Kashmir.Factcheck fiasco shows Twitter is still being abused by politicians \"No one has spoken about it and what you have to consider is most people worry about what happens locally,\" the 48-year-old, who backs the Conservatives\\' Brexit position, said. \"Not something that is so far away.\"After a spirited debate with a Conservative volunteer, Shahid-Abbas Jaffer, a 20-year-old British Indian student who is Muslim, told CNN that Kashmir was not a \"make or break issue\" for him. He said he will vote Labour and he wants a second referendum on Brexit.That does not stop Blackman, because every issue is a potential pathway to holding onto his seat. After posing for a group picture, Blackman told volunteers to target \"certain doors\" and convince voters to get out to the polling stations on election day.\\nAnd how does one do that, asked one volunteer?Remind them what the critical issues are, Blackman replied. \"Is it Brexit; is it to do with the economy, or is it something about India, like Jammu and Kashmir?\" Tara John reported and wrote from London. Swati Gupta reported from New Delhi'"
            ]
          },
          "metadata": {
            "tags": []
          },
          "execution_count": 53
        }
      ]
    },
    {
      "cell_type": "markdown",
      "metadata": {
        "id": "MmiMdnk2wKeC",
        "colab_type": "text"
      },
      "source": [
        "# Create Tags with LDA"
      ]
    },
    {
      "cell_type": "code",
      "metadata": {
        "id": "L_PJrs2Li2zC",
        "colab_type": "code",
        "colab": {}
      },
      "source": [
        "import spacy\n",
        "import en_core_web_sm\n",
        "nlp = en_core_web_sm.load()"
      ],
      "execution_count": 0,
      "outputs": []
    },
    {
      "cell_type": "code",
      "metadata": {
        "id": "_sNeNlOsx4y9",
        "colab_type": "code",
        "outputId": "20c1ee75-3918-4bde-8da1-df476b1a6199",
        "colab": {
          "base_uri": "https://localhost:8080/",
          "height": 1000
        }
      },
      "source": [
        "test = test.replace('\\n', ' ')\n",
        "test = test.lower().split('.')\n",
        "test"
      ],
      "execution_count": 55,
      "outputs": [
        {
          "output_type": "execute_result",
          "data": {
            "text/plain": [
              "['on a recent november evening, bob blackman scrolled through his phone in a nondescript indian restaurant in west london, sparsely decorated except for stock pictures of east african sunsets and lions',\n",
              " \" he proudly pointed to his phone's background photo, which shows him smiling next to indian prime minister narendra modi\",\n",
              " '\"i\\'ve been to india seven times in the last three years,\" blackman said, sipping a cup of chai, his cheeks flushed from canvassing in the cold, ahead of britain\\'s first december election in nearly a century',\n",
              " ' \"i am well-known for being a very pro-indian supporter',\n",
              " '\"across the table, kuldeep singh shekhawat, the head of a uk-based pressure group linked to modi\\'s bharatiya janata party (bjp), chimed in: \"a hundred percent',\n",
              " '\" blackman is a three-term member of parliament for harrow east, a racially and religiously diverse constituency where 28',\n",
              " '2% of the residents are hindu',\n",
              " ' the conservative party politician has a track record of championing indian -- more specifically, hindu -- concerns',\n",
              " \"read morebrexit and healthcare are the dominant issues in this campaign, but shekhawat is hoping that a geopolitical crisis some 4,000 miles away will play a decisive role in swinging this tightly-contested seat in blackman's favor\",\n",
              " \"shekhawat's organization, the overseas friends of bjp uk (ofbjp), is among dozens of hindu groups in the uk that are calling on 1\",\n",
              " \"4 million british indians to turn their backs on the main opposition labour party, over its criticism of modi's crackdown on the indian-controlled part of the disputed kashmir region\",\n",
              " 'uk inquiry was warned of russian infiltration, leaked testimony showsthe intrusion of the kashmir issue on the campaign trail has stirred tensions at a time of rising fears of foreign influence on elections everywhere',\n",
              " \"critics in the uk say modi's tactics in india -- promoting a nationalist hindu agenda at the expense of the country's diverse minority groups -- are now being exported by his supporters around the world\",\n",
              " \" the activities of the ofbjp, which has roughly 40 chapters globally, are often coordinated by the external affairs department of modi's party\",\n",
              " \" and while analysts say it is unlikely that the hindu nationalist groups' strategy will change many minds in britain, for shekhawat, every vote is important in what is expected to be a close election\",\n",
              " 'skyrocketing tensions india and pakistan have been fighting over jammu and kashmir ever since both countries gained independence from british colonial rule in 1947',\n",
              " ' both nations claim the disputed region in full',\n",
              " \"in august, india stunned the world by stripping jammu and kashmir -- india's only muslim-majority state -- of its partial autonomy, sparking outrage in pakistan and raising tensions between the two nuclear rivals\",\n",
              " ' communications have been suspended, politicians have been jailed and civil rights curtailed, leading to fears for ordinary kashmiris',\n",
              " 'the crisis also struck a raw nerve in britain; the two largest minority ethnic groups in england and wales are indian and pakistani, respectively',\n",
              " \" in london, thousands of people demonstrated outside india's high commission\",\n",
              " \"thousands demonstrated outside india's high commission in london in august\",\n",
              " ' in late september, during its annual conference, the labour party passed a motion criticizing india\\'s moves in kashmir as \"human rights violations\" and declaring that people in the region should be given the right to self-determination',\n",
              " ' india\\'s foreign ministry reacted with outrage, accusing labour of \"pandering to vote-bank interests',\n",
              " '\" earlier this month, labour revised its position on kashmir, announcing in a letter from the party\\'s chairman that the issue was \"a bilateral matter for india and pakistan\" to solve and warning that the issue \"must not be allowed to divide communities against each other here in the uk',\n",
              " '\" but the party\\'s u-turn failed to quell the outrage from uk-based hindu groups',\n",
              " '\"the issue here is jeremy corbyn [the labour party leader] is anti-india and anti-hindu,\" trupti patel, the president of the hindu forum of britain, an umbrella group representing hindu organizations in the uk, told cnn',\n",
              " 'the party that wants to rule britain seems intent on ripping itself apart\"if you want to play the politics of voting blocs, then let\\'s play the politics of voting blocs,\" patel said, adding that the hindu forum would be pushing hindus to vote for anyone but labour',\n",
              " ' a labour party spokesperson told cnn that \"we hugely value and respect the british indian community\" and that people of indian origin \"are active right throughout the labour movement',\n",
              " '\" but labour has also been criticized for failing to shortlist more british indians in target seats, especially in areas with large south asian communities such as leicester, ealing, and ilford',\n",
              " ' former labour councilor and parliamentary candidate sundip meghani, who lost the selection process in leicester east, said the decision to choose a non-south asian candidate was a \"kick in the face\" to \"one of the most prominent south asian constituencies in the country',\n",
              " '\" just watchedwhat\\'s at stake in britain\\'s volatile electionreplaymore videos ',\n",
              " '',\n",
              " '',\n",
              " 'must watchwhat\\'s at stake in britain\\'s volatile election 03:00\"they [the labour party] did it with the jewish community, and it is now doing it with the indian community: taking loyal, solid voters for granted,\" meghani told cnn, referring to criticism over labour\\'s handling of a recent wave of anti-semitic incidents within the party',\n",
              " 'a labour spokesman told cnn that its new candidate, claudia webbe, is \"proud to be leicester-born and bred, and honored to be representing the community where her family still live',\n",
              " '\" \\'receptive of indian concerns\\'surveys show that minorities overwhelmingly support the labour party, which has traditionally gained the lion\\'s share of the vote among british pakistanis and indians',\n",
              " ' but the conservatives have seen their vote share increase among the latter, specifically among hindus, according to a report by race equality think tank, the runnymede trust',\n",
              " 'bob blackman has worked hard to target hindus with appeals to nationalist causes on the subcontinent',\n",
              " ' blackman\\'s own position on kashmir -- that it belongs to india -- is a position that \"really unites every indian,\" he said',\n",
              " ' \"jammu and kashmir is an integral part of india, and the illegal occupation by pakistan on parts of sovereign india should end,\" blackman said',\n",
              " \" [kashmir] is a minority issue, but it's an important minority issue\",\n",
              " '\"closer to home, he told cnn, the conservative values of \"hard work, entrepreneurship, standing on your own two feet, and not relying on state benefits\" are reflected in britain\\'s indian community',\n",
              " 'when asked to clarify whether he meant to say british hindus, he replied: \"yeah, hindu values',\n",
              " '\"in secular india, it\\'s getting tougher to be muslim\"i think it\\'s true for muslims as well, indian muslims,\" he added',\n",
              " ' \"i don\\'t differentiate between the two',\n",
              " '\" shekhawat, from the ofbjp uk, said the hindu organizations will target around 40 marginal seats that \"are more receptive of indian concerns\" to vote for the conservatives, though he and the leaders of other groups struggled to explain how the targeting will actually work',\n",
              " '\"we have not got a strategy as such,\" said patel from the hindu forum',\n",
              " ' she said that members, in their personal capacity, would canvass for conservative candidates around the country',\n",
              " 'a good example, said shekhawat, is the marginal seat of canterbury, which labour won by 187 votes in 2017',\n",
              " ' \"if there are 200 indians living there and they vote conservative, the seat could be called,\" he said',\n",
              " ' from the bjp playbookmodi addressed a packed-out wembley stadium in 2015',\n",
              " \"modi's bharatiya janata party swept to power in 2014 on a rising tide of hindu nationalism that has spread across india in recent years, and the ofbjp has become a key tool in his diaspora diplomacy\",\n",
              " \"the group's uk chapter helped organize the prime minister's visit to london in 2015, when some 60,000 british indians packed wembley stadium for a rally in his honor, along with a second trip last year\",\n",
              " \"one anti-racism group that has investigated the activities of hindu nationalists says shekhawat's efforts are a prime example of how the bjp's interests are amplified in the uk\",\n",
              " ' india\\'s modi made the election a referendum on his leadership -- and it paid off suresh grover, a human rights campaigner and director of the monitoring group, said ofbjp branches were established in the us and uk to \"regularly discuss how to popularize bjp policies overseas, including changing the uk\\'s perception of modi himself',\n",
              " '\" \"they [the bjp] are very, very sensitive to how the british parliament or the american senate look at issues of democratic rights in india or religious freedom ',\n",
              " '',\n",
              " '',\n",
              " ' that is where the kashmiri issue comes in,\" he added',\n",
              " \"shekhawat denied that the ofbjp uk is essentially the british wing of modi's party\",\n",
              " ' \"we are not bjp ',\n",
              " '',\n",
              " '',\n",
              " ' we are just a pressure group,\" he said',\n",
              " 'but there are links between the two',\n",
              " \" the bjp's foreign affairs chief in new delhi, vijay chauthaiwale, was described as the chief of the ofbjp in a post on the ofbjp uk website in march 2017\",\n",
              " ' the post republished an article written by the sunday business standard newspaper in india, which asked chauthaiwale what his plans were for the group',\n",
              " \"modi's bharatiya janata party swept to power in 2014 on a rising tide of hindu nationalism\",\n",
              " '\"we are also encouraging — and we plan to pursue this more aggressively in the months to come — the indian diaspora to become part of [modi\\'s] social programs,\" he told the paper in 2017',\n",
              " 'when contacted by cnn, chauthaiwale declined to say whether he was still the head of the ofbjp globally',\n",
              " ' he acknowledged that he coordinates \"the activities of overseas friends of bjp on behalf of the party,\" but said that \"each unit is independent',\n",
              " '\" modi says india\\'s minorities are living in world of imaginary fear',\n",
              " \" muslims disagreecharles parton, a former diplomat and senior associate fellow at the royal united services institute (rusi) think tank, said the pressure group's campaign would not amount to foreign interference as long as it was run by british citizens and not financed by a foreign government\",\n",
              " ' \"if the overseas friends of the bjp are uk citizens, self-funded, then they have a right to urge other uk citizens to vote for \\'party x or \\'party y\\',\" parton told cnn',\n",
              " ' the bjp has denied financial links to ofbjp uk or any hindu organization in britain',\n",
              " ' \"we as [the] bjp have no stakes in the uk elections',\n",
              " ' we are, of course, watching the uk elections with keen interest and what its impact will be on india-uk relations,\" chauthaiwale told cnn',\n",
              " 'others have accused hindu groups -- and blackman himself -- of finding common cause with islamophobes and other extremists',\n",
              " 'bob blackman speaks to conservative campaigners ahead of a canvassing event in harrow east',\n",
              " \" blackman was accused earlier this year of being a member of far-right and islamophobic facebook groups, and sharing an anti-muslim post by far-right activist tommy robinson, in a letter by the muslim council of britain to the uk's human rights watchdog\",\n",
              " ' blackman repeatedly denied being islamophobic, has said he joined the groups by accident, and told channel 4 that he did not know it was robinson who had shared the post',\n",
              " ' blackman was also criticized for co-hosting a diwali event in parliament in 2017 which featured far-right hindu activist tapan ghosh, who has appeared in an interview with robinson, as the keynote speaker',\n",
              " ' the conservative candidate denied inviting ghosh and insisted he \"did not agree with his views',\n",
              " '\"blackman firmly denies that his pro-india stance on kashmir is another expression of anti-muslim sentiment',\n",
              " ' \"it\\'s not islamophobic, far from it',\n",
              " ' it is a case of representing everyone,\" he said',\n",
              " ' historical precedentconservative canvass the west london constituency of harrow east in november 2019',\n",
              " ' it will be an uphill climb for blackman and other pro-india candidates to win the indian diaspora over, especially when only 44% of 1',\n",
              " '4 million british indians identify as hindu',\n",
              " ' \"the conservative party is only half as likely to win an ethnic minority vote as a white british voter,\" and it is not because of the education level or socio-economic position of ethnic minorities, it\\'s \"despite it,\" sunder katwala, the director of british future, a think tank specializing in integration and migration, told cnn',\n",
              " ' there are historical precedents as to why, say experts',\n",
              " \" in the 1960s, enoch powell, a conservative mp, caused a political storm over an anti-immigration speech he made as the labour government was attempting to pass the country's first-ever race relations legislation\",\n",
              " ' and in 1990, conservative party grandee norman tebbit suggested to the los angeles times that the loyalty of british asians could be tested by which cricket team they supported',\n",
              " ' the uk has an islamophobia problem',\n",
              " ' muslims want to know what boris johnson is going to do about itrecent scandals may also see the conservatives, \"from a very low base, go backward with black and muslim voters,\" katwala added',\n",
              " ' these include allegations of islamophobia in the conservative party, and what\\'s seen as a lingering anti-immigrant legacy, dating back to former prime minister theresa may\\'s \"hostile environment\" policy towards immigrants',\n",
              " \"but britain's minorities do not vote homogenously, according to experts on voting behavior who said there was little evidence that foreign policy issues like kashmir will compel them to switch parties\",\n",
              " ' \"your views about an issue like kashmir or an issue like palestine might feed your world view, but voters, on the whole, don\\'t vote on foreign policy issues,\" katwala said, citing a systematic study on minority voting behavior, the 2010 ethnic minority british election survey',\n",
              " ' one of its authors, maria sobolewska, professor of political science at the university of manchester, described the hindu nationalist strategy as \"hot air',\n",
              " '\" british indians are most likely, compared to other ethnic minorities, to say \"religious institutions should not meddle in politics,\" she told cnn, citing her research into the role religion plays in political mobilization',\n",
              " 'brexit and healthcare have become dominant issues in the december election',\n",
              " ' nor would seat targeting be a nationally viable electoral strategy, according to omar khan, head of the runnymede trust',\n",
              " ' \"in all of britain, there are around 15 seats where indians are even 15% of the population, so there\\'s not enough to swing it,\" (to a large conservative majority), khan said',\n",
              " '\"to me, it does not look like an electoral strategy, it signals to british asians that you must be a hindu nationalist to be a proper indian,\" khan added',\n",
              " \" that antipathy towards foreign policy influencing their vote was evident among blackman's constituents on a cold morning in harrow in mid-november as conservative campaign volunteers approached the mid-century terraced homes that ringed a local park\",\n",
              " ' bundled up in a sweater, priti, a hindu mother-of-two who refused to give her full name, said she planned to vote conservative, but that it had nothing to do with kashmir',\n",
              " 'factcheck fiasco shows twitter is still being abused by politicians \"no one has spoken about it and what you have to consider is most people worry about what happens locally,\" the 48-year-old, who backs the conservatives\\' brexit position, said',\n",
              " ' \"not something that is so far away',\n",
              " '\"after a spirited debate with a conservative volunteer, shahid-abbas jaffer, a 20-year-old british indian student who is muslim, told cnn that kashmir was not a \"make or break issue\" for him',\n",
              " ' he said he will vote labour and he wants a second referendum on brexit',\n",
              " 'that does not stop blackman, because every issue is a potential pathway to holding onto his seat',\n",
              " ' after posing for a group picture, blackman told volunteers to target \"certain doors\" and convince voters to get out to the polling stations on election day',\n",
              " ' and how does one do that, asked one volunteer?remind them what the critical issues are, blackman replied',\n",
              " ' \"is it brexit; is it to do with the economy, or is it something about india, like jammu and kashmir?\" tara john reported and wrote from london',\n",
              " ' swati gupta reported from new delhi']"
            ]
          },
          "metadata": {
            "tags": []
          },
          "execution_count": 55
        }
      ]
    },
    {
      "cell_type": "code",
      "metadata": {
        "id": "0T_FrUDPi8iM",
        "colab_type": "code",
        "colab": {}
      },
      "source": [
        "nlp.vocab['cnn'].is_stop = True\n",
        "nlp.Defaults.stop_words |= {'cnn', ''}\n",
        "def tokenize(text):\n",
        "  doc = nlp(text)\n",
        "  tokens = [token.text \n",
        "            for token in doc \n",
        "            if not token.is_stop and \n",
        "               not token.is_punct and\n",
        "               token.pos_ == 'NOUN']\n",
        "  return tokens\n",
        "for i, text in enumerate(test):\n",
        "  test[i] = tokenize(text)"
      ],
      "execution_count": 0,
      "outputs": []
    },
    {
      "cell_type": "code",
      "metadata": {
        "id": "bp8xM5gaqiMu",
        "colab_type": "code",
        "colab": {}
      },
      "source": [
        "from gensim.models.ldamulticore import LdaMulticore\n",
        "from gensim import corpora\n",
        "import re"
      ],
      "execution_count": 0,
      "outputs": []
    },
    {
      "cell_type": "code",
      "metadata": {
        "id": "E3lxTpVcppfa",
        "colab_type": "code",
        "colab": {}
      },
      "source": [
        "id2word = corpora.Dictionary(test)\n",
        "\n",
        "id2word.filter_extremes(no_below=5, no_above=0.9)\n",
        "corpus = [id2word.doc2bow(text) for text in test]\n",
        "lda = LdaMulticore(corpus=corpus,\n",
        "                   id2word=id2word,\n",
        "                   num_topics = 5,\n",
        "                   passes=10,\n",
        "                   workers=4)\n",
        "\n",
        "words = [re.findall(r'\"([^\"]*)\"',t[1]) for t in lda.print_topics()]\n",
        "topics = [' '.join(t[0:5]) for t in words]"
      ],
      "execution_count": 0,
      "outputs": []
    },
    {
      "cell_type": "code",
      "metadata": {
        "id": "ADNQZMWuqnhj",
        "colab_type": "code",
        "outputId": "ec75737f-0f43-417a-f21d-95aa0c489c21",
        "colab": {
          "base_uri": "https://localhost:8080/",
          "height": 35
        }
      },
      "source": [
        "topics[0]"
      ],
      "execution_count": 59,
      "outputs": [
        {
          "output_type": "execute_result",
          "data": {
            "text/plain": [
              "'party britain labour indians modi'"
            ]
          },
          "metadata": {
            "tags": []
          },
          "execution_count": 59
        }
      ]
    },
    {
      "cell_type": "markdown",
      "metadata": {
        "id": "tcz5JOigwN0m",
        "colab_type": "text"
      },
      "source": [
        "# Sentiment Analysis"
      ]
    },
    {
      "cell_type": "code",
      "metadata": {
        "id": "IxkY7m99x5PR",
        "colab_type": "code",
        "colab": {}
      },
      "source": [
        "from textblob import TextBlob\n",
        "def get_sentiment(text): \n",
        "    analysis = TextBlob(text) \n",
        "\n",
        "    if analysis.sentiment.polarity > 0: \n",
        "        return 'positive', analysis\n",
        "    elif analysis.sentiment.polarity == 0: \n",
        "        return 'neutral', analysis.sentiment.polarity\n",
        "    else: \n",
        "        return 'negative', analysis.sentiment.polarity"
      ],
      "execution_count": 0,
      "outputs": []
    },
    {
      "cell_type": "code",
      "metadata": {
        "id": "BxJALd__wEfl",
        "colab_type": "code",
        "colab": {}
      },
      "source": [
        "_, temp = get_sentiment(get_text('https://www.cnn.com/2019/11/22/us/trump-administration-seizing-border-wall-land/index.html'))"
      ],
      "execution_count": 0,
      "outputs": []
    },
    {
      "cell_type": "code",
      "metadata": {
        "id": "U872HI_xxGED",
        "colab_type": "code",
        "outputId": "b42aec41-f4d4-405e-8fd7-2afbfd62db2c",
        "colab": {
          "base_uri": "https://localhost:8080/",
          "height": 35
        }
      },
      "source": [
        "temp.sentiment"
      ],
      "execution_count": 62,
      "outputs": [
        {
          "output_type": "execute_result",
          "data": {
            "text/plain": [
              "Sentiment(polarity=0.0968393639300719, subjectivity=0.42498643195545843)"
            ]
          },
          "metadata": {
            "tags": []
          },
          "execution_count": 62
        }
      ]
    },
    {
      "cell_type": "code",
      "metadata": {
        "id": "DID53AlLx2ev",
        "colab_type": "code",
        "outputId": "a80a2a86-e476-45b8-a9c4-5ad31f1370e0",
        "colab": {
          "base_uri": "https://localhost:8080/",
          "height": 72
        }
      },
      "source": [
        "import nltk\n",
        "nltk.download('punkt')"
      ],
      "execution_count": 63,
      "outputs": [
        {
          "output_type": "stream",
          "text": [
            "[nltk_data] Downloading package punkt to /root/nltk_data...\n",
            "[nltk_data]   Package punkt is already up-to-date!\n"
          ],
          "name": "stdout"
        },
        {
          "output_type": "execute_result",
          "data": {
            "text/plain": [
              "True"
            ]
          },
          "metadata": {
            "tags": []
          },
          "execution_count": 63
        }
      ]
    },
    {
      "cell_type": "markdown",
      "metadata": {
        "id": "zFHcgR-nwQP6",
        "colab_type": "text"
      },
      "source": [
        "# Summarize"
      ]
    },
    {
      "cell_type": "code",
      "metadata": {
        "id": "HtgZ9q59x56e",
        "colab_type": "code",
        "outputId": "7c32d4d6-ce33-4d2b-dc22-2bcf7e0622cd",
        "colab": {
          "base_uri": "https://localhost:8080/",
          "height": 1000
        }
      },
      "source": [
        "article = get_text('http://rss.cnn.com/~r/rss/cnn_topstories/~3/CO9DFp_HIA4/index.html')\n",
        "article = article.replace('\\n', ' ')\n",
        "article = article.lower().split('.')\n",
        "article"
      ],
      "execution_count": 74,
      "outputs": [
        {
          "output_type": "execute_result",
          "data": {
            "text/plain": [
              "['on a recent november evening, bob blackman scrolled through his phone in a nondescript indian restaurant in west london, sparsely decorated except for stock pictures of east african sunsets and lions',\n",
              " \" he proudly pointed to his phone's background photo, which shows him smiling next to indian prime minister narendra modi\",\n",
              " '\"i\\'ve been to india seven times in the last three years,\" blackman said, sipping a cup of chai, his cheeks flushed from canvassing in the cold, ahead of britain\\'s first december election in nearly a century',\n",
              " ' \"i am well-known for being a very pro-indian supporter',\n",
              " '\"across the table, kuldeep singh shekhawat, the head of a uk-based pressure group linked to modi\\'s bharatiya janata party (bjp), chimed in: \"a hundred percent',\n",
              " '\" blackman is a three-term member of parliament for harrow east, a racially and religiously diverse constituency where 28',\n",
              " '2% of the residents are hindu',\n",
              " ' the conservative party politician has a track record of championing indian -- more specifically, hindu -- concerns',\n",
              " \" brexit and healthcare are the dominant issues in this campaign, but shekhawat is hoping that a geopolitical crisis some 4,000 miles away will play a decisive role in swinging this tightly-contested seat in blackman's favor\",\n",
              " \"shekhawat's organization, the overseas friends of bjp uk (ofbjp), is among dozens of hindu groups in the uk that are calling on 1\",\n",
              " \"4 million british indians to turn their backs on the main opposition labour party, over its criticism of modi's crackdown on the indian-controlled part of the disputed kashmir region\",\n",
              " 'uk inquiry was warned of russian infiltration, leaked testimony showsthe intrusion of the kashmir issue on the campaign trail has stirred tensions at a time of rising fears of foreign influence on elections everywhere',\n",
              " \"critics in the uk say modi's tactics in india -- promoting a nationalist hindu agenda at the expense of the country's diverse minority groups -- are now being exported by his supporters around the world\",\n",
              " \" the activities of the ofbjp, which has roughly 40 chapters globally, are often coordinated by the external affairs department of modi's party\",\n",
              " \" and while analysts say it is unlikely that the hindu nationalist groups' strategy will change many minds in britain, for shekhawat, every vote is important in what is expected to be a close election\",\n",
              " 'skyrocketing tensions     india and pakistan have been fighting over jammu and kashmir ever since both countries gained independence from british colonial rule in 1947',\n",
              " ' both nations claim the disputed region in full',\n",
              " \"in august, india stunned the world by stripping jammu and kashmir -- india's only muslim-majority state -- of its partial autonomy, sparking outrage in pakistan and raising tensions between the two nuclear rivals\",\n",
              " ' communications have been suspended, politicians have been jailed and civil rights curtailed, leading to fears for ordinary kashmiris',\n",
              " 'the crisis also struck a raw nerve in britain; the two largest minority ethnic groups in england and wales are indian and pakistani, respectively',\n",
              " \" in london, thousands of people demonstrated outside india's high commission\",\n",
              " \"thousands demonstrated outside india's high commission in london in august\",\n",
              " ' in late september, during its annual conference, the labour party passed a motion criticizing india\\'s moves in kashmir as \"human rights violations\" and declaring that people in the region should be given the right  to self-determination',\n",
              " ' india\\'s foreign ministry reacted with outrage, accusing labour of \"pandering to vote-bank interests',\n",
              " '\" earlier this month, labour revised its position on kashmir, announcing in a letter from the party\\'s chairman that the issue was \"a bilateral matter for india and pakistan\" to solve and warning that the issue \"must not be allowed to divide communities against each other here in the uk',\n",
              " '\" but the party\\'s u-turn failed to quell the outrage from uk-based hindu groups',\n",
              " '\"the issue here is jeremy corbyn [the labour party leader] is anti-india and anti-hindu,\" trupti patel, the president of the hindu forum of britain, an umbrella group representing hindu organizations in the uk, told cnn',\n",
              " 'the party that wants to rule britain seems intent on ripping itself apart\"if you want to play the politics of voting blocs, then let\\'s play the politics of voting blocs,\" patel said, adding that the hindu forum would be pushing hindus to vote for anyone but labour',\n",
              " ' a labour party spokesperson told cnn that \"we hugely value and respect the british indian community\" and that people of indian origin \"are active right throughout the labour movement',\n",
              " '\" but labour has also been criticized for failing to shortlist more british indians in target seats, especially in areas with large south asian communities such as leicester, ealing, and ilford',\n",
              " ' former labour councilor and parliamentary candidate sundip meghani, who lost the selection process in leicester east, said the decision to choose a non-south asian candidate was a \"kick in the face\" to \"one of the most prominent south asian constituencies in the country',\n",
              " '\" just watchedwhat\\'s at stake in britain\\'s volatile electionreplaymore videos ',\n",
              " '',\n",
              " '',\n",
              " 'must watchwhat\\'s at stake in britain\\'s volatile election 03:00\"they [the labour party] did it with the jewish community, and it is now doing it with the indian community: taking loyal, solid voters for granted,\" meghani told cnn, referring to criticism over labour\\'s handling of a recent wave of anti-semitic incidents within the party',\n",
              " 'a labour spokesman told cnn that its new candidate, claudia webbe, is \"proud to be leicester-born and bred, and honored to be representing the community where her family still live',\n",
              " '\" \\'receptive of indian concerns\\'surveys show that minorities overwhelmingly support the labour party, which has traditionally gained the lion\\'s share of the vote among british pakistanis and indians',\n",
              " ' but the conservatives have seen their  vote share increase among the latter, specifically among hindus, according to a report by race equality think tank, the runnymede trust',\n",
              " 'bob blackman has worked hard to target hindus with appeals to nationalist causes on the subcontinent',\n",
              " ' blackman\\'s own position on kashmir -- that it belongs to india -- is a position that \"really unites every indian,\" he said',\n",
              " '      \"jammu and kashmir is an integral part of india, and the illegal occupation by pakistan on parts of sovereign india should end,\" blackman said',\n",
              " \"  [kashmir] is a minority issue, but it's an important minority issue\",\n",
              " '\"closer to home, he told cnn, the conservative values of \"hard work, entrepreneurship, standing on your own two feet, and not relying on state benefits\" are reflected in britain\\'s indian community',\n",
              " 'when asked to clarify whether he meant to say british hindus, he replied: \"yeah, hindu values',\n",
              " '\"in secular india, it\\'s getting tougher to be muslim\"i think it\\'s true for muslims as well, indian muslims,\" he added',\n",
              " ' \"i don\\'t differentiate between the two',\n",
              " '\" shekhawat, from the ofbjp uk, said the hindu organizations will target around 40 marginal seats that \"are more receptive of indian concerns\" to vote for the conservatives, though he and the leaders of other groups struggled to explain how the targeting will actually work',\n",
              " '\"we have not got a strategy as such,\" said patel from the hindu forum',\n",
              " ' she said that members, in their personal capacity, would canvass for conservative candidates around the country',\n",
              " 'a good example, said shekhawat, is the marginal seat of canterbury, which labour won by 187 votes in 2017',\n",
              " ' \"if there are 200 indians living there and they vote conservative, the seat could be called,\" he said',\n",
              " ' from the bjp playbookmodi addressed a packed-out wembley stadium in 2015',\n",
              " \"modi's bharatiya janata party swept to power in 2014 on a rising tide of hindu nationalism that has spread across india in recent years, and the ofbjp has become a key tool in his diaspora diplomacy\",\n",
              " \"the group's uk chapter helped organize the prime minister's visit to london in 2015, when some 60,000 british indians packed wembley stadium for a rally in his honor, along with a second trip last year\",\n",
              " \"one anti-racism group that has investigated the activities of hindu nationalists says shekhawat's efforts are a prime example of how the bjp's interests are amplified in the uk\",\n",
              " ' india\\'s modi made the election a referendum on his leadership -- and it paid off suresh grover, a human rights campaigner and director of the monitoring group, said ofbjp branches were established in the us and uk to \"regularly discuss how to popularize bjp policies overseas, including changing the uk\\'s perception of modi himself',\n",
              " '\" \"they [the bjp] are very, very sensitive to how the british parliament or the american senate look at issues of democratic rights in india or religious freedom ',\n",
              " '',\n",
              " '',\n",
              " ' that is where the kashmiri issue comes in,\" he added',\n",
              " \"shekhawat denied that the ofbjp uk is essentially the british wing of modi's party\",\n",
              " ' \"we are not bjp ',\n",
              " '',\n",
              " '',\n",
              " ' we are just a pressure group,\" he said',\n",
              " 'but there are links between the two',\n",
              " \" the bjp's foreign affairs chief in new delhi, vijay chauthaiwale, was described as the chief of the ofbjp in a post on the ofbjp uk website in march 2017\",\n",
              " ' the post republished an article written by the sunday business standard newspaper in india, which asked chauthaiwale what his plans were for the group',\n",
              " \"modi's bharatiya janata party swept to power in 2014 on a rising tide of hindu nationalism\",\n",
              " '\"we are also encouraging — and we plan to pursue this more aggressively in the months to come — the indian diaspora to become part of [modi\\'s] social programs,\" he told the paper in 2017',\n",
              " 'when contacted by cnn, chauthaiwale declined to say whether he was still the head of the ofbjp globally',\n",
              " ' he acknowledged that he coordinates \"the activities of overseas friends of bjp on behalf of the party,\" but said that \"each unit is independent',\n",
              " '\" modi says india\\'s minorities are living in world of imaginary fear',\n",
              " \" muslims disagreecharles parton, a former diplomat and senior associate fellow at the royal united services institute (rusi) think tank, said the pressure group's campaign would not amount to foreign interference as long as it was run by british citizens and not financed by a foreign government\",\n",
              " ' \"if the overseas friends of the bjp are uk citizens, self-funded, then they have a right to urge other uk citizens to vote for \\'party x or \\'party y\\',\" parton told cnn',\n",
              " '  the bjp has denied financial links to ofbjp uk or any hindu organization in britain',\n",
              " ' \"we as [the] bjp have no stakes in the uk elections',\n",
              " ' we are, of course, watching the uk elections with keen interest and what its impact will be on india-uk relations,\" chauthaiwale told cnn',\n",
              " 'others have accused hindu groups -- and blackman himself -- of finding common cause with islamophobes and other extremists',\n",
              " 'bob blackman speaks to conservative campaigners ahead of a canvassing event in harrow east',\n",
              " \" blackman was accused earlier this year of being a member of far-right and islamophobic facebook groups, and sharing an anti-muslim post by far-right activist tommy robinson, in a letter by the muslim council of britain to the uk's human rights watchdog\",\n",
              " ' blackman repeatedly denied being islamophobic, has said he joined the groups by accident, and told channel 4 that he did not know it was robinson who had shared the post',\n",
              " ' blackman was also criticized for co-hosting a diwali event in parliament in 2017 which featured far-right hindu activist tapan ghosh, who has appeared in an interview with robinson, as the keynote speaker',\n",
              " ' the conservative candidate denied inviting ghosh and insisted he \"did not agree with his views',\n",
              " '\"blackman firmly denies that his pro-india stance on kashmir is another expression of anti-muslim sentiment',\n",
              " ' \"it\\'s not islamophobic, far from it',\n",
              " ' it is a case of representing everyone,\" he said',\n",
              " ' historical precedentconservative canvass the west london constituency of harrow east in november 2019',\n",
              " '  it will be an uphill climb for blackman and other pro-india candidates to win the indian diaspora over, especially when only 44% of 1',\n",
              " '4 million british indians identify as hindu',\n",
              " '   \"the conservative party is only half as likely to win an ethnic minority vote as a white british voter,\" and it is not because of the education level or socio-economic position of ethnic minorities, it\\'s \"despite it,\" sunder katwala, the director of british future, a think tank specializing in integration and migration, told cnn',\n",
              " ' there are historical precedents as to why, say experts',\n",
              " \" in the 1960s, enoch powell, a conservative mp, caused a political storm over an anti-immigration speech he made as the labour government was attempting to pass the country's first-ever race relations legislation\",\n",
              " ' and in 1990, conservative party grandee norman tebbit suggested to the los angeles times that the loyalty of british asians could be tested by which cricket team they supported',\n",
              " ' the uk has an islamophobia problem',\n",
              " ' muslims want to know what boris johnson is going to do about itrecent scandals may also see the conservatives, \"from a very low base, go backward with black and muslim voters,\" katwala added',\n",
              " ' these include allegations of islamophobia in the conservative party, and what\\'s seen as a lingering anti-immigrant legacy, dating back to former prime minister theresa may\\'s \"hostile environment\" policy towards immigrants',\n",
              " \"but britain's minorities do not vote homogenously, according to experts on voting behavior who said there was little evidence that foreign policy issues like kashmir will compel them to switch parties\",\n",
              " ' \"your views about an issue like kashmir or an issue like palestine might feed your world view, but voters, on the whole, don\\'t vote on foreign policy issues,\" katwala said, citing a systematic study on minority voting behavior, the 2010 ethnic minority british election survey',\n",
              " ' one of its authors, maria sobolewska, professor of political science at the university of manchester, described the hindu nationalist strategy as \"hot air',\n",
              " '\" british indians are most likely, compared to other ethnic minorities, to say \"religious institutions should not meddle in politics,\" she told cnn, citing her research into the role religion plays in political mobilization',\n",
              " 'brexit and healthcare have become dominant issues in the december election',\n",
              " ' nor would seat targeting be a nationally viable electoral strategy, according to omar khan, head of the runnymede trust',\n",
              " ' \"in all of britain, there are around 15 seats where indians are even 15% of the population, so there\\'s not enough to swing it,\" (to a large conservative majority), khan said',\n",
              " '\"to me, it does not look like an electoral strategy, it signals to british asians that you must be a hindu nationalist to be a proper indian,\" khan added',\n",
              " \" that antipathy towards foreign policy influencing their vote was evident among blackman's constituents on a cold morning in harrow in mid-november as conservative campaign volunteers approached the mid-century terraced homes that ringed a local park\",\n",
              " '  bundled up in a sweater, priti, a hindu mother-of-two who refused to give her full name, said she planned to vote conservative, but that it had nothing to do with kashmir',\n",
              " 'factcheck fiasco shows twitter is still being abused by politicians \"no one has spoken about it and what you have to consider is most people worry about what happens locally,\" the 48-year-old, who backs the conservatives\\' brexit position, said',\n",
              " ' \"not something that is so far away',\n",
              " '\"after a spirited debate with a conservative volunteer, shahid-abbas jaffer, a 20-year-old british indian student who is muslim, told cnn that kashmir was not a \"make or break issue\" for him',\n",
              " ' he said he will vote labour and he wants a second referendum on brexit',\n",
              " 'that does not stop blackman, because every issue is a potential pathway to holding onto his seat',\n",
              " ' after posing for a group picture, blackman told volunteers to target \"certain doors\" and convince voters to get out to the polling stations on election day',\n",
              " '  and how does one do that, asked one volunteer?remind them what the critical issues are, blackman replied',\n",
              " ' \"is it brexit; is it to do with the economy, or is it something about india, like jammu and kashmir?\" tara john reported and wrote from london',\n",
              " ' swati gupta reported from new delhi']"
            ]
          },
          "metadata": {
            "tags": []
          },
          "execution_count": 74
        }
      ]
    },
    {
      "cell_type": "code",
      "metadata": {
        "id": "Amd425k_Ty-g",
        "colab_type": "code",
        "colab": {}
      },
      "source": [
        "formatted_article = article[::]\n",
        "for i, text in enumerate(formatted_article):\n",
        "  formatted_article[i] = tokenize(text)"
      ],
      "execution_count": 0,
      "outputs": []
    },
    {
      "cell_type": "code",
      "metadata": {
        "id": "5lXdE3kuUIpq",
        "colab_type": "code",
        "colab": {}
      },
      "source": [
        "word_frequencies = {}\n",
        "for sentence in formatted_article:\n",
        "  for word in sentence:\n",
        "    if word not in word_frequencies.keys():\n",
        "      word_frequencies[word] = 1\n",
        "    else:\n",
        "      word_frequencies[word] += 1"
      ],
      "execution_count": 0,
      "outputs": []
    },
    {
      "cell_type": "code",
      "metadata": {
        "id": "TU7ioWqLWo3U",
        "colab_type": "code",
        "colab": {}
      },
      "source": [
        "maximum_frequency = max(word_frequencies.values())\n",
        "\n",
        "for word in word_frequencies.keys():\n",
        "    word_frequencies[word] = (word_frequencies[word]/maximum_frequency)"
      ],
      "execution_count": 0,
      "outputs": []
    },
    {
      "cell_type": "code",
      "metadata": {
        "id": "NfRvTkFgW5kq",
        "colab_type": "code",
        "colab": {}
      },
      "source": [
        "sentence_scores = {}\n",
        "for i, sentence in enumerate(article):\n",
        "  for word in formatted_article[i]:\n",
        "    if word in word_frequencies.keys():\n",
        "      if sentence not in sentence_scores.keys():\n",
        "        sentence_scores[sentence] = word_frequencies[word]\n",
        "      else:\n",
        "        sentence_scores[sentence] += word_frequencies[word]"
      ],
      "execution_count": 0,
      "outputs": []
    },
    {
      "cell_type": "code",
      "metadata": {
        "id": "QxAYcioAX7l3",
        "colab_type": "code",
        "outputId": "81525d08-0497-4a9e-a7d6-a9a23bcb5dc3",
        "colab": {
          "base_uri": "https://localhost:8080/",
          "height": 128
        }
      },
      "source": [
        "import heapq\n",
        "summary_sentences = heapq.nlargest(5, sentence_scores, key=sentence_scores.get)\n",
        "summary_sentences"
      ],
      "execution_count": 80,
      "outputs": [
        {
          "output_type": "execute_result",
          "data": {
            "text/plain": [
              "[' india\\'s modi made the election a referendum on his leadership -- and it paid off suresh grover, a human rights campaigner and director of the monitoring group, said ofbjp branches were established in the us and uk to \"regularly discuss how to popularize bjp policies overseas, including changing the uk\\'s perception of modi himself',\n",
              " '\" earlier this month, labour revised its position on kashmir, announcing in a letter from the party\\'s chairman that the issue was \"a bilateral matter for india and pakistan\" to solve and warning that the issue \"must not be allowed to divide communities against each other here in the uk',\n",
              " 'must watchwhat\\'s at stake in britain\\'s volatile election 03:00\"they [the labour party] did it with the jewish community, and it is now doing it with the indian community: taking loyal, solid voters for granted,\" meghani told cnn, referring to criticism over labour\\'s handling of a recent wave of anti-semitic incidents within the party',\n",
              " ' \"your views about an issue like kashmir or an issue like palestine might feed your world view, but voters, on the whole, don\\'t vote on foreign policy issues,\" katwala said, citing a systematic study on minority voting behavior, the 2010 ethnic minority british election survey',\n",
              " \"modi's bharatiya janata party swept to power in 2014 on a rising tide of hindu nationalism that has spread across india in recent years, and the ofbjp has become a key tool in his diaspora diplomacy\"]"
            ]
          },
          "metadata": {
            "tags": []
          },
          "execution_count": 80
        }
      ]
    },
    {
      "cell_type": "markdown",
      "metadata": {
        "id": "PdYQMcmUwVNn",
        "colab_type": "text"
      },
      "source": [
        "# Completed Output"
      ]
    },
    {
      "cell_type": "code",
      "metadata": {
        "id": "SVMG9dCoWRIY",
        "colab_type": "code",
        "colab": {
          "base_uri": "https://localhost:8080/",
          "height": 35
        },
        "outputId": "8eaea31a-2725-4dd3-ba7c-11defc695848"
      },
      "source": [
        "!pip install feedparser"
      ],
      "execution_count": 70,
      "outputs": [
        {
          "output_type": "stream",
          "text": [
            "Requirement already satisfied: feedparser in /usr/local/lib/python3.6/dist-packages (5.2.1)\n"
          ],
          "name": "stdout"
        }
      ]
    },
    {
      "cell_type": "code",
      "metadata": {
        "id": "xwF3t_P2W-Xw",
        "colab_type": "code",
        "colab": {
          "base_uri": "https://localhost:8080/",
          "height": 53
        },
        "outputId": "4da42f37-b139-4f20-f126-10886be330dd"
      },
      "source": [
        "import feedparser\n",
        "from bs4 import BeautifulSoup\n",
        "import requests\n",
        "import heapq\n",
        "import spacy\n",
        "from gensim.models.ldamulticore import LdaMulticore\n",
        "from gensim import corpora\n",
        "import re\n",
        "from textblob import TextBlob\n",
        "import nltk\n",
        "import en_core_web_sm\n",
        "nltk.download('punkt')\n",
        "nlp = en_core_web_sm.load()\n",
        "nlp.Defaults.stop_words |= {'cnn', ''}"
      ],
      "execution_count": 71,
      "outputs": [
        {
          "output_type": "stream",
          "text": [
            "[nltk_data] Downloading package punkt to /root/nltk_data...\n",
            "[nltk_data]   Package punkt is already up-to-date!\n"
          ],
          "name": "stdout"
        }
      ]
    },
    {
      "cell_type": "code",
      "metadata": {
        "id": "hZnRqQxWvK_-",
        "colab_type": "code",
        "colab": {}
      },
      "source": [
        "def read_feed(rss_url):\n",
        "  try:\n",
        "    rss_feed = feedparser.parse(rss_url)\n",
        "    return rss_feed\n",
        "  except:\n",
        "    return None\n",
        "\n",
        "\n",
        "def parse_rss_feed(rss_feed):\n",
        "  parsed_feed = []\n",
        "  \n",
        "  for entry in rss_feed.entries:\n",
        "    parsed_feed.append({\n",
        "        'title': entry.title,\n",
        "        'url': entry.link,\n",
        "        'description': entry.description[:entry.description.find('.')],\n",
        "        'summary': None,\n",
        "        'sentiment': None,\n",
        "        'topics': None,\n",
        "        'video': False\n",
        "    })\n",
        "\n",
        "  return parsed_feed\n",
        "\n",
        "\n",
        "def replacements(text):\n",
        "  stop_phrases = ['Read More', '\\n', ]\n",
        "  \n",
        "  for item in stop_phrases:\n",
        "    text = text.replace(item, ' ')\n",
        "  \n",
        "  return text\n",
        "\n",
        "\n",
        "def get_text(url):\n",
        "  html = requests.get(url)\n",
        "  soup = BeautifulSoup(html.text)\n",
        "\n",
        "  # Strip out any excess html\n",
        "  for script in soup([\"script\", \"style\"]):\n",
        "      script.decompose()\n",
        "\n",
        "  text = soup.find('section', {'id':'body-text'}).get_text() # CNN specific\n",
        "  text = replacements(text)\n",
        "  start = text.find('(CNN)') # CNN specific\n",
        "  end = text.find('\\nSearch') # CNN specific\n",
        "\n",
        "  return text[start+5:end]\n",
        "\n",
        "\n",
        "def get_sentiment(article): \n",
        "    analysis = TextBlob(article) \n",
        "\n",
        "    if analysis.sentiment.polarity > 0: \n",
        "        return 'positive'\n",
        "    elif analysis.sentiment.polarity == 0: \n",
        "        return 'neutral'\n",
        "    else: \n",
        "        return 'negative'\n",
        "\n",
        "\n",
        "def sentence_split(article):\n",
        "  article = text.split('.')\n",
        "  return article\n",
        "\n",
        "\n",
        "def tokenize_sentence(text):\n",
        "  doc = nlp(text.lower())\n",
        "  tokens = [token.text \n",
        "            for token in doc \n",
        "            if not token.is_stop and \n",
        "               not token.is_punct and\n",
        "               token.pos_ == 'NOUN']\n",
        "  return tokens\n",
        "\n",
        "\n",
        "def tokenize_article(article):\n",
        "  split_article = sentence_split(article)\n",
        "  for i, text in enumerate(split_article):\n",
        "    split_article[i] = tokenize_sentence(text)\n",
        "\n",
        "  return split_article\n",
        "\n",
        "\n",
        "def get_tags(tokenized_article):\n",
        "  id2word = corpora.Dictionary(tokenized_article)\n",
        "\n",
        "  id2word.filter_extremes(no_below=5, no_above=0.9)\n",
        "  corpus = [id2word.doc2bow(text) for text in tokenized_article]\n",
        "  lda = LdaMulticore(corpus=corpus,\n",
        "                    id2word=id2word,\n",
        "                    num_topics = 5,\n",
        "                    passes=10,\n",
        "                    workers=4)\n",
        "\n",
        "  words = [re.findall(r'\"([^\"]*)\"',t[1]) for t in lda.print_topics()]\n",
        "  topics = [' '.join(t[0:5]) for t in words]\n",
        "\n",
        "  return topics\n",
        "\n",
        "\n",
        "def weight_frequencies(word_frequencies):\n",
        "  maximum_frequency = max(word_frequencies.values())\n",
        "  \n",
        "  for word in word_frequencies.keys():\n",
        "    word_frequencies[word] = (word_frequencies[word]/maximum_frequency)\n",
        "  \n",
        "  return word_frequencies\n",
        "\n",
        "\n",
        "def get_word_frequencies(tokenized_article):\n",
        "  word_frequencies = {}\n",
        "\n",
        "  for sentence in tokenized_article:\n",
        "    for word in sentence:\n",
        "      if word not in word_frequencies.keys():\n",
        "        word_frequencies[word] = 1\n",
        "      else:\n",
        "        word_frequencies[word] += 1\n",
        "\n",
        "  return weight_frequencies(word_frequencies)\n",
        "\n",
        "\n",
        "def score_sentences(article, tokenized_article):\n",
        "  sentence_scores = {}\n",
        "  word_frequencies = get_word_frequencies(tokenized_article)\n",
        "  word_frequencies = weight_frequencies(word_frequencies)\n",
        "\n",
        "  for i, sentence in enumerate(sentence_split(article)):\n",
        "    for word in tokenized_article[i]:\n",
        "      if word in word_frequencies.keys():\n",
        "        if sentence not in sentence_scores.keys():\n",
        "          sentence_scores[sentence] = word_frequencies[word]\n",
        "        else:\n",
        "          sentence_scores[sentence] += word_frequencies[word]\n",
        "  \n",
        "  return sentence_scores\n",
        "\n",
        "\n",
        "def get_top_x_summary_sentences(article, tokenized_article, x):\n",
        "  scored_sentences = score_sentences(article, tokenized_article)\n",
        "\n",
        "  return heapq.nlargest(x, scored_sentences, key=scored_sentences.get)\n",
        "\n",
        "\n",
        "def print_synopsis(rss_feed_entry, tags, sentiment, summary_sentences):\n",
        "  print(rss_feed_entry['title'])\n",
        "  print('='*(len(rss_feed_entry['title'])+5))\n",
        "  print('Slugline:', rss_feed_entry['description'])\n",
        "  print('URL:', rss_feed_entry['url'])\n",
        "  print('Tags:', tags)\n",
        "  print('Sentiment:', sentiment)\n",
        "  print('Summary:')\n",
        "  print('.\\n'.join(summary_sentences))\n",
        "  print()"
      ],
      "execution_count": 0,
      "outputs": []
    },
    {
      "cell_type": "code",
      "metadata": {
        "id": "yjP4FuDV0mM6",
        "colab_type": "code",
        "colab": {
          "base_uri": "https://localhost:8080/",
          "height": 310
        },
        "outputId": "5bad5c83-0b92-44ef-f46b-22a30a3d132b"
      },
      "source": [
        "url = 'http://rss.cnn.com/rss/cnn_topstories.rss'\n",
        "rss_feed = read_feed(url)\n",
        "if rss_feed is None:\n",
        "  print('Error: Unable to read RSS Feed')\n",
        "else:\n",
        "  rss_feed = parse_rss_feed(rss_feed)\n",
        "\n",
        "for i, entry in enumerate(rss_feed):\n",
        "  try:\n",
        "    article = get_text(entry['url'])\n",
        "    print('1:', i)\n",
        "    split_article = sentence_split(article)\n",
        "    print('2:', i)\n",
        "    tokenized_article = tokenize_article(split_article)\n",
        "    print('3:', i)\n",
        "    # tags = get_tags(tokenized_article)\n",
        "    tags = ['placeholder', 'placeholder']\n",
        "    print('4:', i)\n",
        "    sentiment = get_sentiment(article)\n",
        "    print('5:', i)\n",
        "    # summary_sentences = get_top_x_summary_sentences(article, \n",
        "    #                                                 tokenized_article, 5)\n",
        "    summary_sentences = ['placeholder', 'placeholder']\n",
        "    print('6:', i)\n",
        "    print_synopsis(rss_feed[i], tags, sentiment, summary_sentences)\n",
        "    break\n",
        "  except:\n",
        "    rss_feed[i]['video'] = True\n",
        "    break\n",
        "    continue\n",
        "  \n",
        "\n",
        "  print()"
      ],
      "execution_count": 110,
      "outputs": [
        {
          "output_type": "stream",
          "text": [
            "1: 0\n",
            "2: 0\n",
            "3: 0\n",
            "4: 0\n",
            "5: 0\n",
            "6: 0\n",
            "Tensions are boiling over between senior military officers and the President over his intervention in cases of service members accused of war crimes\n",
            "=========================================================================================================================================================\n",
            "Slugline: Tensions that have been mounting for months between some of the nation's most senior military officers and President Donald Trump are boiling over after his decision to intervene in the cases of three service members accused of war crimes\n",
            "URL: http://rss.cnn.com/~r/rss/cnn_topstories/~3/0Z4wIIAT3QU/index.html\n",
            "Tags: ['placeholder', 'placeholder']\n",
            "Sentiment: positive\n",
            "Summary:\n",
            " swati gupta reported from new delhi\n",
            "\n"
          ],
          "name": "stdout"
        }
      ]
    },
    {
      "cell_type": "code",
      "metadata": {
        "id": "xrUCJpd5nurf",
        "colab_type": "code",
        "colab": {
          "base_uri": "https://localhost:8080/",
          "height": 72
        },
        "outputId": "a6d94741-7e01-44da-c049-78122fccb113"
      },
      "source": [
        "test = ['this is a test',\n",
        "        'another test',\n",
        "        'yet another test']\n",
        "print('.\\n'.join(test))"
      ],
      "execution_count": 95,
      "outputs": [
        {
          "output_type": "stream",
          "text": [
            "this is a test.\n",
            "another test.\n",
            "yet another test\n"
          ],
          "name": "stdout"
        }
      ]
    },
    {
      "cell_type": "code",
      "metadata": {
        "id": "F9dshwtJ5AAu",
        "colab_type": "code",
        "colab": {}
      },
      "source": [
        ""
      ],
      "execution_count": 0,
      "outputs": []
    }
  ]
}